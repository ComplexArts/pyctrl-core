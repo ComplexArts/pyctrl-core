{
 "cells": [
  {
   "cell_type": "markdown",
   "metadata": {},
   "source": [
    "#Identify Pendulum"
   ]
  },
  {
   "cell_type": "code",
   "execution_count": 1,
   "metadata": {
    "collapsed": false
   },
   "outputs": [],
   "source": [
    "import sys\n",
    "sys.path.append('..')"
   ]
  },
  {
   "cell_type": "code",
   "execution_count": 2,
   "metadata": {
    "collapsed": false
   },
   "outputs": [],
   "source": [
    "%matplotlib inline  \n",
    "import matplotlib\n",
    "import numpy as np\n",
    "import matplotlib.pyplot as plt\n",
    "import math\n",
    "import time"
   ]
  },
  {
   "cell_type": "code",
   "execution_count": 3,
   "metadata": {
    "collapsed": false
   },
   "outputs": [],
   "source": [
    "from ctrl.system.tf import PID\n",
    "from ctrl.block.linear import Gain, Feedback\n",
    "from ctrl.block.logger import Logger"
   ]
  },
  {
   "cell_type": "code",
   "execution_count": 5,
   "metadata": {
    "collapsed": false
   },
   "outputs": [],
   "source": [
    "from ctrl.client import Controller\n",
    "HOST, PORT = \"192.168.10.104\", 9999\n",
    "#HOST, PORT = \"localhost\", 9999\n",
    "controller = Controller(host = HOST, port = PORT)"
   ]
  },
  {
   "cell_type": "code",
   "execution_count": 8,
   "metadata": {
    "collapsed": false
   },
   "outputs": [
    {
     "name": "stdout",
     "output_type": "stream",
     "text": [
      "> Controller with 6 signal(s), 4 source(s), 1 sink(s), and 0 filter(s)\n",
      "> Controller with 6 signal(s), 4 source(s), 1 sink(s), and 0 filter(s)\n",
      "> signals\n",
      "  1. clock\n",
      "  2. encoder1\n",
      "  3. encoder2\n",
      "  4. is_running\n",
      "  5. motor1\n",
      "  6. pot1\n",
      "> sources\n",
      "  1. clock[enabled] >> clock\n",
      "  2. encoder1[enabled] >> encoder1\n",
      "  3. encoder2[enabled] >> encoder2\n",
      "  4. pot1[enabled] >> pot1\n",
      "> filters\n",
      "> sinks\n",
      "  1. motor1 >> motor1[enabled]\n",
      "\n"
     ]
    }
   ],
   "source": [
    "print(controller.info('all'))"
   ]
  },
  {
   "cell_type": "code",
   "execution_count": 9,
   "metadata": {
    "collapsed": false
   },
   "outputs": [],
   "source": [
    "controller.reset()\n",
    "controller.add_sink('logger', \n",
    "                    Logger(), \n",
    "                    ['clock', 'encoder1', 'motor1', 'encoder2'])"
   ]
  },
  {
   "cell_type": "code",
   "execution_count": 10,
   "metadata": {
    "collapsed": false
   },
   "outputs": [
    {
     "name": "stdout",
     "output_type": "stream",
     "text": [
      "> Controller with 6 signal(s), 4 source(s), 2 sink(s), and 0 filter(s)\n",
      "> Controller with 6 signal(s), 4 source(s), 2 sink(s), and 0 filter(s)\n",
      "> signals\n",
      "  1. clock\n",
      "  2. encoder1\n",
      "  3. encoder2\n",
      "  4. is_running\n",
      "  5. motor1\n",
      "  6. pot1\n",
      "> sources\n",
      "  1. clock[enabled] >> clock\n",
      "  2. encoder1[enabled] >> encoder1\n",
      "  3. encoder2[enabled] >> encoder2\n",
      "  4. pot1[enabled] >> pot1\n",
      "> filters\n",
      "> sinks\n",
      "  1. motor1 >> motor1[enabled]\n",
      "  2. clock, encoder1, motor1, encoder2 >> logger[enabled]\n",
      "\n"
     ]
    }
   ],
   "source": [
    "print(controller.info('all'))"
   ]
  },
  {
   "cell_type": "markdown",
   "metadata": {
    "collapsed": true
   },
   "source": [
    "# Identifying the Friction"
   ]
  },
  {
   "cell_type": "code",
   "execution_count": 12,
   "metadata": {
    "collapsed": false
   },
   "outputs": [],
   "source": [
    "controller.set_sink('logger',reset=True)\n",
    "with controller:\n",
    "    controller.set_signal('motor1',70)\n",
    "    time.sleep(.3)    \n",
    "    controller.set_signal('motor1',0)\n",
    "    time.sleep(5)\n",
    "log = controller.read_sink('logger')"
   ]
  },
  {
   "cell_type": "code",
   "execution_count": 13,
   "metadata": {
    "collapsed": true
   },
   "outputs": [],
   "source": [
    "t = log[:,0]\n",
    "phi = log[:,1]\n",
    "theta = log[:,3]\n",
    "motor = log[:,2]\n",
    "\n",
    "thetaDot = np.zeros(t.shape, float)\n",
    "thetaDot[1:] = (theta[1:]-theta[:-1])/(t[1:]-t[:-1])\n",
    "\n",
    "phiDot = np.zeros(t.shape, float)\n",
    "phiDot[1:] = (phi[1:]-phi[:-1])/(t[1:]-t[:-1])"
   ]
  },
  {
   "cell_type": "code",
   "execution_count": 14,
   "metadata": {
    "collapsed": false
   },
   "outputs": [
    {
     "data": {
      "image/png": "[encoded data removed]",
      "text/plain": [
       "<matplotlib.figure.Figure at 0x106734400>"
      ]
     },
     "metadata": {},
     "output_type": "display_data"
    }
   ],
   "source": [
    "plt.plot(t, phi*180/math.pi, 'b.', t, theta*180/math.pi, 'r.')\n",
    "plt.xlabel('t (s)')\n",
    "plt.ylabel('position (turns)')\n",
    "plt.grid()"
   ]
  },
  {
   "cell_type": "code",
   "execution_count": null,
   "metadata": {
    "collapsed": true
   },
   "outputs": [],
   "source": [
    "J2 = 0.0000348\n",
    "wn = 31.25\n",
    "\n",
    "Td = (4.3-.94)/4\n",
    "wd = 2*math.pi/Td\n",
    "zeta = math.sqrt(1-(wd/wn)**2)\n",
    "print('wd = {:5.3f}, wn = {:5.3f}, zeta = {:5.3f}'.format(wd,wn,zeta))\n",
    "bTheta = 4*J2*zeta*wn\n",
    "print('bTheta = {:5.3f}'.format(bTheta))"
   ]
  }
 ],
 "metadata": {
  "kernelspec": {
   "display_name": "Python 3",
   "language": "python",
   "name": "python3"
  },
  "language_info": {
   "codemirror_mode": {
    "name": "ipython",
    "version": 3
   },
   "file_extension": ".py",
   "mimetype": "text/x-python",
   "name": "python",
   "nbconvert_exporter": "python",
   "pygments_lexer": "ipython3",
   "version": "3.4.3"
  }
 },
 "nbformat": 4,
 "nbformat_minor": 0
}
