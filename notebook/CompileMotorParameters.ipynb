{
 "cells": [
  {
   "cell_type": "markdown",
   "metadata": {},
   "source": [
    "# Motor Identification"
   ]
  },
  {
   "cell_type": "markdown",
   "metadata": {},
   "source": [
    "In the first experiment:\n",
    "$$\n",
    "\\begin{aligned}\n",
    "J \\, \\dot{\\omega} + b \\, \\omega &= k \\, (v_a - v_0), &\n",
    "a &= \\frac{k}{b}, &\n",
    "\\lambda &= \\frac{b}{J}\n",
    "\\end{aligned}\n",
    "$$\n",
    "\n",
    "In the second experiment:\n",
    "$$\n",
    "\\begin{aligned}\n",
    "J' \\, \\dot{\\omega} + b' \\, \\omega &= k' \\, (v_a - v_0), &\n",
    "a' &= \\frac{k'}{b'}, &\n",
    "\\lambda' &= \\frac{b'}{J'}\n",
    "\\end{aligned}\n",
    "$$\n",
    "\n",
    "If:\n",
    "$$\n",
    "\\begin{aligned}\n",
    "J' &= J + J_a, &\n",
    "a &= \\frac{k}{b} \\approx \\frac{k'}{b'} = a', &\n",
    "b & \\approx b'\n",
    "\\end{aligned}\n",
    "$$\n",
    "then\n",
    "$$\n",
    "\\begin{aligned}\n",
    "\\rho^{-1} &= \\frac{\\lambda'}{\\lambda} = \\frac{b'}{b} \\frac{J}{J + J_a}= \\frac{b'}{b} \\frac{1}{1 + J_a/J} &\n",
    "& \\implies &\n",
    "J &= \\frac{1}{\\rho - 1} J_a\n",
    "\\end{aligned}\n",
    "$$\n",
    "\n",
    "Summarizing:\n",
    "$$\n",
    "\\begin{aligned}\n",
    "\\rho &= \\frac{\\lambda}{\\lambda'}, &\n",
    "J &= \\frac{1}{\\rho - 1} J_a, &\n",
    "b &= \\lambda \\, J, &\n",
    "k &= a \\, b.\n",
    "\\end{aligned}\n",
    "$$"
   ]
  },
  {
   "cell_type": "code",
   "execution_count": 32,
   "metadata": {
    "collapsed": true
   },
   "outputs": [],
   "source": [
    "import math"
   ]
  },
  {
   "cell_type": "code",
   "execution_count": 46,
   "metadata": {
    "collapsed": false
   },
   "outputs": [],
   "source": [
    "a1 = 0.066\n",
    "v01 = 9.880\n",
    "duty1 = 90.000\n",
    "omegabar1 = 4.973\n",
    "lambda1 = 22.284"
   ]
  },
  {
   "cell_type": "code",
   "execution_count": 47,
   "metadata": {
    "collapsed": false
   },
   "outputs": [],
   "source": [
    "a2 = 0.066\n",
    "v02 = 9.839\n",
    "duty2 = 90.000\n",
    "omegabar2 = 5.003\n",
    "lambda2 = 21.828"
   ]
  },
  {
   "cell_type": "code",
   "execution_count": 48,
   "metadata": {
    "collapsed": false
   },
   "outputs": [
    {
     "name": "stdout",
     "output_type": "stream",
     "text": [
      "Ja = 0.000086\n"
     ]
    }
   ],
   "source": [
    "#lamba = 12.9\n",
    "ma = 122/1000\n",
    "ra = 7.5/100/2\n",
    "Ja = ma*ra**2/2\n",
    "print('Ja = {:8.6f}'.format(Ja))"
   ]
  },
  {
   "cell_type": "code",
   "execution_count": 49,
   "metadata": {
    "collapsed": false
   },
   "outputs": [
    {
     "name": "stdout",
     "output_type": "stream",
     "text": [
      "rho = 1.020891\n",
      "Jm = 0.004106\n",
      "km = 0.006039\n",
      "bm = 0.091503\n"
     ]
    }
   ],
   "source": [
    "rho = lambda1/lambda2\n",
    "Jm = Ja/(rho-1)\n",
    "bm = lambda1 * Jm\n",
    "km = a1 * bm\n",
    "print('rho = {:8.6f}\\nJm = {:8.6f}\\nkm = {:8.6f}\\nbm = {:8.6f}'.format(rho,Jm,km,bm))"
   ]
  },
  {
   "cell_type": "code",
   "execution_count": null,
   "metadata": {
    "collapsed": true
   },
   "outputs": [],
   "source": []
  }
 ],
 "metadata": {
  "kernelspec": {
   "display_name": "Python 3",
   "language": "python",
   "name": "python3"
  },
  "language_info": {
   "codemirror_mode": {
    "name": "ipython",
    "version": 3
   },
   "file_extension": ".py",
   "mimetype": "text/x-python",
   "name": "python",
   "nbconvert_exporter": "python",
   "pygments_lexer": "ipython3",
   "version": "3.4.3"
  }
 },
 "nbformat": 4,
 "nbformat_minor": 0
}
