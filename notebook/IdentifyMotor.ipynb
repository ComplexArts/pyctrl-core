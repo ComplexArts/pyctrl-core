{
 "cells": [
  {
   "cell_type": "markdown",
   "metadata": {},
   "source": [
    "# Motor Identification"
   ]
  },
  {
   "cell_type": "code",
   "execution_count": 1,
   "metadata": {
    "collapsed": false
   },
   "outputs": [],
   "source": [
    "import sys\n",
    "sys.path.append('..')"
   ]
  },
  {
   "cell_type": "code",
   "execution_count": 2,
   "metadata": {
    "collapsed": false
   },
   "outputs": [],
   "source": [
    "%matplotlib inline  \n",
    "import matplotlib\n",
    "import numpy as np\n",
    "import matplotlib.pyplot as plt\n",
    "import math\n",
    "import time"
   ]
  },
  {
   "cell_type": "code",
   "execution_count": 4,
   "metadata": {
    "collapsed": false
   },
   "outputs": [],
   "source": [
    "from ctrl.block.linear import Gain, Feedback, Sum\n",
    "from ctrl.block.logger import Logger"
   ]
  },
  {
   "cell_type": "code",
   "execution_count": 5,
   "metadata": {
    "collapsed": false
   },
   "outputs": [],
   "source": [
    "from ctrl.client import Controller\n",
    "HOST, PORT = \"192.168.10.102\", 9999\n",
    "HOST, PORT = \"localhost\", 9999\n",
    "controller = Controller(host = HOST, port = PORT)"
   ]
  },
  {
   "cell_type": "markdown",
   "metadata": {},
   "source": [
    "##Static Reponse"
   ]
  },
  {
   "cell_type": "code",
   "execution_count": 6,
   "metadata": {
    "collapsed": false
   },
   "outputs": [
    {
     "ename": "ConnectionRefusedError",
     "evalue": "[Errno 61] Connection refused",
     "output_type": "error",
     "traceback": [
      "\u001b[0;31m---------------------------------------------------------------------------\u001b[0m",
      "\u001b[0;31mConnectionRefusedError\u001b[0m                    Traceback (most recent call last)",
      "\u001b[0;32m<ipython-input-6-e0b829a72eb9>\u001b[0m in \u001b[0;36m<module>\u001b[0;34m()\u001b[0m\n\u001b[0;32m----> 1\u001b[0;31m \u001b[0mcontroller\u001b[0m\u001b[0;34m.\u001b[0m\u001b[0mreset\u001b[0m\u001b[0;34m(\u001b[0m\u001b[0;34m)\u001b[0m\u001b[0;34m\u001b[0m\u001b[0m\n\u001b[0m\u001b[1;32m      2\u001b[0m controller.add_sink('logger', \n\u001b[1;32m      3\u001b[0m                     \u001b[0mLogger\u001b[0m\u001b[0;34m(\u001b[0m\u001b[0;34m)\u001b[0m\u001b[0;34m,\u001b[0m\u001b[0;34m\u001b[0m\u001b[0m\n\u001b[1;32m      4\u001b[0m                     ['clock', 'encoder1','motor1'])\n",
      "\u001b[0;32m/Users/mauricio/beaglebone/python/ctrl/client.py\u001b[0m in \u001b[0;36mreset\u001b[0;34m(self)\u001b[0m\n\u001b[1;32m    133\u001b[0m \u001b[0;34m\u001b[0m\u001b[0m\n\u001b[1;32m    134\u001b[0m     \u001b[0;32mdef\u001b[0m \u001b[0mreset\u001b[0m\u001b[0;34m(\u001b[0m\u001b[0mself\u001b[0m\u001b[0;34m)\u001b[0m\u001b[0;34m:\u001b[0m\u001b[0;34m\u001b[0m\u001b[0m\n\u001b[0;32m--> 135\u001b[0;31m         \u001b[0;32mreturn\u001b[0m \u001b[0mself\u001b[0m\u001b[0;34m.\u001b[0m\u001b[0msend\u001b[0m\u001b[0;34m(\u001b[0m\u001b[0;34m'Z'\u001b[0m\u001b[0;34m)\u001b[0m\u001b[0;34m\u001b[0m\u001b[0m\n\u001b[0m\u001b[1;32m    136\u001b[0m \u001b[0;34m\u001b[0m\u001b[0m\n\u001b[1;32m    137\u001b[0m     \u001b[0;31m# signals\u001b[0m\u001b[0;34m\u001b[0m\u001b[0;34m\u001b[0m\u001b[0m\n",
      "\u001b[0;32m/Users/mauricio/beaglebone/python/ctrl/client.py\u001b[0m in \u001b[0;36msend\u001b[0;34m(self, command, *vargs)\u001b[0m\n\u001b[1;32m     69\u001b[0m         \u001b[0mauto_close\u001b[0m \u001b[0;34m=\u001b[0m \u001b[0;32mFalse\u001b[0m\u001b[0;34m\u001b[0m\u001b[0m\n\u001b[1;32m     70\u001b[0m         \u001b[0;32mif\u001b[0m \u001b[0mself\u001b[0m\u001b[0;34m.\u001b[0m\u001b[0msocket\u001b[0m \u001b[0;32mis\u001b[0m \u001b[0;32mNone\u001b[0m\u001b[0;34m:\u001b[0m\u001b[0;34m\u001b[0m\u001b[0m\n\u001b[0;32m---> 71\u001b[0;31m             \u001b[0mself\u001b[0m\u001b[0;34m.\u001b[0m\u001b[0mopen\u001b[0m\u001b[0;34m(\u001b[0m\u001b[0;34m)\u001b[0m\u001b[0;34m\u001b[0m\u001b[0m\n\u001b[0m\u001b[1;32m     72\u001b[0m             \u001b[0mauto_close\u001b[0m \u001b[0;34m=\u001b[0m \u001b[0;32mTrue\u001b[0m\u001b[0;34m\u001b[0m\u001b[0m\n\u001b[1;32m     73\u001b[0m \u001b[0;34m\u001b[0m\u001b[0m\n",
      "\u001b[0;32m/Users/mauricio/beaglebone/python/ctrl/client.py\u001b[0m in \u001b[0;36mopen\u001b[0;34m(self)\u001b[0m\n\u001b[1;32m     49\u001b[0m         \u001b[0;32mif\u001b[0m \u001b[0mself\u001b[0m\u001b[0;34m.\u001b[0m\u001b[0msocket\u001b[0m \u001b[0;32mis\u001b[0m \u001b[0;32mNone\u001b[0m\u001b[0;34m:\u001b[0m\u001b[0;34m\u001b[0m\u001b[0m\n\u001b[1;32m     50\u001b[0m             \u001b[0mself\u001b[0m\u001b[0;34m.\u001b[0m\u001b[0msocket\u001b[0m \u001b[0;34m=\u001b[0m \u001b[0msocket\u001b[0m\u001b[0;34m.\u001b[0m\u001b[0msocket\u001b[0m\u001b[0;34m(\u001b[0m\u001b[0msocket\u001b[0m\u001b[0;34m.\u001b[0m\u001b[0mAF_INET\u001b[0m\u001b[0;34m,\u001b[0m \u001b[0msocket\u001b[0m\u001b[0;34m.\u001b[0m\u001b[0mSOCK_STREAM\u001b[0m\u001b[0;34m)\u001b[0m\u001b[0;34m\u001b[0m\u001b[0m\n\u001b[0;32m---> 51\u001b[0;31m             \u001b[0mself\u001b[0m\u001b[0;34m.\u001b[0m\u001b[0msocket\u001b[0m\u001b[0;34m.\u001b[0m\u001b[0mconnect\u001b[0m\u001b[0;34m(\u001b[0m\u001b[0;34m(\u001b[0m\u001b[0mself\u001b[0m\u001b[0;34m.\u001b[0m\u001b[0mhost\u001b[0m\u001b[0;34m,\u001b[0m \u001b[0mself\u001b[0m\u001b[0;34m.\u001b[0m\u001b[0mport\u001b[0m\u001b[0;34m)\u001b[0m\u001b[0;34m)\u001b[0m\u001b[0;34m\u001b[0m\u001b[0m\n\u001b[0m\u001b[1;32m     52\u001b[0m         \u001b[0;32melse\u001b[0m\u001b[0;34m:\u001b[0m\u001b[0;34m\u001b[0m\u001b[0m\n\u001b[1;32m     53\u001b[0m             \u001b[0mwarnings\u001b[0m\u001b[0;34m.\u001b[0m\u001b[0mwarn\u001b[0m\u001b[0;34m(\u001b[0m\u001b[0;34m\"Socket already open\"\u001b[0m\u001b[0;34m)\u001b[0m\u001b[0;34m\u001b[0m\u001b[0m\n",
      "\u001b[0;31mConnectionRefusedError\u001b[0m: [Errno 61] Connection refused"
     ]
    }
   ],
   "source": [
    "controller.reset()\n",
    "controller.add_sink('logger', \n",
    "                    Logger(), \n",
    "                    ['clock', 'encoder1','motor1'])"
   ]
  },
  {
   "cell_type": "code",
   "execution_count": 312,
   "metadata": {
    "collapsed": false
   },
   "outputs": [
    {
     "name": "stdout",
     "output_type": "stream",
     "text": [
      "> Controller with 5 signal(s), 4 source(s), 2 sink(s), and 0 filter(s)\n",
      "> period = 0.01s\n",
      "> signals\n",
      "  1. theta\n",
      "  2. encoder1\n",
      "  3. pot1\n",
      "  4. motor1\n",
      "  5. clock\n",
      "> sources\n",
      "  1. clock[enabled] >> clock\n",
      "  2. encoder1[enabled] >> encoder1\n",
      "  3. pot1[enabled] >> pot1\n",
      "  4. inclinometer1[enabled] >> theta\n",
      "> filters\n",
      "> sinks\n",
      "  1. motor1 >> motor1[enabled]\n",
      "  2. clock, encoder1, motor1 >> logger[enabled]\n",
      "\n"
     ]
    }
   ],
   "source": [
    "print(controller.info('all'))"
   ]
  },
  {
   "cell_type": "code",
   "execution_count": 313,
   "metadata": {
    "collapsed": false
   },
   "outputs": [
    {
     "name": "stdout",
     "output_type": "stream",
     "text": [
      "> Identifying motor static response\n",
      "  duty cycle = 0%\n",
      "< Done\n",
      "> Retrieving data\n",
      "< Done\n"
     ]
    }
   ],
   "source": [
    "print('> Identifying motor static response')\n",
    "controller.set_sink('logger',reset=True)\n",
    "dT = 3\n",
    "dD = 5\n",
    "ts = []\n",
    "with controller:\n",
    "    time.sleep(1)\n",
    "    for duty_cycle in range(0,100+dD,dD):\n",
    "        print('\\r  duty cycle = {}%'.format(100-duty_cycle), end='')\n",
    "        ts.append(controller.get_signal('clock'))\n",
    "        controller.set_signal('motor1', 100-duty_cycle)\n",
    "        time.sleep(dT)\n",
    "print('\\n< Done')\n",
    "print('> Retrieving data')\n",
    "log = controller.read_sink('logger')\n",
    "print('< Done')"
   ]
  },
  {
   "cell_type": "code",
   "execution_count": 314,
   "metadata": {
    "collapsed": true
   },
   "outputs": [],
   "source": [
    "# Duration of transient\n",
    "Tt = 1"
   ]
  },
  {
   "cell_type": "code",
   "execution_count": 315,
   "metadata": {
    "collapsed": false
   },
   "outputs": [],
   "source": [
    "t = log[:,0]\n",
    "pos = 2*math.pi*log[:,1]\n",
    "ref = log[:,2]\n",
    "\n",
    "vel = np.zeros(t.shape, float)\n",
    "vel[1:] = (pos[1:]-pos[:-1])/(t[1:]-t[:-1])\n",
    "\n",
    "ssvel = np.array([])\n",
    "sst = np.array([])\n",
    "ssref = np.array([])\n",
    "for (tk,tr) in zip(ts[:-1],ts[1:]):\n",
    "    ind = np.where((t > tk + Tt)&(t < tr))\n",
    "    sst = np.append(t[ind], sst)\n",
    "    ssvel = np.append(vel[ind], ssvel)\n",
    "    ssref = np.append(ref[ind], ssref)"
   ]
  },
  {
   "cell_type": "code",
   "execution_count": 316,
   "metadata": {
    "collapsed": false
   },
   "outputs": [
    {
     "data": {
      "image/png": "[encoded data removed]",
      "text/plain": [
       "<matplotlib.figure.Figure at 0x107e9fef0>"
      ]
     },
     "metadata": {},
     "output_type": "display_data"
    }
   ],
   "source": [
    "plt.subplot(2,1,1)\n",
    "plt.plot(sst, ssvel, '.')\n",
    "plt.xlabel('t (s)')\n",
    "plt.ylabel('velocity (Hz)')\n",
    "plt.grid()\n",
    "\n",
    "plt.subplot(2,1,2)\n",
    "plt.plot(ssref, ssvel, '.')\n",
    "plt.xlabel('reference (%)')\n",
    "plt.ylabel('velocity (Hz)')\n",
    "plt.grid()"
   ]
  },
  {
   "cell_type": "code",
   "execution_count": 317,
   "metadata": {
    "collapsed": false
   },
   "outputs": [
    {
     "name": "stdout",
     "output_type": "stream",
     "text": [
      "a = 0.066, v0 = 9.839\n"
     ]
    }
   ],
   "source": [
    "def func(x, a, v0):\n",
    "    return a * (x - v0)\n",
    "\n",
    "import scipy.optimize as optimize\n",
    "\n",
    "ind = np.where(ssvel > 0)\n",
    "pars, residues = optimize.curve_fit(func, ssref[ind], ssvel[ind])\n",
    "a, v0 = pars.tolist()\n",
    "print('a = {:4.3f}, v0 = {:4.3f}'.format(a,v0))"
   ]
  },
  {
   "cell_type": "code",
   "execution_count": 318,
   "metadata": {
    "collapsed": false
   },
   "outputs": [
    {
     "data": {
      "image/png": "[encoded data removed]",
      "text/plain": [
       "<matplotlib.figure.Figure at 0x108012588>"
      ]
     },
     "metadata": {},
     "output_type": "display_data"
    }
   ],
   "source": [
    "plt.plot(ssref, ssvel, '.', np.linspace(0,100), np.maximum(a * (np.linspace(0,100) - v0),0),'r-')\n",
    "plt.xlabel('reference (%)')\n",
    "plt.ylabel('velocity (Hz)')\n",
    "plt.grid()"
   ]
  },
  {
   "cell_type": "markdown",
   "metadata": {},
   "source": [
    "##Dynamic Response"
   ]
  },
  {
   "cell_type": "markdown",
   "metadata": {},
   "source": [
    "With a constant input:\n",
    "$$\n",
    "\\omega(t) = \\bar{\\omega} \\left ( 1 - e^{\\lambda t} \\right )\n",
    "$$\n",
    "where:\n",
    "$$\n",
    "\\begin{aligned}\n",
    "\\bar{\\omega} &= a \\, (v_a - v_0), & a &= \\frac{k_m}{b_m}, & \\lambda &= \\frac{b_m}{J_m}\n",
    "\\end{aligned}\n",
    "$$"
   ]
  },
  {
   "cell_type": "code",
   "execution_count": 327,
   "metadata": {
    "collapsed": false
   },
   "outputs": [
    {
     "name": "stdout",
     "output_type": "stream",
     "text": [
      "> Identifying motor dynamic response\n",
      "  Experiment #10\n",
      "< Done\n",
      "> Retrieving data\n",
      "< Done\n"
     ]
    }
   ],
   "source": [
    "print('> Identifying motor dynamic response')\n",
    "K = 10\n",
    "T0 = 1\n",
    "T1 = 2\n",
    "tref = []\n",
    "duty = 90\n",
    "with controller:\n",
    "    controller.set_source('clock',reset=True)\n",
    "    controller.set_sink('logger',reset=True)\n",
    "    for k in range(K):\n",
    "        print('\\r  Experiment #{}'.format(k+1),end='')\n",
    "        time.sleep(T0)\n",
    "        controller.set_signal('motor1',duty)\n",
    "        t0=controller.get_signal('clock')\n",
    "        time.sleep(T1)\n",
    "        controller.set_signal('motor1',0)\n",
    "        t1=controller.get_signal('clock')\n",
    "        time.sleep(T0)\n",
    "        tref.append((t0,t1))\n",
    "print('\\n< Done')\n",
    "print('> Retrieving data')\n",
    "log = controller.read_sink('logger')\n",
    "print('< Done')"
   ]
  },
  {
   "cell_type": "code",
   "execution_count": 328,
   "metadata": {
    "collapsed": false
   },
   "outputs": [],
   "source": [
    "t = log[:,0]\n",
    "pos = 2*math.pi*log[:,1]\n",
    "ref = log[:,2]\n",
    "\n",
    "vel = np.zeros(t.shape, float)\n",
    "vel[1:] = (pos[1:]-pos[:-1])/(t[1:]-t[:-1])\n",
    "\n",
    "vref = np.zeros(t.shape, float)\n",
    "vref[1:] = (ref[1:]-ref[:-1])/(t[1:]-t[:-1])\n",
    "tref = np.vstack((t[vref>0],t[vref<0])).transpose().tolist()"
   ]
  },
  {
   "cell_type": "code",
   "execution_count": 329,
   "metadata": {
    "collapsed": false
   },
   "outputs": [
    {
     "name": "stdout",
     "output_type": "stream",
     "text": [
      "Ts = 0.01\n"
     ]
    }
   ],
   "source": [
    "Ts = controller.get_period()\n",
    "print('Ts = {}'.format(Ts))"
   ]
  },
  {
   "cell_type": "code",
   "execution_count": 330,
   "metadata": {
    "collapsed": false
   },
   "outputs": [
    {
     "name": "stdout",
     "output_type": "stream",
     "text": [
      "N = 1160, omegabar = 5.003[5.321]\n"
     ]
    }
   ],
   "source": [
    "N = 0\n",
    "omegabar = 0\n",
    "for (tk,tr) in tref:\n",
    "    indss = np.where((t > tk+Tt) & (t < tr))\n",
    "    nss = len(indss[0])\n",
    "    omegabar += nss * np.mean(vel[indss])\n",
    "    N += nss\n",
    "omegabar /= N\n",
    "print('N = {}, omegabar = {:5.3f}[{:5.3f}]'.format(N, omegabar, a * (duty-v0)))"
   ]
  },
  {
   "cell_type": "code",
   "execution_count": 331,
   "metadata": {
    "collapsed": false
   },
   "outputs": [],
   "source": [
    "N = 0\n",
    "vtr = np.array([])\n",
    "ttr = np.array([])\n",
    "vtrx = np.array([])\n",
    "ttrx = np.array([])\n",
    "for (tk,tr) in tref:\n",
    "    indtr = np.where((t > tk + Ts) & (t < tk + 0.15*Tt))\n",
    "    vtr = np.hstack((vtr,vel[indtr]))\n",
    "    ttr = np.hstack((ttr,t[indtr]-tk-Ts))\n",
    "    indtrx = np.where((t > tk + Ts) & (t < tk + Tt))\n",
    "    vtrx = np.hstack((vtrx,vel[indtrx]))\n",
    "    ttrx = np.hstack((ttrx,t[indtrx]-tk-Ts))"
   ]
  },
  {
   "cell_type": "code",
   "execution_count": 332,
   "metadata": {
    "collapsed": false
   },
   "outputs": [
    {
     "name": "stdout",
     "output_type": "stream",
     "text": [
      "lambda = 21.828, eta = -2.513\n"
     ]
    }
   ],
   "source": [
    "def func(x, a, b):\n",
    "    return np.maximum(-a * x, b)\n",
    "\n",
    "import scipy.optimize as optimize\n",
    "\n",
    "x = ttr\n",
    "y = np.log(1-vtr/omegabar)\n",
    "ind = ~np.isnan(y)\n",
    "x = x[ind]\n",
    "y = y[ind]\n",
    "\n",
    "pars, residues = optimize.curve_fit(func, x, y, sigma=1-x**(8),absolute_sigma=False)\n",
    "lamb, eta = pars\n",
    "print('lambda = {:4.3f}, eta = {:4.3f}'.format(lamb,eta))"
   ]
  },
  {
   "cell_type": "code",
   "execution_count": 333,
   "metadata": {
    "collapsed": false
   },
   "outputs": [
    {
     "name": "stderr",
     "output_type": "stream",
     "text": [
      "/Users/mauricio/anaconda/lib/python3.4/site-packages/IPython/kernel/__main__.py:7: RuntimeWarning: invalid value encountered in log\n"
     ]
    },
    {
     "data": {
      "text/plain": [
       "(0, 0.4)"
      ]
     },
     "execution_count": 333,
     "metadata": {},
     "output_type": "execute_result"
    },
    {
     "data": {
      "image/png": "[encoded data removed]",
      "text/plain": [
       "<matplotlib.figure.Figure at 0x1069e0dd8>"
      ]
     },
     "metadata": {},
     "output_type": "display_data"
    }
   ],
   "source": [
    "plt.subplot(2,1,1)\n",
    "plt.plot(ttrx,vtrx,'.',np.linspace(0,Tt),omegabar*(1-np.exp(-lamb*np.linspace(0,Tt))),'r-')\n",
    "plt.grid()\n",
    "plt.xlim(0,0.4)\n",
    "\n",
    "plt.subplot(2,1,2)\n",
    "plt.plot(ttrx,np.log(1-vtrx/omegabar),'.',\n",
    "         np.linspace(0,Tt),np.maximum(-lamb*np.linspace(0,Tt),eta),'r-')\n",
    "plt.grid()\n",
    "plt.xlim(0,0.4)"
   ]
  },
  {
   "cell_type": "markdown",
   "metadata": {},
   "source": [
    "#Final model parameters"
   ]
  },
  {
   "cell_type": "markdown",
   "metadata": {},
   "source": [
    "With a constant input:\n",
    "$$\n",
    "\\omega(t) = \\bar{\\omega} \\left ( 1 - e^{\\lambda t} \\right )\n",
    "$$\n",
    "where:\n",
    "$$\n",
    "\\begin{aligned}\n",
    "\\bar{\\omega} &= a \\, (v_a - v_0), & a &= \\frac{k_m}{b_m}, & \\lambda &= \\frac{b_m}{J_m}\n",
    "\\end{aligned}\n",
    "$$"
   ]
  },
  {
   "cell_type": "code",
   "execution_count": 334,
   "metadata": {
    "collapsed": false
   },
   "outputs": [
    {
     "name": "stdout",
     "output_type": "stream",
     "text": [
      "a = 0.066\n",
      "v0 = 9.839\n",
      "duty = 90.000\n",
      "omegabar = 5.003\n",
      "lambda = 21.828\n"
     ]
    }
   ],
   "source": [
    "print('a = {:5.3f}\\nv0 = {:5.3f}\\nduty = {:5.3f}\\nomegabar = {:5.3f}\\nlambda = {:5.3f}'.format(a,v0,duty,omegabar,lamb))"
   ]
  },
  {
   "cell_type": "code",
   "execution_count": null,
   "metadata": {
    "collapsed": true
   },
   "outputs": [],
   "source": []
  }
 ],
 "metadata": {
  "kernelspec": {
   "display_name": "Python 3",
   "language": "python",
   "name": "python3"
  },
  "language_info": {
   "codemirror_mode": {
    "name": "ipython",
    "version": 3
   },
   "file_extension": ".py",
   "mimetype": "text/x-python",
   "name": "python",
   "nbconvert_exporter": "python",
   "pygments_lexer": "ipython3",
   "version": "3.4.3"
  }
 },
 "nbformat": 4,
 "nbformat_minor": 0
}
