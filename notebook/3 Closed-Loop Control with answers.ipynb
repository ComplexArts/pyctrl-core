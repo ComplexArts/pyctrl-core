{
 "cells": [
  {
   "cell_type": "markdown",
   "metadata": {},
   "source": [
    "# Closed-Loop Control\n",
    "\n",
    "## Preliminaries\n",
    "\n",
    "The next lines setup some things and import the various libraries required to run this notebook."
   ]
  },
  {
   "cell_type": "code",
   "execution_count": 1,
   "metadata": {
    "collapsed": false
   },
   "outputs": [],
   "source": [
    "import sys\n",
    "sys.path.append('..')"
   ]
  },
  {
   "cell_type": "code",
   "execution_count": 2,
   "metadata": {
    "collapsed": false
   },
   "outputs": [],
   "source": [
    "%matplotlib inline  \n",
    "import numpy as np\n",
    "import matplotlib.pyplot as plt\n",
    "import math\n",
    "import time"
   ]
  },
  {
   "cell_type": "code",
   "execution_count": 3,
   "metadata": {
    "collapsed": false
   },
   "outputs": [],
   "source": [
    "from ctrl.system.tf import PID\n",
    "from ctrl.block.linear import Gain, Feedback, ShortCircuit, Differentiator, SISO\n",
    "from ctrl.block.logger import Logger"
   ]
  },
  {
   "cell_type": "markdown",
   "metadata": {},
   "source": [
    "Modify the variables `HOST` and `PORT` to reflect the network address of your device:"
   ]
  },
  {
   "cell_type": "code",
   "execution_count": 4,
   "metadata": {
    "collapsed": false
   },
   "outputs": [],
   "source": [
    "from ctrl.client import Controller\n",
    "#HOST, PORT = \"localhost\", 9999\n",
    "HOST, PORT = \"192.168.10.127\", 9999\n",
    "device = Controller(host = HOST, port = PORT)"
   ]
  },
  {
   "cell_type": "code",
   "execution_count": 7,
   "metadata": {
    "collapsed": true
   },
   "outputs": [],
   "source": [
    "device.reset()\n",
    "device.add_signal('velocity1')\n",
    "device.add_filter('velocity1', Differentiator(), ['clock', 'encoder1'],['velocity1'])\n",
    "device.add_sink('logger', Logger(auto_reset = True), ['clock', 'encoder1', 'velocity1', 'motor1'])"
   ]
  },
  {
   "cell_type": "markdown",
   "metadata": {},
   "source": [
    "## You are the Controller\n",
    "\n",
    "Adjust the potentiometer in the control box so that it is pointing all the way to the left\n",
    "then run the following code to setup a display in your notebook:"
   ]
  },
  {
   "cell_type": "code",
   "execution_count": 8,
   "metadata": {
    "collapsed": false
   },
   "outputs": [],
   "source": [
    "# Setup display widgets\n",
    "\n",
    "from IPython.display import display\n",
    "import ipywidgets as widgets\n",
    "\n",
    "vmax = 30\n",
    "vmin = 0\n",
    "N = 200\n",
    "vbar = widgets.FloatProgress(min=vmin, max=vmax, step = (vmax - vmin)/N)\n",
    "ptext = widgets.Text('0',width='12ex',border_style='none')\n",
    "vtext = widgets.Text('0',width='12ex',border_style='none')\n",
    "row3 = widgets.HBox([widgets.HTML('{:5.3f}&nbsp;'.format(vmin)),\n",
    "                     vbar,\n",
    "                     widgets.HTML('&nbsp;{:5.3f}'.format(vmax))])\n",
    "row2 = widgets.HBox([widgets.HTML('<b>velocity = &nbsp;</b>'),\n",
    "                     widgets.VBox([vtext, row3])])\n",
    "row1 = widgets.HBox([widgets.HTML('<b>position = &nbsp;</b>'),\n",
    "                     ptext])\n",
    "display(row1,row2)"
   ]
  },
  {
   "cell_type": "markdown",
   "metadata": {},
   "source": [
    "Run the following code and adjust the potentiometer to keep the velocity at 16Hz:"
   ]
  },
  {
   "cell_type": "code",
   "execution_count": null,
   "metadata": {
    "collapsed": false
   },
   "outputs": [],
   "source": [
    "device.add_filter('analog1', ShortCircuit(), ['analog1'], ['motor1'])\n",
    "\n",
    "Ts = 0.3\n",
    "K = int(30/Ts)\n",
    "with device:\n",
    "    old_time, old_position = device.get_signals('clock','encoder1')\n",
    "    k = 0\n",
    "    while k < K:\n",
    "        current_time, current_position = device.get_signals('clock','encoder1')\n",
    "        velocity = (current_position - old_position) / (current_time - old_time)\n",
    "        vbar.value = velocity\n",
    "        ptext.value = '{:5.3f}'.format(current_position)\n",
    "        vtext.value = '{:5.3f}'.format(velocity)\n",
    "        k = k + 1\n",
    "        old_time, old_position = current_time, current_position\n",
    "        time.sleep(Ts)\n",
    "        \n",
    "device.remove_filter('analog1')\n",
    "log = device.read_sink('logger')"
   ]
  },
  {
   "cell_type": "markdown",
   "metadata": {},
   "source": [
    "**TASKS:**\n",
    "1. Import the data and plot `clock` *vs* `velocity1` and `clock` *vs* `motor1`\n",
    "2. Discard the first 2 seconds of data and use `np.mean` and `np.std` to calculate the average and standard deviation of the velocity"
   ]
  },
  {
   "cell_type": "code",
   "execution_count": null,
   "metadata": {
    "collapsed": false
   },
   "outputs": [],
   "source": [
    "# SOLUTION 1\n",
    "clock = log[:,0]\n",
    "encoder1 = log[:,1]\n",
    "velocity1 = log[:,2]\n",
    "motor1 = log[:,3]\n",
    "\n",
    "fig1 = plt.figure()\n",
    "plt.subplot(2,1,1)\n",
    "plt.plot(clock, velocity1, '.')\n",
    "plt.xlabel('clock (s)')\n",
    "plt.ylabel('velocity1 (Hz)')\n",
    "plt.grid()\n",
    "\n",
    "plt.subplot(2,1,2)\n",
    "plt.plot(clock, motor1, '.')\n",
    "plt.xlabel('clock (s)')\n",
    "plt.ylabel('motor1 (%)')\n",
    "plt.grid()"
   ]
  },
  {
   "cell_type": "code",
   "execution_count": null,
   "metadata": {
    "collapsed": false
   },
   "outputs": [],
   "source": [
    "# SOLUTION 2\n",
    "ind, = np.where(clock > clock[0] + 2)\n",
    "vmean = np.mean(velocity1[ind[0]:])\n",
    "vstd = np.std(velocity1[ind[0]:])\n",
    "print('mean = {:5.3f}, standard deviation = {:5.3f}'.format(vmean,vstd))"
   ]
  },
  {
   "cell_type": "markdown",
   "metadata": {},
   "source": [
    "**QUESTIONS:**\n",
    "1. How well where you able to regulate the velocity? Compare with the open-loop controller\n",
    "2. Explain in words what you did in order to regulate the velocity at 16Hz\n",
    "3. Could you regulate velocity without reading the speed, that is without a **sensor**?\n",
    "4. Explain what you did with the reading of the speed: this is **feedback**"
   ]
  },
  {
   "cell_type": "markdown",
   "metadata": {},
   "source": [
    "**TASKS:**\n",
    "1. Adjust the potentiometer to try to keep the velocity constant at 16Hz as your group mate disturbs the pulley\n",
    "\n",
    "**QUESTIONS:**\n",
    "1. Is the average close to 16HZ?\n",
    "2. What happened to the velocity when your group mate touched the pulley? What did you do then to keep the velocity constant?\n",
    "3. Formulate your strategy as an **algorithm**: that's a **closed-loop controller**"
   ]
  },
  {
   "cell_type": "markdown",
   "metadata": {},
   "source": [
    "## Closed-loop Control\n",
    "\n",
    "In closed-loop control a **sensor** is used to measure an output quantity of interest, the velocity in the case of the DC motor, which is compared with a **reference** to produce an **errror signal**. The error is what is used by the **feedback controller** to calculate the input for the system being controlled, in this case the motor input **voltage**. The overal process can be represented by the block-diagram:\n",
    "\n",
    "<img src=\"figure3.png\" width=\"500\">\n",
    "\n",
    "The name **feedback** refers to the fact that the system *output* is **fed back** into the system *input* by the *controller*.\n",
    "\n",
    "One of the simplest feedback controlers is the **proportional controller**:\n",
    "\n",
    "$$\n",
    "\\begin{aligned}\n",
    "  \\text{control} &= K \\, \\text{error}, & \\text{error} &= \\text{reference} - \\text{velocity}\n",
    "\\end{aligned}\n",
    "$$\n",
    "\n",
    "which produces input which is *proportional* to the error. The constant of proportionallity, $K$, is the controller *gain*.\n",
    "\n",
    "**TASKS:**\n",
    "1. Run the following code to implement a proportional velocity controller\n",
    "2. Import the data and plot `clock` *vs* `velocity1` and `reference1`\n",
    "3. Plot `clock` *vs* `motor1`\n",
    "4. Discard the first second of data and use `np.mean` and `np.std` to calculate the average and standard deviation of the velocity\n",
    "5. Calculate the ratio between the average velocity and the reference velocity\n",
    "\n",
    "**QUESTIONS:**\n",
    "1. Did the closed-loop controller achieve the reference velocity? Explain"
   ]
  },
  {
   "cell_type": "code",
   "execution_count": 9,
   "metadata": {
    "collapsed": false
   },
   "outputs": [
    {
     "name": "stdout",
     "output_type": "stream",
     "text": [
      "> Controller with 4 device(s), 8 signal(s), 3 source(s), 2 sink(s), and 2 filter(s)\n",
      "> devices\n",
      "  1. encoder1[source]\n",
      "  2. motor1[sink]\n",
      "  3. analog1[source]\n",
      "  4. clock[source]\n",
      "> signals\n",
      "  1. analog1\n",
      "  2. clock\n",
      "  3. duty\n",
      "  4. encoder1\n",
      "  5. is_running\n",
      "  6. motor1\n",
      "  7. reference1\n",
      "  8. velocity1\n",
      "> sources\n",
      "  1. clock[Clock, enabled] >> clock\n",
      "  2. encoder1[Encoder, enabled] >> encoder1\n",
      "  3. analog1[Analog, enabled] >> analog1\n",
      "> filters\n",
      "  1. clock, encoder1 >> velocity1[Differentiator, enabled] >> velocity1\n",
      "  2. velocity1, reference1 >> controller1[Feedback, enabled] >> motor1\n",
      "> sinks\n",
      "  1. motor1 >> motor1[Motor, enabled]\n",
      "  2. clock, encoder1, velocity1, motor1, reference1, duty >> logger[Logger, enabled]\n",
      "\n"
     ]
    }
   ],
   "source": [
    "a = 0.25\n",
    "G = a\n",
    "Kp = 1\n",
    "\n",
    "K = Kp/G\n",
    "\n",
    "device.add_signal('reference1')\n",
    "device.add_filter('controller1', \n",
    "                  Feedback(block = Gain(gain = K)),\n",
    "                  ['velocity1', 'reference1'], \n",
    "                  ['motor1'])\n",
    "device.add_sink('logger', Logger(auto_reset=True),['clock', 'encoder1', 'velocity1', 'motor1', 'reference1','duty'])\n",
    "print(device.info('all'))"
   ]
  },
  {
   "cell_type": "code",
   "execution_count": 16,
   "metadata": {
    "collapsed": false
   },
   "outputs": [],
   "source": [
    "with device:\n",
    "    device.set_signal('reference1', 16)\n",
    "    time.sleep(5)\n",
    "log = device.read_sink('logger')"
   ]
  },
  {
   "cell_type": "code",
   "execution_count": 17,
   "metadata": {
    "collapsed": false
   },
   "outputs": [
    {
     "data": {
      "image/png": "[encoded data removed]",
      "text/plain": [
       "<matplotlib.figure.Figure at 0x7f339e938a20>"
      ]
     },
     "metadata": {},
     "output_type": "display_data"
    }
   ],
   "source": [
    "clock = log[:,0]\n",
    "encoder1 = log[:,1]\n",
    "velocity1 = log[:,2]\n",
    "motor1 = log[:,3]\n",
    "reference1 = log[:,4]\n",
    "duty = log[:,5]\n",
    "\n",
    "fig = plt.figure()\n",
    "plt.subplot(2,1,1)\n",
    "plt.plot(clock, velocity1, '.b', clock, reference1, '.r')\n",
    "# the next lines will make the plot look nicer\n",
    "plt.xlabel('clock (s)')\n",
    "plt.ylabel('velocity1 (Hz)')\n",
    "plt.grid()\n",
    "\n",
    "plt.subplot(2,1,2)\n",
    "plt.plot(clock, duty, '.')\n",
    "# the next lines will make the plot look nicer\n",
    "plt.xlabel('clock (s)')\n",
    "plt.ylabel('duty (s)')\n",
    "plt.grid()"
   ]
  },
  {
   "cell_type": "code",
   "execution_count": 18,
   "metadata": {
    "collapsed": false
   },
   "outputs": [
    {
     "name": "stdout",
     "output_type": "stream",
     "text": [
      "mean = 7.322, standard deviation = 0.142\n"
     ]
    }
   ],
   "source": [
    "ind, = np.where(clock > clock[0] + 2)\n",
    "vmean = np.mean(velocity1[ind[0]:])\n",
    "vstd = np.std(velocity1[ind[0]:])\n",
    "print('mean = {:5.3f}, standard deviation = {:5.3f}'.format(vmean,vstd))"
   ]
  },
  {
   "cell_type": "markdown",
   "metadata": {},
   "source": [
    "**TASKS:**\n",
    "1. Repeat the above steps with a proportional gain `Kp` equal to 2 then 4\n",
    "\n",
    "**QUESTIONS:**\n",
    "1. How does the ratio between the average velocity and the reference velocity vary with `Kp`?"
   ]
  },
  {
   "cell_type": "code",
   "execution_count": null,
   "metadata": {
    "collapsed": true
   },
   "outputs": [],
   "source": [
    "# YOUR SOLUTION HERE"
   ]
  },
  {
   "cell_type": "markdown",
   "metadata": {},
   "source": [
    "## Open- and Closed-loop Gains\n",
    "\n",
    "In order to understand why the achieved velocity is not equal to the reference velocity it is convinient to think of each block of the control-loop as a simple *static gain*. That is, the motor is simply\n",
    "\n",
    "$$\n",
    "    \\text{velocity} = G \\, \\text{control}\n",
    "$$\n",
    "\n",
    "where $G$ is the **open-loop gain**, and the controller:\n",
    "\n",
    "$$\n",
    "    \\text{control} = K \\, \\text{error}\n",
    "$$\n",
    "\n",
    "Recalling that \n",
    "\n",
    "$$\n",
    "\\text{error} = \\text{reference} - \\text{velocity} = \\text{reference} - \\text{velocity}\n",
    "$$\n",
    "\n",
    "you will show that:\n",
    "\n",
    "$$\n",
    "\\begin{aligned}\n",
    "\\text{velocity} &= H \\, \\text{reference}, & H &= \\frac{K G}{1 + K G}\n",
    "\\end{aligned}\n",
    "$$\n",
    "\n",
    "The quantity $H$ is the **closed-loop gain**.\n",
    "\n",
    "**TASKS:**\n",
    "1. Use the above formula to compare the ratio between the average velocity and the reference velocity with what you obtained experimentally\n",
    "\n",
    "**QUESTIONS:**\n",
    "1. How can you compute the open-loop gain, $G$?\n",
    "2. Why did we set `K = Kp / G`?\n",
    "3. What value of `Kp` would make the closed loop gain, $H$, become close to 1?\n",
    "4. What is the effect of errors in open-loop gain, $G$, in the value of the closed-loop gain, $H$?\n",
    "5. Prove the closed-loop gain formula. *Hint: substitute for control and error and solve for velocity in the above equations*"
   ]
  },
  {
   "cell_type": "code",
   "execution_count": null,
   "metadata": {
    "collapsed": true
   },
   "outputs": [],
   "source": [
    "# YOUR SOLUTION HERE"
   ]
  },
  {
   "cell_type": "markdown",
   "metadata": {},
   "source": [
    "## Regulation and Instability\n",
    "\n",
    "**TASKS:**\n",
    "1. Run the following code to implement a closed-loop proportional velocity controller this time with a reference velocity equal to 0: this is a **regulator**\n",
    "2. Try to turn the pulley when the controller is on\n",
    "3. Repeat with `Kp` equal to 2, 4, and 16\n",
    "4. Repeat with `Kp` equal to -1, -2, and -4\n",
    "\n",
    "**QUESTION:**\n",
    "1. What difference does the gain make?\n",
    "2. Name an application for this velocity regulator\n",
    "3. What does the regulator do when the gain `Kp` is negative?\n",
    "4. What happens when the gain `Kp` is positive and large?\n",
    "5. What happens when the gain `Kp` is negative and large?"
   ]
  },
  {
   "cell_type": "markdown",
   "metadata": {},
   "source": [
    "## Position Control\n",
    "\n",
    "The principles of feedback control are abstract and apply to a variety of systems. For example, we could use a similar scheme:\n",
    "\n",
    "<img src=\"figure5.png\" width=\"650\">\n",
    "\n",
    "if we wish to control the **position** of rotor of the DC motor, instead of its velocity,\n",
    "\n",
    "In this case **proportional control** is:\n",
    "\n",
    "$$\n",
    "\\begin{aligned}\n",
    "  \\text{control} &= K \\, \\text{error}, & \\text{error} &= \\text{reference} - \\text{position}\n",
    "\\end{aligned}\n",
    "$$\n",
    "\n",
    "which produces input which is *proportional* to the error, this time computed with respect to position. From a practical standpoint all that is needed is a new sensor to measure position, which we already have.\n",
    "\n",
    "**TASKS:**\n",
    "1. Run the following code to implement a proportional position controller\n",
    "2. Import the data and plot time *vs* position, time *vs* reference and control and time *vs* velocity\n",
    "3. Repeat the above steps with a proportional gain `Kp` equal to 2 then 4\n",
    "\n",
    "**QUESTIONS:**\n",
    "1. Compare the responses in the case of position control with that of velocity control\n",
    "2. Contrast the control signal in both cases\n",
    "3. Is position related to the control signal by a gain?\n",
    "4. How could you calculate the closed-loop gain in the case of position control?"
   ]
  },
  {
   "cell_type": "code",
   "execution_count": null,
   "metadata": {
    "collapsed": false
   },
   "outputs": [],
   "source": [
    "a = 0.25\n",
    "G = a\n",
    "Kp = 1\n",
    "\n",
    "K = Kp/G\n",
    "\n",
    "device.add_signal('reference1')\n",
    "device.add_filter('controller1', \n",
    "                  Feedback(block = Gain(gain = K)),\n",
    "                  ['encoder1', 'reference1'], \n",
    "                  ['motor1'])\n",
    "device.add_sink('logger', Logger(auto_reset=True),['clock', 'encoder1', 'velocity1', 'motor1', 'reference1','duty'])\n",
    "print(device.info('all'))"
   ]
  },
  {
   "cell_type": "code",
   "execution_count": null,
   "metadata": {
    "collapsed": false
   },
   "outputs": [],
   "source": [
    "device.set_source('encoder1', reset=True)\n",
    "with device:\n",
    "    device.set_signal('reference1', 20)\n",
    "    time.sleep(5)\n",
    "log = device.read_sink('logger')"
   ]
  },
  {
   "cell_type": "code",
   "execution_count": null,
   "metadata": {
    "collapsed": false
   },
   "outputs": [],
   "source": [
    "clock = log[:,0]\n",
    "encoder1 = log[:,1]\n",
    "velocity1 = log[:,2]\n",
    "motor1 = log[:,3]\n",
    "reference1 = log[:,4]\n",
    "\n",
    "plt.plot(clock, encoder1, '.b', clock, reference1, '.r')\n",
    "# the next lines will make the plot look nicer\n",
    "plt.xlabel('clock (s)')\n",
    "plt.ylabel('encoder1 (Hz)')\n",
    "plt.grid()"
   ]
  },
  {
   "cell_type": "markdown",
   "metadata": {},
   "source": [
    "## Integral Velocity Control\n",
    "\n",
    "One problem when using a proportional controller to control the velocity of the DC motor is that the velocity does not actually **track** the reference: there is always a need for some error to exist so that the motor can continue to run. **Integral Control** is one way to overcome this problem.\n",
    "\n",
    "You might have noticed when controlling the position of the motor that the final position was always close to the reference position, even when relatively small gains where used. This is because the motor produces a constant velocity in response to a constant control voltage. No control voltage must exist for the position error to be zero! The reason for this is that the position is the **integral** of the velocity. You might want to think of the integral of the velocity as the area below the velocity in the velocity *vs* time curve.\n",
    "\n",
    "We can bring this idea to the velocity controller. In addition to a proportional control term we have an **integrator** that *accumulates* the error signal, as represented by the block-diagram:\n",
    "\n",
    "<img src=\"figure6.png\" width=\"650\">\n",
    "\n",
    "In the presence of a positive error signal the output of the integrator continues to grow. When the error is zeroed, the integrator stops acumulating but holds a constant control output that will offset the system in the desired way. The resulting controller is called a **proportional-integral-controller**, or simply **PI-controller**. \n",
    "\n",
    "With integral control it is possible to **track constant references** while keeping the gains small. Integral control is the most widely use form of control algorithm and can be found, for instance in your vehicle's cruise control.\n",
    "\n",
    "**TASKS:**\n",
    "1. Run the following code to implement a proportional-integral velocity controller\n",
    "2. Import the data and plot time vs velocity and time vs reference and control\n",
    "3. Discard the first second of data and use `np.mean` and `np.std` to calculate the average and standard deviation of the velocity\n",
    "4. Calculate the ratio between the average velocity and the reference velocity\n",
    "5. Have a group mate touch the top of the big pulley with his or her finger and apply a gentle force trying to stop the motor. Make sure the force does not completely stop the motor, as this may damage the motor\n",
    "6. Repeat the above steps with a integral gain `Ki` equal to 0.1, 1, and 10\n",
    "\n",
    "**QUESTIONS:**\n",
    "1. Did the closed-loop controller achieve the reference velocity?\n",
    "2. What happened when your group mate disturbed the pulley?\n",
    "3. What happened to the control as your group mate disturbed the pulley?\n",
    "4. Can you name processes in your body that are regulated  like that?\n",
    "5. What is the effect of a small integral gain?\n",
    "6. What is the effect of a large integral gain?"
   ]
  },
  {
   "cell_type": "code",
   "execution_count": 19,
   "metadata": {
    "collapsed": false
   },
   "outputs": [
    {
     "name": "stdout",
     "output_type": "stream",
     "text": [
      "> Controller with 4 device(s), 8 signal(s), 3 source(s), 2 sink(s), and 2 filter(s)\n",
      "> devices\n",
      "  1. encoder1[source]\n",
      "  2. motor1[sink]\n",
      "  3. analog1[source]\n",
      "  4. clock[source]\n",
      "> signals\n",
      "  1. analog1\n",
      "  2. clock\n",
      "  3. duty\n",
      "  4. encoder1\n",
      "  5. is_running\n",
      "  6. motor1\n",
      "  7. reference1\n",
      "  8. velocity1\n",
      "> sources\n",
      "  1. clock[Clock, enabled] >> clock\n",
      "  2. encoder1[Encoder, enabled] >> encoder1\n",
      "  3. analog1[Analog, enabled] >> analog1\n",
      "> filters\n",
      "  1. clock, encoder1 >> velocity1[Differentiator, enabled] >> velocity1\n",
      "  2. velocity1, reference1 >> controller1[Feedback, enabled] >> motor1\n",
      "> sinks\n",
      "  1. motor1 >> motor1[Motor, disabled]\n",
      "  2. clock, encoder1, velocity1, motor1, reference1, duty >> logger[Logger, enabled]\n",
      "\n"
     ]
    }
   ],
   "source": [
    "a = 0.25\n",
    "G = a\n",
    "Kp = 1\n",
    "Ki = 10\n",
    "Ts = 0.01\n",
    "\n",
    "K = Kp/G\n",
    "\n",
    "device.add_signal('reference1')\n",
    "device.add_filter('controller1', \n",
    "                  Feedback(block = SISO(model = PID(Kp = K, Ki = Ki/G, period = Ts))),\n",
    "                  ['velocity1', 'reference1'], \n",
    "                  ['motor1'])\n",
    "device.add_sink('logger', Logger(auto_reset=True),['clock', 'encoder1', 'velocity1', 'motor1', 'reference1','duty'])\n",
    "print(device.info('all'))"
   ]
  },
  {
   "cell_type": "code",
   "execution_count": 28,
   "metadata": {
    "collapsed": false
   },
   "outputs": [],
   "source": [
    "with device:\n",
    "    device.set_signal('reference1', 16)\n",
    "    time.sleep(30)\n",
    "log = device.read_sink('logger')"
   ]
  },
  {
   "cell_type": "code",
   "execution_count": 29,
   "metadata": {
    "collapsed": false
   },
   "outputs": [
    {
     "data": {
      "image/png": "[encoded data removed]",
      "text/plain": [
       "<matplotlib.figure.Figure at 0x7f339e561240>"
      ]
     },
     "metadata": {},
     "output_type": "display_data"
    }
   ],
   "source": [
    "clock = log[:,0]\n",
    "encoder1 = log[:,1]\n",
    "velocity1 = log[:,2]\n",
    "motor1 = log[:,3]\n",
    "reference1 = log[:,4]\n",
    "duty = log[:,5]\n",
    "\n",
    "fig = plt.figure()\n",
    "plt.subplot(2,1,1)\n",
    "plt.plot(clock, velocity1, '.b', clock, reference1, '.r')\n",
    "# the next lines will make the plot look nicer\n",
    "plt.xlabel('clock (s)')\n",
    "plt.ylabel('velocity1 (Hz)')\n",
    "plt.grid()\n",
    "\n",
    "plt.subplot(2,1,2)\n",
    "plt.plot(clock, duty, '.')\n",
    "# the next lines will make the plot look nicer\n",
    "plt.xlabel('clock (s)')\n",
    "plt.ylabel('duty (s)')\n",
    "plt.grid()"
   ]
  },
  {
   "cell_type": "code",
   "execution_count": 30,
   "metadata": {
    "collapsed": false
   },
   "outputs": [
    {
     "data": {
      "image/png": "[encoded data removed]",
      "text/plain": [
       "<matplotlib.figure.Figure at 0x7f339e570cc0>"
      ]
     },
     "metadata": {},
     "output_type": "display_data"
    }
   ],
   "source": [
    "dclock=clock[1:]-clock[:-1]\n",
    "\n",
    "plt.subplot(2,1,1)\n",
    "plt.plot(dclock, '.')\n",
    "# the next lines will make the plot look nicer\n",
    "plt.xlabel('clock (s)')\n",
    "plt.ylabel('duty (s)')\n",
    "plt.grid()\n",
    "\n",
    "plt.subplot(2,1,2)\n",
    "plt.plot(clock, duty, '.b', clock[:-1], dclock, '.r')\n",
    "# the next lines will make the plot look nicer\n",
    "plt.xlabel('clock (s)')\n",
    "plt.ylabel('duty (s)')\n",
    "plt.grid()"
   ]
  },
  {
   "cell_type": "code",
   "execution_count": 31,
   "metadata": {
    "collapsed": false
   },
   "outputs": [
    {
     "name": "stdout",
     "output_type": "stream",
     "text": [
      "mean = 16.006, standard deviation = 0.174\n"
     ]
    }
   ],
   "source": [
    "ind, = np.where(clock > clock[0] + 2)\n",
    "vmean = np.mean(velocity1[ind[0]:])\n",
    "vstd = np.std(velocity1[ind[0]:])\n",
    "print('mean = {:5.3f}, standard deviation = {:5.3f}'.format(vmean,vstd))"
   ]
  },
  {
   "cell_type": "code",
   "execution_count": null,
   "metadata": {
    "collapsed": true
   },
   "outputs": [],
   "source": []
  }
 ],
 "metadata": {
  "kernelspec": {
   "display_name": "Python 3",
   "language": "python",
   "name": "python3"
  },
  "language_info": {
   "codemirror_mode": {
    "name": "ipython",
    "version": 3
   },
   "file_extension": ".py",
   "mimetype": "text/x-python",
   "name": "python",
   "nbconvert_exporter": "python",
   "pygments_lexer": "ipython3",
   "version": "3.4.3"
  },
  "widgets": {
   "state": {
    "0be0491ea23e4364883ea4fab35db2d5": {
     "views": [
      {
       "cell_index": 8
      }
     ]
    },
    "1c08961868544e94a43c9d229022b5ba": {
     "views": []
    },
    "1dcb944064e045e6a7741f849a8d4004": {
     "views": []
    },
    "1e77c6d2971f4b7daf5d91bad825f67e": {
     "views": []
    },
    "2000cd8d749243da80643b0ffc75430e": {
     "views": []
    },
    "221fbff424a14c29baa7f181e6612655": {
     "views": []
    },
    "28e8689a6d41403b8964ca8b3b643dfb": {
     "views": []
    },
    "46b77b985e184552bae81b691089cfc5": {
     "views": []
    },
    "4712a21f6b4b4853b88da823218bbe34": {
     "views": []
    },
    "62b3f521bd234affa12800ca874cc53f": {
     "views": []
    },
    "6937b901f90d40a890776ea5f58b65dc": {
     "views": []
    },
    "82be09ea83024b70ba4631708c6ee882": {
     "views": []
    },
    "853e12e379c1400ea98c0db3ae0ca54f": {
     "views": []
    },
    "a2754286b2e644c58166672b4281a939": {
     "views": []
    },
    "b7cf5584ae8e43a8bde8567cf282e9d8": {
     "views": []
    },
    "bfb4f71db17045f4a366ae24737f98f0": {
     "views": []
    },
    "c04476cb2e7841dc9543d3acb8f6d3e5": {
     "views": []
    },
    "d0b250b1daa24ec1ae3bb3486392cdf1": {
     "views": []
    },
    "d563be131f87453688bff4aa6e09469f": {
     "views": []
    },
    "d8200270d1094d9aacebf190aae681ed": {
     "views": []
    },
    "d98e3bc058b44f70bc59ec7905a3504f": {
     "views": []
    },
    "f2a716b033c347848e8fdcdfe32188fb": {
     "views": [
      {
       "cell_index": 8
      }
     ]
    }
   },
   "version": "1.0.0"
  }
 },
 "nbformat": 4,
 "nbformat_minor": 0
}
