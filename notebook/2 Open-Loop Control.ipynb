{
 "cells": [
  {
   "cell_type": "markdown",
   "metadata": {},
   "source": [
    "# Open-Loop Control\n",
    "\n",
    "## Preliminaries\n",
    "\n",
    "The next lines setup some things and import the various libraries required to run this notebook."
   ]
  },
  {
   "cell_type": "code",
   "execution_count": null,
   "metadata": {
    "collapsed": false
   },
   "outputs": [],
   "source": [
    "import sys\n",
    "sys.path.append('..')"
   ]
  },
  {
   "cell_type": "code",
   "execution_count": null,
   "metadata": {
    "collapsed": false
   },
   "outputs": [],
   "source": [
    "%matplotlib inline  \n",
    "import numpy as np\n",
    "import matplotlib.pyplot as plt\n",
    "import math\n",
    "import time"
   ]
  },
  {
   "cell_type": "code",
   "execution_count": null,
   "metadata": {
    "collapsed": false
   },
   "outputs": [],
   "source": [
    "from ctrl.block.linear import Gain, Feedback, ShortCircuit, Differentiator\n",
    "from ctrl.block.logger import Logger"
   ]
  },
  {
   "cell_type": "markdown",
   "metadata": {},
   "source": [
    "Modify the variables `HOST` and `PORT` to reflect the network address of your device:"
   ]
  },
  {
   "cell_type": "code",
   "execution_count": null,
   "metadata": {
    "collapsed": false
   },
   "outputs": [],
   "source": [
    "from ctrl.client import Controller\n",
    "#HOST, PORT = \"localhost\", 9999\n",
    "HOST, PORT = \"192.168.10.51\", 9999\n",
    "device = Controller(host = HOST, port = PORT)"
   ]
  },
  {
   "cell_type": "markdown",
   "metadata": {},
   "source": [
    "## Static Response of the DC motor\n",
    "\n",
    "It is helpful to think of the motor as an entity that takes an **input signal**, in this case signal `motor1` which is translated into a **voltage**, and produces an **output signal**, either an *angular position* or *angular velocity*. We represent such **input-output** relationship using a **block-diagram**:\n",
    "\n",
    "<img src=\"figure1.png\" width=\"300\">\n",
    "\n",
    "You will now perform some experiments to characterize the behavior of the DC motor. Instead of performing the experiment by hand, you will write python programs to vary the reference input, i.e. voltage, on the motor and then collect and analyze the resulting data."
   ]
  },
  {
   "cell_type": "markdown",
   "metadata": {},
   "source": [
    "The following code adds a signal `velocity1` and a logger:"
   ]
  },
  {
   "cell_type": "code",
   "execution_count": null,
   "metadata": {
    "collapsed": false
   },
   "outputs": [],
   "source": [
    "device.reset()\n",
    "device.add_signal('velocity1')\n",
    "device.add_filter('velocity1', Differentiator(), ['clock', 'encoder1'],['velocity1'])\n",
    "device.add_sink('logger', Logger(auto_reset = True), ['clock', 'encoder1', 'velocity1', 'motor1'])"
   ]
  },
  {
   "cell_type": "code",
   "execution_count": null,
   "metadata": {
    "collapsed": false
   },
   "outputs": [],
   "source": [
    "print(device.info('all'))"
   ]
  },
  {
   "cell_type": "markdown",
   "metadata": {},
   "source": [
    "**TASKS:**\n",
    "1. Write python code that runs the motor at 100% for 2 seconds then at 95% for 2 second and so on until you reach 5%\n",
    "<br/>\n",
    "*Hint:* use a `for` loop and `range`\n",
    "2. Import the data, use `matplotlib` to plot the `clock` *vs* `velocity1`\n",
    "3. Plot also `motor1` *vs* `velocity1`\n",
    "4. Compare and discuss your results with the other groups"
   ]
  },
  {
   "cell_type": "markdown",
   "metadata": {},
   "source": [
    "**QUESTIONS:**\n",
    "1. Is the response of the motor linear?\n",
    "2. How could we calculate the *gain* of the motor?"
   ]
  },
  {
   "cell_type": "markdown",
   "metadata": {},
   "source": [
    "### Linear Model\n",
    "\n",
    "**TASKS:**\n",
    "1. Use the following code to fit your data to a line of the form y = a x + b\n",
    "2. Modify the code to fit a line of the form y = a x\n",
    "\n",
    "**QUESTIONS:**\n",
    "1. What does the code do?\n",
    "2. Why is the value of b not zero?"
   ]
  },
  {
   "cell_type": "code",
   "execution_count": null,
   "metadata": {
    "collapsed": false
   },
   "outputs": [],
   "source": [
    "def func(x, a, b):\n",
    "    return a * x + b\n",
    "\n",
    "import scipy.optimize as optimize\n",
    "\n",
    "ind = np.where(velocity1 > 0)\n",
    "pars, residues = optimize.curve_fit(func, motor1[ind], velocity1[ind])\n",
    "a, b = pars.tolist()\n",
    "print('a = {:4.3f}, b = {:4.3f}'.format(a,b))"
   ]
  },
  {
   "cell_type": "markdown",
   "metadata": {},
   "source": [
    "**TASKS:**\n",
    "1. Use the values of a and b you calculated and the following code to plot the curve\n",
    "   $$y = a \\, x + b$$\n",
    "   where $y$ is the velocity and $x$ the reference input along with the data you imported earlier\n",
    "   \n",
    "**QUESTIONS:**\n",
    "1. How well do they match?\n",
    "2. What is the meaning of the line when `motor1` > 0 but `velocity1` < 0\n",
    "3. Repeat for a line of the form y = a x "
   ]
  },
  {
   "cell_type": "code",
   "execution_count": null,
   "metadata": {
    "collapsed": false
   },
   "outputs": [],
   "source": [
    "plt.plot(motor1, velocity1, '.', np.array([0,100]), a * np.array([0,100]) + b,'-')\n",
    "plt.xlabel('motor1 (%)')\n",
    "plt.ylabel('velocity1 (Hz)')\n",
    "plt.grid()"
   ]
  },
  {
   "cell_type": "markdown",
   "metadata": {},
   "source": [
    "## Open-loop Control\n",
    "\n",
    "In open-loop control the **reference signal**, in the case of the DC motor the input **voltage**, is produced by an algorithm, the **controller**, as shown in the following block-diagram:\n",
    "\n",
    "<img src=\"figure2.png\" width=\"500\">\n",
    "\n",
    "**TASKS:**\n",
    "1. Use the line $$y = a x + b$$ where $y$ is the velocity and $x$ is the reference input to calculate the value of $x$ required to make the motor rotate at a constant 16Hz speed\n",
    "2. Write python code that resets the controller logger, and sets the reference at the value you calculated for 5s\n",
    "3. Import the data and plot time vs velocity and time vs reference\n",
    "4. Discard the first second of data and use `np.mean` and `np.std` to calculate the average and standard deviation of the velocity\n",
    "\n",
    "**QUESTIONS:**\n",
    "1. How well did your calculation performed?\n",
    "2. Generalize the calculation to work for any desired velocity: that's an **open-loop controller**"
   ]
  },
  {
   "cell_type": "markdown",
   "metadata": {},
   "source": [
    "**TASKS:**\n",
    "1. Run your code and have your group mate touch the top of the big pulley with his or her finger and apply a **gentle** force trying to stop the motor. Make sure the force **does not completely stop the motor**, as this may damage the motor\n",
    "2. Repeat the above steps to calculate the mean and standard deviation of the velocity in this case\n"
   ]
  },
  {
   "cell_type": "markdown",
   "metadata": {},
   "source": [
    "**QUESTIONS:**\n",
    "1. Is the average close to 16HZ?\n",
    "2. What happened to the velocity when your group mate touched the pulley?\n",
    "3. What is causing the change in velocity?"
   ]
  }
 ],
 "metadata": {
  "kernelspec": {
   "display_name": "Python 3",
   "language": "python",
   "name": "python3"
  },
  "language_info": {
   "codemirror_mode": {
    "name": "ipython",
    "version": 3
   },
   "file_extension": ".py",
   "mimetype": "text/x-python",
   "name": "python",
   "nbconvert_exporter": "python",
   "pygments_lexer": "ipython3",
   "version": "3.4.5"
  },
  "widgets": {
   "state": {
    "00d42501459842dba825c0dd20ba905f": {
     "views": []
    },
    "00d652778a8241d5aa2e802e40bcaac3": {
     "views": [
      {
       "cell_index": 22
      }
     ]
    },
    "0124c744078045db9de9b7e302bf8793": {
     "views": []
    },
    "03826f9a62f94515b1b07afb45d4f075": {
     "views": []
    },
    "05a66b31148d4184a5e36e52159e39e1": {
     "views": []
    },
    "06413cfeb1c94fb492702f9849fc0e39": {
     "views": []
    },
    "097f2284b9934fe0952669ef254cfc13": {
     "views": []
    },
    "0ddb759d91a94d27be03788cb380381b": {
     "views": []
    },
    "0e513a4ecd8e4ea6be40938425f94d07": {
     "views": []
    },
    "0f7bbef1cf8646f5936fcf178c22c634": {
     "views": []
    },
    "1037f372f5f5476b95f0041487b7edc1": {
     "views": []
    },
    "1284fba15af344b79a4aa2aeb1232781": {
     "views": []
    },
    "12a310e64405427197d6d6225a269f74": {
     "views": []
    },
    "13a0d45f982c49f09b05116e5a196ee0": {
     "views": []
    },
    "15d6183c5dc14ae692832fe1130f81f9": {
     "views": []
    },
    "17168c2fabae40d98aaa7deeb53e21fa": {
     "views": []
    },
    "18b0dc573bad494fa73a52648bd1ceb1": {
     "views": []
    },
    "1921a37102974c80bde2c762e3db23c4": {
     "views": []
    },
    "1a60493f5ea84c69b09777033b3fb604": {
     "views": []
    },
    "1a708393cbbd409f9d0d95c005eeb2a5": {
     "views": []
    },
    "1cd9cbd8131340c1ae579507e7e704f3": {
     "views": []
    },
    "1ee11e4d3e404264bc2f5b5f83a3c8cf": {
     "views": []
    },
    "20399aeea1d04c74abf1eb82fdeb5ec9": {
     "views": []
    },
    "2389a7ca7ba64fbcb5cf066cb59aaca4": {
     "views": []
    },
    "244f83346b2949528614cdf08a173807": {
     "views": []
    },
    "2ad243cdcfb64341a0ac6b357bd08af1": {
     "views": []
    },
    "2b00ebf8ea8e4bc681b10c7a88b92a15": {
     "views": []
    },
    "2b24bae1679d4c48bc199397c444ab43": {
     "views": [
      {
       "cell_index": 22
      }
     ]
    },
    "2b61f7cb0369425ea4c0d427272dabef": {
     "views": []
    },
    "2c7540991a084904b69ff027e883230a": {
     "views": [
      {
       "cell_index": 21
      }
     ]
    },
    "2d0dc82f3e8e4a629ef5b1ef909652ef": {
     "views": []
    },
    "2ebc0ceed971465cbe0beab4c6d17094": {
     "views": []
    },
    "32bb134e17b8418dbb7d314c01c6cd89": {
     "views": []
    },
    "33c0760395b7490e847dae9273cdf670": {
     "views": []
    },
    "347f6f5a9df54310aaebfb2dbcb0dfc3": {
     "views": []
    },
    "35498b91213c4e4ab52623178193d57f": {
     "views": []
    },
    "368944bfa1a046e8b7731607bdac4a5a": {
     "views": []
    },
    "3822ec9c008c4b0c808030785b992ac2": {
     "views": []
    },
    "3ebf2d58b7854677b4a605bb2be334fd": {
     "views": []
    },
    "422c5c9284e14919a6d7277f82c0ca15": {
     "views": []
    },
    "4674da3a7f6f442f8062f00f251e9397": {
     "views": []
    },
    "4758b965336a4455a9eedd93f33454e9": {
     "views": [
      {
       "cell_index": 24
      }
     ]
    },
    "484a1af8268e49a29c6e06ceebac8957": {
     "views": []
    },
    "49890bf5815540f982730a0a80fb6780": {
     "views": []
    },
    "4b30c44538834b85bfe4c99540e19ddd": {
     "views": []
    },
    "4b66a9fd581a4520bdba0d7e101ea341": {
     "views": []
    },
    "4bfb775e6132416abb11723e4cfdf4f9": {
     "views": []
    },
    "4c7e6f1f528a48febae5919b565bf4b3": {
     "views": []
    },
    "4cbdec65019942278952afdf1eb6dc54": {
     "views": []
    },
    "564751fc214a4e56b2dc1582c6eb4b39": {
     "views": []
    },
    "583319f78330410e8f382e732cf33ff0": {
     "views": []
    },
    "5868bae3d4544812af48c6e0ed3fa67f": {
     "views": [
      {
       "cell_index": 22
      }
     ]
    },
    "5a3816a7deff4ddc8a60fcb9bfb67e31": {
     "views": []
    },
    "5bbf16c6ed7c466e8d4745afe063967e": {
     "views": []
    },
    "5cadd908eb3f4631b4375187375700ce": {
     "views": []
    },
    "5df9fe26015a4f6e8c0c0604e614bbd6": {
     "views": []
    },
    "5e58f61d619d442e86ea4b5bda8e5ce6": {
     "views": []
    },
    "6114a588af9d4114ac10d748add57ed2": {
     "views": []
    },
    "63d1ffdb14414cc1b0536465a41df7c5": {
     "views": []
    },
    "667af0fdad9e4d4d990624fa929b7fd9": {
     "views": []
    },
    "6c3c8e78b5d1400ab1c79f1b58987256": {
     "views": []
    },
    "6edc897406654da68379f372ce1850af": {
     "views": []
    },
    "71676802312d4ef1908d0d70b58949b9": {
     "views": []
    },
    "7199a4e1216544f7b10bd96b4b031ae4": {
     "views": []
    },
    "71c9925f362f4867ba082b8645121f15": {
     "views": []
    },
    "747419dec63c48f8a204b86f6defb922": {
     "views": []
    },
    "751d30da7bd24137b29db4a1a3738cfd": {
     "views": []
    },
    "7dd74ed147474ee89910a45732afc80e": {
     "views": []
    },
    "7eef22e2acd94f1f8f4519d77a80fe33": {
     "views": []
    },
    "7f44eae022054fb688c0d19893a91c15": {
     "views": []
    },
    "7f7d8259526c48dc8a21bddc1fe07dd7": {
     "views": []
    },
    "82dc4fa928e44591b57bd484cc26cf44": {
     "views": []
    },
    "853eb14a143e4c6cb4bfe84b69609e0a": {
     "views": []
    },
    "8992d5a5018f494aa32754f5b5245e67": {
     "views": []
    },
    "8b380aeb2b184c84bcbf37a1871906c8": {
     "views": []
    },
    "98d8a8213b704c0eaecfb5b7a5583ace": {
     "views": []
    },
    "9d02715dfa6b4e2da40fee55cc7d1d39": {
     "views": []
    },
    "9ddbc6ceb44547049efea1aa543d2e42": {
     "views": []
    },
    "9f0becdf888d453eb12be33cb542617e": {
     "views": []
    },
    "a31e30a51a85405b8bf54948d7759e72": {
     "views": []
    },
    "a57e10b1bab74847841fc1d8a49494eb": {
     "views": [
      {
       "cell_index": 21
      }
     ]
    },
    "a5cc834a73c14ba8a1fdc377c8f00836": {
     "views": []
    },
    "a805667903414816af5b9f15b05761a2": {
     "views": []
    },
    "a9e36176b8014bdbad928a5338041edd": {
     "views": []
    },
    "aa54041e55514eb186c4716986bec7ed": {
     "views": []
    },
    "aed79ff4107849a895d275d89ef05a79": {
     "views": []
    },
    "b02b45ce1fad483681ebbab09647d3d4": {
     "views": []
    },
    "b4be12db026e45c6a3a9c7f2c7d931a5": {
     "views": []
    },
    "b593a0cabcef47a895dc2615eda7b764": {
     "views": []
    },
    "b7f65a2263a3471886945ee53440e70b": {
     "views": []
    },
    "bb63c6beeb60417882a3bfd3733472f5": {
     "views": []
    },
    "bbc8b7f4da7f4ffba37d2ae34bbb9ce1": {
     "views": []
    },
    "bbd7fb0b3d0740559009f833ee604473": {
     "views": []
    },
    "be97dabe6a0949529698fe0704f2134b": {
     "views": []
    },
    "c1e51fb810ec4398bae30598618df61d": {
     "views": []
    },
    "c779412c195f48d2872dd8c2db7a6433": {
     "views": []
    },
    "c8e9775c8bb946848eab0d1c2acee291": {
     "views": []
    },
    "c9cd153779274a79aa447992427286cf": {
     "views": []
    },
    "c9cd5c42dd3742be840f44b71acc5cfd": {
     "views": []
    },
    "cc2b540bb11b4b63b4ae943e992293c4": {
     "views": []
    },
    "cfe1d9e67dd448d0a6fb74cebe6f7021": {
     "views": []
    },
    "d17ca56eb84c4c9daf58311f2d9c61b4": {
     "views": []
    },
    "d360e214442744b0a32e4e193110f025": {
     "views": []
    },
    "d4b492cfe6074d8b9b75d52d85c49e59": {
     "views": []
    },
    "d6e30a90a5d34750a204c7005f1b2599": {
     "views": []
    },
    "d74c4e2275084f7bb238d8148e75a020": {
     "views": []
    },
    "d82bab65a54540b6b6d9dad6e6e371a7": {
     "views": []
    },
    "d8886ddf69f842038760a015364c7b9c": {
     "views": []
    },
    "d8cd04d0d7454811ae93878bb7f123a4": {
     "views": []
    },
    "da269b95bac7467e91f12d678b24af30": {
     "views": []
    },
    "daa3d04d5d3b43e081ce6e835664e30e": {
     "views": []
    },
    "dcdedae96e654e7aaf84987212f6f5e6": {
     "views": []
    },
    "df0a9c4d0c7a4b1eb8e015cf2db5c536": {
     "views": []
    },
    "e2d9eec4826047c79e6a5a7fe3326ffe": {
     "views": [
      {
       "cell_index": 24
      }
     ]
    },
    "e5eafa0372c84c6284317800ca823205": {
     "views": []
    },
    "e877e2319d48470a94ff0b4065373c2e": {
     "views": []
    },
    "ebc6e93cd9fa4fd59b4faa4c1de555ed": {
     "views": []
    },
    "ec3a0e46f21b4bfc952765e20ce8102d": {
     "views": []
    },
    "ec9664d83bd049ef8c7671d0f9cbff93": {
     "views": []
    },
    "edc227a794e04ca8b237c31f055f49b2": {
     "views": []
    },
    "edfb785d16114ba1aab125763c4d93bb": {
     "views": []
    },
    "ee30f5cbc2574969852fdb282b89378c": {
     "views": []
    },
    "ee82750f3a81402a93a06213d29db0c7": {
     "views": []
    },
    "eef929692134492d97df25046146d85a": {
     "views": []
    },
    "f09939bf89f04a05901bc38efd59c6d5": {
     "views": []
    },
    "f19bf3213aaa4c4e926dc418fbf01dd9": {
     "views": []
    },
    "f42955b70cba4e15874906a78180316a": {
     "views": []
    },
    "f56e210a73414880a99eda9d432a3176": {
     "views": []
    },
    "f65d6b41445d49faafe7d54230e838a3": {
     "views": []
    },
    "f6ddcb8fbd0d4f3ea439696544c572d8": {
     "views": []
    },
    "f923a571a1bb48978d21c4429f6df84d": {
     "views": []
    },
    "fb8960d62cc5496790a87deb4de3f0ed": {
     "views": []
    }
   },
   "version": "1.0.0"
  }
 },
 "nbformat": 4,
 "nbformat_minor": 0
}
