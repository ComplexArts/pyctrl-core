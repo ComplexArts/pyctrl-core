{
 "cells": [
  {
   "cell_type": "markdown",
   "metadata": {},
   "source": [
    "# Motor Identification"
   ]
  },
  {
   "cell_type": "markdown",
   "metadata": {},
   "source": [
    "In the first experiment:\n",
    "$$\n",
    "J_m \\, \\dot{\\omega} + b_m \\, \\omega = k_m \\, (v_a - v_0)\n",
    "$$\n",
    "and:\n",
    "$$\n",
    "\\begin{aligned}\n",
    "a_1 &= \\frac{k_m}{b_m}, &\n",
    "\\lambda_1 &= \\frac{b_m}{J_m}\n",
    "\\end{aligned}\n",
    "$$\n",
    "\n",
    "In the second experiment:\n",
    "$$\n",
    "(J_m + J_a) \\, \\dot{\\omega} + b_m \\, \\omega = k_m \\, (v_a - v_0)\n",
    "$$\n",
    "and:\n",
    "$$\n",
    "\\begin{aligned}\n",
    "a_2 &= \\frac{k_m}{b_m}, &\n",
    "\\lambda_2 &= \\frac{b_m}{J_m + J_a} = \\frac{1}{1 + J_a/J_m} \\frac{b_m}{J_m} = \\rho^{-1} \\lambda_1, &\n",
    "\\rho &= \\frac{\\lambda_1}{\\lambda_2} = 1 + J_a/J_m\n",
    "\\end{aligned}\n",
    "$$\n",
    "\n",
    "From here:\n",
    "\\begin{aligned}\n",
    "J_m &= \\frac{J_a}{\\rho - 1}, &\n",
    "b_m &= \\lambda_1 \\, J_m, &\n",
    "k_m &= a_1 \\, b_m = a_2 \\, b_m.\n",
    "\\end{aligned}\n",
    "\n"
   ]
  },
  {
   "cell_type": "code",
   "execution_count": 6,
   "metadata": {
    "collapsed": true
   },
   "outputs": [],
   "source": [
    "a1 = 0.010\n",
    "v01 = 10.769\n",
    "duty1 = 90.000\n",
    "omegabar1 = 0.771\n",
    "lambda1 = 18.094"
   ]
  },
  {
   "cell_type": "code",
   "execution_count": 7,
   "metadata": {
    "collapsed": false
   },
   "outputs": [],
   "source": [
    "a2 = 0.010\n",
    "v02 = 11.509\n",
    "duty2 = 90.000\n",
    "omegabar2 = 0.765\n",
    "lambda2 = 17.587"
   ]
  },
  {
   "cell_type": "code",
   "execution_count": 8,
   "metadata": {
    "collapsed": false
   },
   "outputs": [
    {
     "name": "stdout",
     "output_type": "stream",
     "text": [
      "Ja = 0.000042\n"
     ]
    }
   ],
   "source": [
    "#lamba = 12.9\n",
    "ma = 60/1000\n",
    "ra = 7.5/100/2\n",
    "Ja = ma*ra**2/2\n",
    "print('Ja = {:8.6f}'.format(Ja))"
   ]
  },
  {
   "cell_type": "code",
   "execution_count": 12,
   "metadata": {
    "collapsed": false
   },
   "outputs": [
    {
     "name": "stdout",
     "output_type": "stream",
     "text": [
      "rho = 1.028828\n",
      "Jm = 0.001463\n",
      "km = 0.000265\n",
      "bm = 0.026479\n"
     ]
    }
   ],
   "source": [
    "rho = lambda1/lambda2\n",
    "Jm = Ja/(rho-1)\n",
    "bm = lambda1 * Jm\n",
    "km = a1 * bm\n",
    "print('rho = {:8.6f}\\nJm = {:8.6f}\\nkm = {:8.6f}\\nbm = {:8.6f}'.format(rho,Jm,km,bm))"
   ]
  },
  {
   "cell_type": "code",
   "execution_count": null,
   "metadata": {
    "collapsed": true
   },
   "outputs": [],
   "source": []
  }
 ],
 "metadata": {
  "kernelspec": {
   "display_name": "Python 3",
   "language": "python",
   "name": "python3"
  },
  "language_info": {
   "codemirror_mode": {
    "name": "ipython",
    "version": 3
   },
   "file_extension": ".py",
   "mimetype": "text/x-python",
   "name": "python",
   "nbconvert_exporter": "python",
   "pygments_lexer": "ipython3",
   "version": "3.4.3"
  }
 },
 "nbformat": 4,
 "nbformat_minor": 0
}
