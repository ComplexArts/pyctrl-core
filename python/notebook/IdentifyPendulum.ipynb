{
 "cells": [
  {
   "cell_type": "markdown",
   "metadata": {},
   "source": [
    "#Identify Pendulum"
   ]
  },
  {
   "cell_type": "code",
   "execution_count": 1,
   "metadata": {
    "collapsed": false
   },
   "outputs": [],
   "source": [
    "import sys\n",
    "sys.path.append('..')"
   ]
  },
  {
   "cell_type": "code",
   "execution_count": 2,
   "metadata": {
    "collapsed": false
   },
   "outputs": [],
   "source": [
    "%matplotlib inline  \n",
    "import matplotlib\n",
    "import numpy as np\n",
    "import matplotlib.pyplot as plt\n",
    "import math\n",
    "import time"
   ]
  },
  {
   "cell_type": "code",
   "execution_count": 3,
   "metadata": {
    "collapsed": false
   },
   "outputs": [],
   "source": [
    "from ctrl.system.tf import PID\n",
    "from ctrl.block.linear import Gain, Feedback\n",
    "from ctrl.block.logger import Logger"
   ]
  },
  {
   "cell_type": "code",
   "execution_count": 4,
   "metadata": {
    "collapsed": false
   },
   "outputs": [],
   "source": [
    "from ctrl.client import Controller\n",
    "HOST, PORT = \"192.168.10.102\", 9999\n",
    "HOST, PORT = \"localhost\", 9999\n",
    "controller = Controller(host = HOST, port = PORT)"
   ]
  },
  {
   "cell_type": "code",
   "execution_count": 28,
   "metadata": {
    "collapsed": false
   },
   "outputs": [],
   "source": [
    "controller.reset()\n",
    "controller.add_sink('logger', \n",
    "                    Logger(), \n",
    "                    ['clock', 'encoder1','motor1'])"
   ]
  },
  {
   "cell_type": "code",
   "execution_count": 29,
   "metadata": {
    "collapsed": false
   },
   "outputs": [
    {
     "name": "stdout",
     "output_type": "stream",
     "text": [
      "> Controller with 5 signal(s), 1 source(s), 1 sink(s), and 2 filter(s)\n",
      "> period = 0.01s\n",
      "> signals\n",
      "  1. clock\n",
      "  2. motor1\n",
      "  3. encoder1\n",
      "  4. pot1\n",
      "  5. input1\n",
      "> sources\n",
      "  1. clock[enabled] >> clock\n",
      "> filters\n",
      "  1. motor1 >> dz1[enabled] >> input1\n",
      "  2. input1 >> model1[enabled] >> encoder1\n",
      "> sinks\n",
      "  1. clock, encoder1, motor1 >> logger[enabled]\n",
      "\n"
     ]
    }
   ],
   "source": [
    "print(controller.info('all'))"
   ]
  },
  {
   "cell_type": "markdown",
   "metadata": {
    "collapsed": true
   },
   "source": [
    "# Identifying the Friction"
   ]
  },
  {
   "cell_type": "code",
   "execution_count": null,
   "metadata": {
    "collapsed": true
   },
   "outputs": [],
   "source": [
    "from ctrl.bbb.mpu6050 import Inclinometer "
   ]
  },
  {
   "cell_type": "code",
   "execution_count": null,
   "metadata": {
    "collapsed": true
   },
   "outputs": [],
   "source": [
    "controller.set_sink('logger','reset')\n",
    "with controller:\n",
    "    controller.set_signal('motor1',70)\n",
    "    time.sleep(.3)\n",
    "    #controller.set_signal('motor1',-70)\n",
    "    #time.sleep(.05)\n",
    "    controller.set_signal('motor1',0)\n",
    "    time.sleep(5)\n",
    "log = controller.read_sink('logger')"
   ]
  },
  {
   "cell_type": "code",
   "execution_count": null,
   "metadata": {
    "collapsed": true
   },
   "outputs": [],
   "source": [
    "t = log[:,0]\n",
    "position = log[:,1]\n",
    "reference = log[:,2]\n",
    "control = log[:,3]\n",
    "velocity = np.zeros(t.shape, float)\n",
    "velocity[1:] = (position[1:]-position[:-1])/(t[1:]-t[:-1])\n",
    "\n",
    "ind = np.where(t > 0.5)\n",
    "\n",
    "plt.subplot(2,1,1)\n",
    "plt.plot(t, position*180/math.pi, '.')\n",
    "plt.xlabel('t (s)')\n",
    "plt.ylabel('position (Hz)')\n",
    "plt.grid()\n",
    "plt.xlim(.94,4.3)\n",
    "plt.ylim(-5,5)\n",
    "\n",
    "plt.subplot(2,1,2)\n",
    "plt.plot(t, control, '.', t, reference, '-')\n",
    "plt.xlabel('t (s)')\n",
    "plt.ylabel('control (%)')\n",
    "plt.grid()\n",
    "plt.xlim(.75,6)"
   ]
  },
  {
   "cell_type": "code",
   "execution_count": null,
   "metadata": {
    "collapsed": true
   },
   "outputs": [],
   "source": [
    "J2 = 0.0000348\n",
    "wn = 31.25\n",
    "\n",
    "Td = (4.3-.94)/4\n",
    "wd = 2*math.pi/Td\n",
    "zeta = math.sqrt(1-(wd/wn)**2)\n",
    "print('wd = {:5.3f}, wn = {:5.3f}, zeta = {:5.3f}'.format(wd,wn,zeta))\n",
    "bTheta = 4*J2*zeta*wn\n",
    "print('bTheta = {:5.3f}'.format(bTheta))"
   ]
  }
 ],
 "metadata": {
  "kernelspec": {
   "display_name": "Python 3",
   "language": "python",
   "name": "python3"
  },
  "language_info": {
   "codemirror_mode": {
    "name": "ipython",
    "version": 3
   },
   "file_extension": ".py",
   "mimetype": "text/x-python",
   "name": "python",
   "nbconvert_exporter": "python",
   "pygments_lexer": "ipython3",
   "version": "3.4.3"
  }
 },
 "nbformat": 4,
 "nbformat_minor": 0
}
