{
 "metadata": {
  "name": "",
  "signature": "sha256:0476b83d80c1b5a5a33f536a4ef33dba0e98bba7c6a15b93e09e9c9f8e8d565c"
 },
 "nbformat": 3,
 "nbformat_minor": 0,
 "worksheets": [
  {
   "cells": [
    {
     "cell_type": "heading",
     "level": 1,
     "metadata": {},
     "source": [
      "Controller on Server"
     ]
    },
    {
     "cell_type": "code",
     "collapsed": false,
     "input": [
      "import sys\n",
      "sys.path.append('..')"
     ],
     "language": "python",
     "metadata": {},
     "outputs": [],
     "prompt_number": 8
    },
    {
     "cell_type": "code",
     "collapsed": false,
     "input": [
      "import time\n",
      "from ctrl.client import Controller"
     ],
     "language": "python",
     "metadata": {},
     "outputs": [],
     "prompt_number": 9
    },
    {
     "cell_type": "code",
     "collapsed": false,
     "input": [
      "HOST, PORT = \"localhost\", 9999\n",
      "controller = Controller(HOST, PORT)"
     ],
     "language": "python",
     "metadata": {},
     "outputs": [],
     "prompt_number": 10
    },
    {
     "cell_type": "code",
     "collapsed": false,
     "input": [
      "print(controller.help())"
     ],
     "language": "python",
     "metadata": {},
     "outputs": [
      {
       "output_type": "stream",
       "stream": "stdout",
       "text": [
        "\n",
        "Controller Server, version 1.0\n",
        "Available commands:\n",
        " h: Help\n",
        " s: Start control loop\n",
        " L: Set logger\n",
        " t: Stop control loop\n",
        " R: Set reference\n",
        " C: Set controller\n",
        " T: Reset logger\n",
        " E: Set echo\n",
        " l: Get log\n"
       ]
      }
     ],
     "prompt_number": 11
    },
    {
     "cell_type": "code",
     "collapsed": false,
     "input": [
      "controller.set_echo(0)\n",
      "controller.reset_logger()"
     ],
     "language": "python",
     "metadata": {},
     "outputs": [],
     "prompt_number": 5
    },
    {
     "cell_type": "code",
     "collapsed": false,
     "input": [
      "with controller:\n",
      "    time.sleep(1)\n",
      "    controller.set_reference1(100)\n",
      "    time.sleep(1)\n",
      "    controller.set_reference1(-50)\n",
      "    time.sleep(1)\n",
      "    controller.set_reference1(0)\n",
      "    time.sleep(1)"
     ],
     "language": "python",
     "metadata": {},
     "outputs": [],
     "prompt_number": 12
    },
    {
     "cell_type": "code",
     "collapsed": false,
     "input": [
      "print(controller.get_log())"
     ],
     "language": "python",
     "metadata": {},
     "outputs": [
      {
       "output_type": "stream",
       "stream": "stdout",
       "text": [
        "[[  4.42606954  13.96985694   0.         ...,  74.87108867   0.           0.        ]\n",
        " [  4.43860352  18.38726953   0.         ...,  53.39300742   0.           0.        ]\n",
        " [  4.46165604  54.19784255   0.         ...,  32.1765741    0.           0.        ]\n",
        " ..., \n",
        " [  8.40067656  94.00657945   0.         ...,  14.26975748   0.           0.        ]\n",
        " [  8.41227085  20.78647387   0.         ...,  86.39736822   0.           0.        ]\n",
        " [  8.42300445   6.73552138   0.         ...,  19.04062428   0.           0.        ]]\n"
       ]
      }
     ],
     "prompt_number": 7
    },
    {
     "cell_type": "code",
     "collapsed": false,
     "input": [],
     "language": "python",
     "metadata": {},
     "outputs": []
    }
   ],
   "metadata": {}
  }
 ]
}