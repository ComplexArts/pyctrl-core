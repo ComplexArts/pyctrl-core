{
 "cells": [
  {
   "cell_type": "markdown",
   "metadata": {},
   "source": [
    "# Motor Identification"
   ]
  },
  {
   "cell_type": "code",
   "execution_count": 24,
   "metadata": {
    "collapsed": false
   },
   "outputs": [],
   "source": [
    "import sys\n",
    "sys.path.append('..')"
   ]
  },
  {
   "cell_type": "code",
   "execution_count": 25,
   "metadata": {
    "collapsed": false
   },
   "outputs": [],
   "source": [
    "%matplotlib inline  \n",
    "import matplotlib\n",
    "import numpy as np\n",
    "import matplotlib.pyplot as plt\n",
    "import math\n",
    "import time"
   ]
  },
  {
   "cell_type": "code",
   "execution_count": 26,
   "metadata": {
    "collapsed": false
   },
   "outputs": [],
   "source": [
    "from ctrl.system.tf import PID\n",
    "from ctrl.block.linear import Gain, Feedback\n",
    "from ctrl.block.logger import Logger"
   ]
  },
  {
   "cell_type": "code",
   "execution_count": 27,
   "metadata": {
    "collapsed": false
   },
   "outputs": [],
   "source": [
    "from ctrl.client import Controller\n",
    "HOST, PORT = \"192.168.10.102\", 9999\n",
    "HOST, PORT = \"localhost\", 9999\n",
    "controller = Controller(host = HOST, port = PORT)"
   ]
  },
  {
   "cell_type": "markdown",
   "metadata": {},
   "source": [
    "##Static Reponse"
   ]
  },
  {
   "cell_type": "code",
   "execution_count": 28,
   "metadata": {
    "collapsed": false
   },
   "outputs": [],
   "source": [
    "controller.reset()\n",
    "controller.add_sink('logger', \n",
    "                    Logger(), \n",
    "                    ['clock', 'encoder1','motor1'])"
   ]
  },
  {
   "cell_type": "code",
   "execution_count": 29,
   "metadata": {
    "collapsed": false
   },
   "outputs": [
    {
     "name": "stdout",
     "output_type": "stream",
     "text": [
      "> Controller with 5 signal(s), 1 source(s), 1 sink(s), and 2 filter(s)\n",
      "> period = 0.01s\n",
      "> signals\n",
      "  1. clock\n",
      "  2. motor1\n",
      "  3. encoder1\n",
      "  4. pot1\n",
      "  5. input1\n",
      "> sources\n",
      "  1. clock[enabled] >> clock\n",
      "> filters\n",
      "  1. motor1 >> dz1[enabled] >> input1\n",
      "  2. input1 >> model1[enabled] >> encoder1\n",
      "> sinks\n",
      "  1. clock, encoder1, motor1 >> logger[enabled]\n",
      "\n"
     ]
    }
   ],
   "source": [
    "print(controller.info('all'))"
   ]
  },
  {
   "cell_type": "code",
   "execution_count": 30,
   "metadata": {
    "collapsed": false
   },
   "outputs": [
    {
     "name": "stdout",
     "output_type": "stream",
     "text": [
      "> Identifying motor static response\n",
      "  duty cycle = 0%\n",
      "< Done\n",
      "> Retrieving data\n",
      "< Done\n"
     ]
    }
   ],
   "source": [
    "print('> Identifying motor static response')\n",
    "controller.set_sink('logger',reset=True)\n",
    "dT = 3\n",
    "dD = 5\n",
    "ts = []\n",
    "with controller:\n",
    "    time.sleep(1)\n",
    "    for duty_cycle in range(0,100+dD,dD):\n",
    "        print('\\r  duty cycle = {}%'.format(100-duty_cycle), end='')\n",
    "        ts.append(controller.get_signal('clock'))\n",
    "        controller.set_signal('motor1', 100-duty_cycle)\n",
    "        time.sleep(dT)\n",
    "print('\\n< Done')\n",
    "print('> Retrieving data')\n",
    "log = controller.read_sink('logger')\n",
    "print('< Done')"
   ]
  },
  {
   "cell_type": "code",
   "execution_count": 31,
   "metadata": {
    "collapsed": true
   },
   "outputs": [],
   "source": [
    "# Duration of transient\n",
    "Tt = 1"
   ]
  },
  {
   "cell_type": "code",
   "execution_count": 32,
   "metadata": {
    "collapsed": false
   },
   "outputs": [
    {
     "name": "stderr",
     "output_type": "stream",
     "text": [
      "/Users/mauricio/anaconda/lib/python3.4/site-packages/IPython/kernel/__main__.py:6: RuntimeWarning: divide by zero encountered in true_divide\n"
     ]
    }
   ],
   "source": [
    "t = log[:,0]\n",
    "pos = log[:,1]\n",
    "ref = log[:,2]\n",
    "\n",
    "vel = np.zeros(t.shape, float)\n",
    "vel[1:] = (pos[1:]-pos[:-1])/(t[1:]-t[:-1])\n",
    "\n",
    "ssvel = np.array([])\n",
    "sst = np.array([])\n",
    "ssref = np.array([])\n",
    "for (tk,tr) in zip(ts[:-1],ts[1:]):\n",
    "    ind = np.where((t > tk + Tt)&(t < tr))\n",
    "    sst = np.append(t[ind], sst)\n",
    "    ssvel = np.append(vel[ind], ssvel)\n",
    "    ssref = np.append(ref[ind], ssref)"
   ]
  },
  {
   "cell_type": "code",
   "execution_count": 33,
   "metadata": {
    "collapsed": false
   },
   "outputs": [
    {
     "data": {
      "image/png": "[encoded data removed]",
      "text/plain": [
       "<matplotlib.figure.Figure at 0x10669bc88>"
      ]
     },
     "metadata": {},
     "output_type": "display_data"
    }
   ],
   "source": [
    "plt.subplot(2,1,1)\n",
    "plt.plot(sst, ssvel, '.')\n",
    "plt.xlabel('t (s)')\n",
    "plt.ylabel('velocity (Hz)')\n",
    "plt.grid()\n",
    "\n",
    "plt.subplot(2,1,2)\n",
    "plt.plot(ssref, ssvel, '.')\n",
    "plt.xlabel('reference (%)')\n",
    "plt.ylabel('velocity (Hz)')\n",
    "plt.grid()"
   ]
  },
  {
   "cell_type": "code",
   "execution_count": 34,
   "metadata": {
    "collapsed": false
   },
   "outputs": [
    {
     "name": "stdout",
     "output_type": "stream",
     "text": [
      "a = 0.106, v0 = 9.016\n"
     ]
    }
   ],
   "source": [
    "def func(x, a, v0):\n",
    "    return a * (x - v0)\n",
    "\n",
    "import scipy.optimize as optimize\n",
    "\n",
    "ind = np.where(ssvel > 0)\n",
    "pars, residues = optimize.curve_fit(func, ssref[ind], ssvel[ind])\n",
    "a, v0 = pars.tolist()\n",
    "print('a = {:4.3f}, v0 = {:4.3f}'.format(a,v0))"
   ]
  },
  {
   "cell_type": "code",
   "execution_count": 35,
   "metadata": {
    "collapsed": false
   },
   "outputs": [
    {
     "data": {
      "image/png": "[encoded data removed]",
      "text/plain": [
       "<matplotlib.figure.Figure at 0x107932cf8>"
      ]
     },
     "metadata": {},
     "output_type": "display_data"
    }
   ],
   "source": [
    "plt.plot(ssref, ssvel, '.', np.linspace(0,100), np.maximum(a * (np.linspace(0,100) - v0),0),'r-')\n",
    "plt.xlabel('reference (%)')\n",
    "plt.ylabel('velocity (Hz)')\n",
    "plt.grid()"
   ]
  },
  {
   "cell_type": "markdown",
   "metadata": {},
   "source": [
    "##Dynamic Response"
   ]
  },
  {
   "cell_type": "markdown",
   "metadata": {},
   "source": [
    "With a constant input:\n",
    "$$\n",
    "\\omega(t) = \\bar{\\omega} \\left ( 1 - e^{\\lambda t} \\right )\n",
    "$$\n",
    "where:\n",
    "$$\n",
    "\\begin{aligned}\n",
    "\\bar{\\omega} &= a \\, (v_a - v_0), & a &= \\frac{k_m}{b_m}, & \\lambda &= \\frac{b_m}{J_m}\n",
    "\\end{aligned}\n",
    "$$"
   ]
  },
  {
   "cell_type": "code",
   "execution_count": 36,
   "metadata": {
    "collapsed": false
   },
   "outputs": [
    {
     "name": "stdout",
     "output_type": "stream",
     "text": [
      "> Identifying motor dynamic response\n",
      "  Experiment #5\n",
      "< Done\n",
      "> Retrieving data\n",
      "< Done\n"
     ]
    }
   ],
   "source": [
    "print('> Identifying motor dynamic response')\n",
    "K = 5\n",
    "T0 = 1\n",
    "T1 = 2\n",
    "tref = []\n",
    "duty = 90\n",
    "with controller:\n",
    "    controller.set_sink('logger',reset=True)\n",
    "    for k in range(K):\n",
    "        print('\\r  Experiment #{}'.format(k+1),end='')\n",
    "        time.sleep(T0)\n",
    "        t0=controller.get_signal('clock')\n",
    "        controller.set_signal('motor1',duty)\n",
    "        time.sleep(T1)\n",
    "        t1=controller.get_signal('clock')\n",
    "        controller.set_signal('motor1',0)\n",
    "        time.sleep(T0)\n",
    "        tref.append((t0,t1))\n",
    "print('\\n< Done')\n",
    "print('> Retrieving data')\n",
    "log = controller.read_sink('logger')\n",
    "print('< Done')"
   ]
  },
  {
   "cell_type": "code",
   "execution_count": 37,
   "metadata": {
    "collapsed": false
   },
   "outputs": [
    {
     "name": "stderr",
     "output_type": "stream",
     "text": [
      "/Users/mauricio/anaconda/lib/python3.4/site-packages/IPython/kernel/__main__.py:6: RuntimeWarning: divide by zero encountered in true_divide\n"
     ]
    }
   ],
   "source": [
    "t = log[:,0]\n",
    "pos = log[:,1]\n",
    "ref = log[:,2]\n",
    "\n",
    "vel = np.zeros(t.shape, float)\n",
    "vel[1:] = (pos[1:]-pos[:-1])/(t[1:]-t[:-1])"
   ]
  },
  {
   "cell_type": "code",
   "execution_count": 38,
   "metadata": {
    "collapsed": true
   },
   "outputs": [],
   "source": [
    "Ts = controller.get_period()"
   ]
  },
  {
   "cell_type": "code",
   "execution_count": 39,
   "metadata": {
    "collapsed": false
   },
   "outputs": [
    {
     "name": "stdout",
     "output_type": "stream",
     "text": [
      "N = 426, omegabar = 8.418[8.591]\n"
     ]
    }
   ],
   "source": [
    "N = 0\n",
    "omegabar = 0\n",
    "for (tk,tr) in tref:\n",
    "    indss = np.where((t > tk+Tt) & (t < tr))\n",
    "    nss = len(indss[0])\n",
    "    omegabar += nss * np.mean(vel[indss])\n",
    "    N += nss\n",
    "omegabar /= N\n",
    "print('N = {}, omegabar = {:5.3f}[{:5.3f}]'.format(N, omegabar, a * (duty-v0)))"
   ]
  },
  {
   "cell_type": "code",
   "execution_count": 40,
   "metadata": {
    "collapsed": false
   },
   "outputs": [],
   "source": [
    "N = 0\n",
    "vtr = np.array([])\n",
    "ttr = np.array([])\n",
    "for (tk,tr) in tref:\n",
    "    indtr = np.where((t > tk + Ts) & (t < tk+Tt))\n",
    "    vtr = np.hstack((vtr,vel[indtr]))\n",
    "    ttr = np.hstack((ttr,t[indtr]-tk-Ts))"
   ]
  },
  {
   "cell_type": "code",
   "execution_count": 41,
   "metadata": {
    "collapsed": false
   },
   "outputs": [
    {
     "name": "stdout",
     "output_type": "stream",
     "text": [
      "lambda = 12.463, eta = -3.262\n"
     ]
    },
    {
     "name": "stderr",
     "output_type": "stream",
     "text": [
      "/Users/mauricio/anaconda/lib/python3.4/site-packages/IPython/kernel/__main__.py:7: RuntimeWarning: invalid value encountered in log\n"
     ]
    }
   ],
   "source": [
    "def func(x, a, b):\n",
    "    return np.maximum(-a * x, b)\n",
    "\n",
    "import scipy.optimize as optimize\n",
    "\n",
    "x = ttr\n",
    "y = np.log(1-vtr/omegabar)\n",
    "ind = ~np.isnan(y)\n",
    "x = x[ind]\n",
    "y = y[ind]\n",
    "\n",
    "pars, residues = optimize.curve_fit(func, x, y)\n",
    "lamb, eta = pars\n",
    "print('lambda = {:4.3f}, eta = {:4.3f}'.format(lamb,eta))"
   ]
  },
  {
   "cell_type": "code",
   "execution_count": 42,
   "metadata": {
    "collapsed": false
   },
   "outputs": [
    {
     "data": {
      "image/png": "[encoded data removed]",
      "text/plain": [
       "<matplotlib.figure.Figure at 0x10671bd30>"
      ]
     },
     "metadata": {},
     "output_type": "display_data"
    }
   ],
   "source": [
    "plt.subplot(2,1,1)\n",
    "plt.plot(ttr,vtr,'.',np.linspace(0,Tt),omegabar*(1-np.exp(-lamb*np.linspace(0,Tt))),'r-')\n",
    "plt.grid()\n",
    "\n",
    "plt.subplot(2,1,2)\n",
    "plt.plot(x,y,'.',\n",
    "         np.linspace(0,Tt),np.maximum(-lamb*np.linspace(0,Tt),eta),'r-')\n",
    "plt.grid()"
   ]
  },
  {
   "cell_type": "markdown",
   "metadata": {},
   "source": [
    "## Identifying $J_m$"
   ]
  },
  {
   "cell_type": "markdown",
   "metadata": {},
   "source": [
    "Repeat experiment with known $J_a$ then:\n",
    "$$\n",
    "(J_m + J_a) \\, \\dot{\\omega} + b_m \\, \\omega = k_m \\, (v_a - v_0)\n",
    "$$\n",
    "then:\n",
    "$$\n",
    "\\begin{aligned}\n",
    "a &= \\frac{k_m}{b_m}, & \\lambda_a &= \\frac{b_m}{J_m + J_a} = \\frac{1}{1 + J_a/J_m} \\frac{b_m}{J_m} = \\rho^{-1} \\lambda, & \\rho &= \\frac{\\lambda}{\\lambda_a} = 1 + J_a/J_m\n",
    "\\end{aligned}\n",
    "$$\n",
    "From here:\n",
    "\\begin{aligned}\n",
    "J_m &= \\frac{J_a}{\\rho - 1}, &\n",
    "b_m &= \\lambda \\, J_m, &\n",
    "k_m &= a \\, b_m.\n",
    "\\end{aligned}\n",
    "\n"
   ]
  },
  {
   "cell_type": "code",
   "execution_count": 43,
   "metadata": {
    "collapsed": false
   },
   "outputs": [
    {
     "name": "stdout",
     "output_type": "stream",
     "text": [
      "> Identifying motor dynamic response\n",
      "  Experiment #5\n",
      "< Done\n",
      "> Retrieving data\n",
      "< Done\n"
     ]
    }
   ],
   "source": [
    "print('> Identifying motor dynamic response')\n",
    "K = 5\n",
    "T0 = 1\n",
    "T1 = 2\n",
    "tref = []\n",
    "duty = 90\n",
    "with controller:\n",
    "    controller.set_sink('logger',reset=True)\n",
    "    for k in range(K):\n",
    "        print('\\r  Experiment #{}'.format(k+1),end='')\n",
    "        time.sleep(T0)\n",
    "        t0=controller.get_signal('clock')\n",
    "        controller.set_signal('motor1',duty)\n",
    "        time.sleep(T1)\n",
    "        t1=controller.get_signal('clock')\n",
    "        controller.set_signal('motor1',0)\n",
    "        time.sleep(T0)\n",
    "        tref.append((t0,t1))\n",
    "print('\\n< Done')\n",
    "print('> Retrieving data')\n",
    "log = controller.read_sink('logger')\n",
    "print('< Done')"
   ]
  },
  {
   "cell_type": "code",
   "execution_count": 44,
   "metadata": {
    "collapsed": false
   },
   "outputs": [
    {
     "name": "stderr",
     "output_type": "stream",
     "text": [
      "/Users/mauricio/anaconda/lib/python3.4/site-packages/IPython/kernel/__main__.py:6: RuntimeWarning: divide by zero encountered in true_divide\n"
     ]
    }
   ],
   "source": [
    "t = log[:,0]\n",
    "pos = log[:,1]\n",
    "ref = log[:,2]\n",
    "\n",
    "vel = np.zeros(t.shape, float)\n",
    "vel[1:] = (pos[1:]-pos[:-1])/(t[1:]-t[:-1])"
   ]
  },
  {
   "cell_type": "code",
   "execution_count": 45,
   "metadata": {
    "collapsed": false
   },
   "outputs": [
    {
     "name": "stdout",
     "output_type": "stream",
     "text": [
      "N = 409, omegabar = 8.123[8.591]\n"
     ]
    }
   ],
   "source": [
    "N = 0\n",
    "omegabar = 0\n",
    "for (tk,tr) in tref:\n",
    "    indss = np.where((t > tk+Tt) & (t < tr))\n",
    "    nss = len(indss[0])\n",
    "    omegabar += nss * np.mean(vel[indss])\n",
    "    N += nss\n",
    "omegabar /= N\n",
    "print('N = {}, omegabar = {:5.3f}[{:5.3f}]'.format(N, omegabar, a * (duty-v0)))"
   ]
  },
  {
   "cell_type": "code",
   "execution_count": 46,
   "metadata": {
    "collapsed": false
   },
   "outputs": [],
   "source": [
    "N = 0\n",
    "vtr = np.array([])\n",
    "ttr = np.array([])\n",
    "for (tk,tr) in tref:\n",
    "    indtr = np.where((t > tk + Ts) & (t < tk+Tt))\n",
    "    vtr = np.hstack((vtr,vel[indtr]))\n",
    "    ttr = np.hstack((ttr,t[indtr]-tk-Ts))"
   ]
  },
  {
   "cell_type": "code",
   "execution_count": 47,
   "metadata": {
    "collapsed": false
   },
   "outputs": [
    {
     "name": "stdout",
     "output_type": "stream",
     "text": [
      "lambda_a = 11.538, eta = -2.772\n"
     ]
    },
    {
     "name": "stderr",
     "output_type": "stream",
     "text": [
      "/Users/mauricio/anaconda/lib/python3.4/site-packages/IPython/kernel/__main__.py:7: RuntimeWarning: invalid value encountered in log\n"
     ]
    }
   ],
   "source": [
    "def func(x, a, b):\n",
    "    return np.maximum(-a * x, b)\n",
    "\n",
    "import scipy.optimize as optimize\n",
    "\n",
    "x = ttr\n",
    "y = np.log(1-vtr/omegabar)\n",
    "ind = ~np.isnan(y)\n",
    "x = x[ind]\n",
    "y = y[ind]\n",
    "\n",
    "pars, residues = optimize.curve_fit(func, x, y)\n",
    "lamb_a, eta_a = pars\n",
    "print('lambda_a = {:4.3f}, eta = {:4.3f}'.format(lamb_a,eta_a))"
   ]
  },
  {
   "cell_type": "code",
   "execution_count": 48,
   "metadata": {
    "collapsed": false
   },
   "outputs": [
    {
     "data": {
      "image/png": "[encoded data removed]",
      "text/plain": [
       "<matplotlib.figure.Figure at 0x107f5b4a8>"
      ]
     },
     "metadata": {},
     "output_type": "display_data"
    }
   ],
   "source": [
    "plt.subplot(2,1,1)\n",
    "plt.plot(ttr,vtr,'.',np.linspace(0,Tt),omegabar*(1-np.exp(-lamb*np.linspace(0,Tt))),'r-')\n",
    "plt.grid()\n",
    "\n",
    "plt.subplot(2,1,2)\n",
    "plt.plot(x,y,'.',\n",
    "         np.linspace(0,Tt),np.maximum(-lamb*np.linspace(0,Tt),eta),'r-')\n",
    "plt.grid()"
   ]
  },
  {
   "cell_type": "code",
   "execution_count": 49,
   "metadata": {
    "collapsed": false
   },
   "outputs": [
    {
     "name": "stdout",
     "output_type": "stream",
     "text": [
      "Ja = 0.000043\n"
     ]
    }
   ],
   "source": [
    "#lamba = 12.9\n",
    "ma = 60/1000\n",
    "ra = 3.8/100\n",
    "Ja = ma*ra**2/2\n",
    "print('Ja = {:8.6f}'.format(Ja))"
   ]
  },
  {
   "cell_type": "code",
   "execution_count": 50,
   "metadata": {
    "collapsed": false
   },
   "outputs": [
    {
     "name": "stdout",
     "output_type": "stream",
     "text": [
      "Jm = 0.000540, km = 0.000715, bm = 0.006735\n"
     ]
    }
   ],
   "source": [
    "rho = lamb/lamb_a\n",
    "Jm = Ja/(rho-1)\n",
    "bm = lamb * Jm\n",
    "km = a * bm\n",
    "print('Jm = {:8.6f}, km = {:8.6f}, bm = {:8.6f}'.format(Jm,km,bm))"
   ]
  }
 ],
 "metadata": {
  "kernelspec": {
   "display_name": "Python 3",
   "language": "python",
   "name": "python3"
  },
  "language_info": {
   "codemirror_mode": {
    "name": "ipython",
    "version": 3
   },
   "file_extension": ".py",
   "mimetype": "text/x-python",
   "name": "python",
   "nbconvert_exporter": "python",
   "pygments_lexer": "ipython3",
   "version": "3.4.3"
  }
 },
 "nbformat": 4,
 "nbformat_minor": 0
}
