{
 "cells": [
  {
   "cell_type": "markdown",
   "metadata": {},
   "source": [
    "# Motor Identification"
   ]
  },
  {
   "cell_type": "code",
   "execution_count": 5,
   "metadata": {
    "collapsed": false
   },
   "outputs": [],
   "source": [
    "import sys\n",
    "sys.path.append('..')"
   ]
  },
  {
   "cell_type": "code",
   "execution_count": 6,
   "metadata": {
    "collapsed": false
   },
   "outputs": [],
   "source": [
    "%matplotlib inline  \n",
    "import matplotlib\n",
    "import numpy as np\n",
    "import matplotlib.pyplot as plt\n",
    "import math\n",
    "import time"
   ]
  },
  {
   "cell_type": "code",
   "execution_count": 7,
   "metadata": {
    "collapsed": false
   },
   "outputs": [],
   "source": [
    "from ctrl.linear import Gain, PID, Feedback\n",
    "from ctrl.logger import Logger"
   ]
  },
  {
   "cell_type": "code",
   "execution_count": 8,
   "metadata": {
    "collapsed": false
   },
   "outputs": [],
   "source": [
    "from ctrl.client import Controller\n",
    "HOST, PORT = \"192.168.10.102\", 9999\n",
    "controller = Controller(host = HOST, port = PORT)"
   ]
  },
  {
   "cell_type": "markdown",
   "metadata": {},
   "source": [
    "##Static Curve"
   ]
  },
  {
   "cell_type": "code",
   "execution_count": 9,
   "metadata": {
    "collapsed": false
   },
   "outputs": [],
   "source": [
    "controller.add_sink('logger', Logger(), ['clock', 'encoder1'])"
   ]
  },
  {
   "cell_type": "code",
   "execution_count": 14,
   "metadata": {
    "collapsed": false
   },
   "outputs": [
    {
     "name": "stdout",
     "output_type": "stream",
     "text": [
      "> Controller with 4 signal(s), 3 source(s), 2 sink(s), and 0 filter(s)\n",
      "> period = 0.01s\n",
      "> signals\n",
      "  1. encoder1\n",
      "  2. pot1\n",
      "  3. motor1\n",
      "  4. clock\n",
      "> sources\n",
      "  1. clock[enabled] >> clock\n",
      "  2. encoder1[enabled] >> encoder1\n",
      "  3. pot1[enabled] >> pot1\n",
      "> filters\n",
      "> sinks\n",
      "  1. motor1 >> motor1[disabled]\n",
      "  2. clock, encoder1, motor1 >> logger[enabled]\n",
      "\n"
     ]
    }
   ],
   "source": [
    "controller.set_sink('logger','inputs', ['clock', 'encoder1','motor1'])\n",
    "print(controller.info('all'))"
   ]
  },
  {
   "cell_type": "code",
   "execution_count": 16,
   "metadata": {
    "collapsed": false
   },
   "outputs": [
    {
     "name": "stdout",
     "output_type": "stream",
     "text": [
      "duty cycle = 5%"
     ]
    }
   ],
   "source": [
    "controller.set_sink('logger','reset')\n",
    "dT = .2\n",
    "with controller:\n",
    "    time.sleep(1)\n",
    "    for duty_cycle in range(0,100,5):\n",
    "        print('\\rduty cycle = {}%'.format(100-duty_cycle), end='')\n",
    "        controller.set_signal('motor1', 100-duty_cycle)\n",
    "        time.sleep(dT)\n",
    "log = controller.read_sink('logger')"
   ]
  },
  {
   "cell_type": "code",
   "execution_count": 17,
   "metadata": {
    "collapsed": false
   },
   "outputs": [],
   "source": [
    "t = log[:,0]\n",
    "position = log[:,1]\n",
    "reference = log[:,2]\n",
    "velocity = np.zeros(t.shape, float)\n",
    "velocity[1:] = (position[1:]-position[:-1])/(t[1:]-t[:-1])"
   ]
  },
  {
   "cell_type": "code",
   "execution_count": 18,
   "metadata": {
    "collapsed": false
   },
   "outputs": [
    {
     "data": {
      "image/png": "[encoded data removed]",
      "text/plain": [
       "<matplotlib.figure.Figure at 0x106899278>"
      ]
     },
     "metadata": {},
     "output_type": "display_data"
    }
   ],
   "source": [
    "plt.subplot(2,1,1)\n",
    "plt.plot(t, velocity, '.')\n",
    "plt.xlabel('t (s)')\n",
    "plt.ylabel('velocity (Hz)')\n",
    "plt.grid()\n",
    "\n",
    "plt.subplot(2,1,2)\n",
    "plt.plot(reference, velocity, '.')\n",
    "plt.xlabel('reference (%)')\n",
    "plt.ylabel('velocity (Hz)')\n",
    "plt.grid()"
   ]
  },
  {
   "cell_type": "code",
   "execution_count": 19,
   "metadata": {
    "collapsed": false
   },
   "outputs": [
    {
     "name": "stdout",
     "output_type": "stream",
     "text": [
      "a = 0.165, v0 = 11.012\n"
     ]
    }
   ],
   "source": [
    "def func(x, a, v0):\n",
    "    return a * (x - v0)\n",
    "\n",
    "import scipy.optimize as optimize\n",
    "\n",
    "ind = np.where(velocity > 0)\n",
    "pars, residues = optimize.curve_fit(func, reference[ind], velocity[ind])\n",
    "a, v0 = pars.tolist()\n",
    "print('a = {:4.3f}, v0 = {:4.3f}'.format(a,v0))"
   ]
  },
  {
   "cell_type": "code",
   "execution_count": 20,
   "metadata": {
    "collapsed": false
   },
   "outputs": [
    {
     "data": {
      "image/png": "[encoded data removed]",
      "text/plain": [
       "<matplotlib.figure.Figure at 0x10688fcf8>"
      ]
     },
     "metadata": {},
     "output_type": "display_data"
    }
   ],
   "source": [
    "plt.plot(reference, velocity, '.', np.array([0,100]), a * (np.array([0,100]) - v0),'-')\n",
    "plt.xlabel('reference (%)')\n",
    "plt.ylabel('velocity (Hz)')\n",
    "plt.grid()"
   ]
  },
  {
   "cell_type": "markdown",
   "metadata": {},
   "source": [
    "##Dynamic Response"
   ]
  },
  {
   "cell_type": "markdown",
   "metadata": {},
   "source": [
    "With a constant input:\n",
    "$$\n",
    "\\omega(t) = \\bar{\\omega} \\left ( 1 - e^{\\lambda t} \\right )\n",
    "$$\n",
    "where:\n",
    "$$\n",
    "\\begin{aligned}\n",
    "\\bar{\\omega} &= a \\, (v_a - v_0), & a &= \\frac{k_m}{b_m}, & \\lambda &= \\frac{b_m}{J_m}\n",
    "\\end{aligned}\n",
    "$$"
   ]
  },
  {
   "cell_type": "code",
   "execution_count": 23,
   "metadata": {
    "collapsed": true
   },
   "outputs": [],
   "source": [
    "controller.set_sink('logger','reset')\n",
    "with controller:\n",
    "    controller.set_signal('motor1',90)\n",
    "    time.sleep(3)\n",
    "    controller.set_signal('motor1',0)\n",
    "    time.sleep(1)\n",
    "    controller.set_signal('motor1',90)\n",
    "    time.sleep(3)\n",
    "    controller.set_signal('motor1',0)\n",
    "    time.sleep(1)\n",
    "log = controller.read_sink('logger')"
   ]
  },
  {
   "cell_type": "code",
   "execution_count": 24,
   "metadata": {
    "collapsed": false
   },
   "outputs": [
    {
     "data": {
      "image/png": "[encoded data removed]",
      "text/plain": [
       "<matplotlib.figure.Figure at 0x1079c42b0>"
      ]
     },
     "metadata": {},
     "output_type": "display_data"
    }
   ],
   "source": [
    "t = log[:,0]\n",
    "position = log[:,1]\n",
    "reference = log[:,2]\n",
    "velocity = np.zeros(t.shape, float)\n",
    "velocity[1:] = (position[1:]-position[:-1])/(t[1:]-t[:-1])\n",
    "\n",
    "plt.subplot(2,1,1)\n",
    "plt.plot(t, velocity, '.')\n",
    "plt.xlabel('t (s)')\n",
    "plt.ylabel('velocity (Hz)')\n",
    "plt.grid()\n",
    "\n",
    "plt.subplot(2,1,2)\n",
    "plt.plot(t, reference, '-')\n",
    "plt.xlabel('t (s)')\n",
    "plt.ylabel('control (%)')\n",
    "plt.grid()"
   ]
  },
  {
   "cell_type": "code",
   "execution_count": 38,
   "metadata": {
    "collapsed": false
   },
   "outputs": [
    {
     "name": "stdout",
     "output_type": "stream",
     "text": [
      "mean = 13.905, omegabar = 13.013, standard deviation = 0.426\n"
     ]
    }
   ],
   "source": [
    "ind = np.where((t > t[0]+5) & (t < t[0]+7))\n",
    "vmean = np.mean(velocity[ind])\n",
    "vstd = np.std(velocity[ind])\n",
    "print('mean = {:5.3f}, omegabar = {:5.3f}, standard deviation = {:5.3f}'.format(vmean,a * (90-v0),vstd))"
   ]
  },
  {
   "cell_type": "code",
   "execution_count": 39,
   "metadata": {
    "collapsed": false
   },
   "outputs": [
    {
     "data": {
      "image/png": "[encoded data removed]",
      "text/plain": [
       "<matplotlib.figure.Figure at 0x106a1aba8>"
      ]
     },
     "metadata": {},
     "output_type": "display_data"
    }
   ],
   "source": [
    "plt.plot(t, velocity, '.-', \n",
    "         np.array([t[0],t[-1]]), np.array(2*[0.1*vmean]), '-',\n",
    "         np.array([t[0],t[-1]]), np.array(2*[0.9*vmean]), '-')\n",
    "plt.xlim(t[0]+4,t[0]+5)\n",
    "plt.xlabel('t (s)')\n",
    "plt.ylabel('velocity (Hz)')\n",
    "plt.grid()"
   ]
  },
  {
   "cell_type": "code",
   "execution_count": 40,
   "metadata": {
    "collapsed": false
   },
   "outputs": [
    {
     "name": "stdout",
     "output_type": "stream",
     "text": [
      "tr = 0.140, tau = 0.064, lambda = 15.719\n"
     ]
    }
   ],
   "source": [
    "tr = t[np.where(velocity >= 0.9*vmean)][1] - t[np.where(velocity >= 0.1*vmean)][0] \n",
    "tau = tr / 2.2\n",
    "lamb = 1/tau\n",
    "print('tr = {:5.3f}, tau = {:5.3f}, lambda = {:5.3f}'.format(tr, tau, lamb))"
   ]
  },
  {
   "cell_type": "markdown",
   "metadata": {},
   "source": [
    "## Identifying $J_m$"
   ]
  },
  {
   "cell_type": "markdown",
   "metadata": {},
   "source": [
    "Repeat experiment with known $J_a$ then:\n",
    "$$\n",
    "(J_m + J_a) \\, \\dot{\\omega} + b_m \\, \\omega = k_m \\, (v_a - v_0)\n",
    "$$\n",
    "then:\n",
    "$$\n",
    "\\begin{aligned}\n",
    "a &= \\frac{k_m}{b_m}, & \\lambda_a &= \\frac{b_m}{J_m + J_a} = \\frac{1}{1 + J_a/J_m} \\frac{b_m}{J_m} = \\rho^{-1} \\lambda, & \\rho &= \\frac{\\lambda}{\\lambda_a} = 1 + J_a/J_m\n",
    "\\end{aligned}\n",
    "$$\n",
    "From here:\n",
    "\\begin{aligned}\n",
    "J_m &= \\frac{J_a}{\\rho - 1}, &\n",
    "b_m &= \\lambda \\, J_m, &\n",
    "k_m &= a \\, b_m.\n",
    "\\end{aligned}\n",
    "\n"
   ]
  },
  {
   "cell_type": "code",
   "execution_count": 90,
   "metadata": {
    "collapsed": false
   },
   "outputs": [
    {
     "name": "stdout",
     "output_type": "stream",
     "text": [
      "Ja = 0.000043\n"
     ]
    }
   ],
   "source": [
    "lamba = 12.9\n",
    "ma = 60/1000\n",
    "ra = 3.8/100\n",
    "Ja = ma*ra**2/2\n",
    "print('Ja = {:8.6f}'.format(Ja))"
   ]
  },
  {
   "cell_type": "code",
   "execution_count": 94,
   "metadata": {
    "collapsed": false
   },
   "outputs": [
    {
     "name": "stdout",
     "output_type": "stream",
     "text": [
      "Jm = 0.000087, km = 0.000249, bm = 0.001683\n"
     ]
    }
   ],
   "source": [
    "rho = lamb/lamba\n",
    "Jm = Ja/(rho-1)\n",
    "bm = lamb * Jm\n",
    "km = a * bm\n",
    "print('Jm = {:8.6f}, km = {:8.6f}, bm = {:8.6f}'.format(Jm,km,bm))"
   ]
  },
  {
   "cell_type": "code",
   "execution_count": null,
   "metadata": {
    "collapsed": true
   },
   "outputs": [],
   "source": []
  }
 ],
 "metadata": {
  "kernelspec": {
   "display_name": "Python 3",
   "language": "python",
   "name": "python3"
  },
  "language_info": {
   "codemirror_mode": {
    "name": "ipython",
    "version": 3
   },
   "file_extension": ".py",
   "mimetype": "text/x-python",
   "name": "python",
   "nbconvert_exporter": "python",
   "pygments_lexer": "ipython3",
   "version": "3.4.3"
  }
 },
 "nbformat": 4,
 "nbformat_minor": 0
}
