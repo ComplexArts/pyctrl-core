{
 "cells": [
  {
   "cell_type": "markdown",
   "metadata": {},
   "source": [
    "# MIP Velocity Control"
   ]
  },
  {
   "cell_type": "code",
   "execution_count": null,
   "metadata": {
    "collapsed": false
   },
   "outputs": [],
   "source": [
    "import sys\n",
    "sys.path.append('..')"
   ]
  },
  {
   "cell_type": "code",
   "execution_count": null,
   "metadata": {
    "collapsed": false
   },
   "outputs": [],
   "source": [
    "%matplotlib notebook  \n",
    "import numpy as np\n",
    "import matplotlib.pyplot as plt\n",
    "import math\n",
    "import time"
   ]
  },
  {
   "cell_type": "code",
   "execution_count": null,
   "metadata": {
    "collapsed": false
   },
   "outputs": [],
   "source": [
    "from ctrl.system.tf import PID\n",
    "from ctrl.block.linear import MIMO, ShortCircuit, Subtract, Differentiator, Sum\n",
    "from ctrl.block.logger import Logger\n",
    "from ctrl.block.nl import Abs\n",
    "from ctrl.block.logic import CompareAbs, Trigger\n",
    "from ctrl.system.tf import DTTF\n",
    "from ctrl.system.ss import DTSS"
   ]
  },
  {
   "cell_type": "markdown",
   "metadata": {},
   "source": [
    "# Initialize the server on the beagblebone\n",
    "python3 server.py -H 192.168.12.197 -m mip3 -t 0.01"
   ]
  },
  {
   "cell_type": "markdown",
   "metadata": {},
   "source": [
    "Substitute `HOST` and `PORT` with the IP address and port of your controller:"
   ]
  },
  {
   "cell_type": "code",
   "execution_count": null,
   "metadata": {
    "collapsed": false
   },
   "outputs": [],
   "source": [
    "from ctrl.client import Controller\n",
    "HOST, PORT = \"localhost\", 9999\n",
    "#HOST, PORT = \"192.168.12.197\", 9999\n",
    "mip = Controller(host = HOST, port = PORT)"
   ]
  },
  {
   "cell_type": "markdown",
   "metadata": {},
   "source": [
    "## Probe the controller"
   ]
  },
  {
   "cell_type": "code",
   "execution_count": null,
   "metadata": {
    "collapsed": false
   },
   "outputs": [],
   "source": [
    "print(mip.info('all'))"
   ]
  },
  {
   "cell_type": "markdown",
   "metadata": {},
   "source": [
    "## Complementary filter for estimating $\\theta$"
   ]
  },
  {
   "cell_type": "code",
   "execution_count": null,
   "metadata": {
    "collapsed": true
   },
   "outputs": [],
   "source": [
    "Ts = 0.01\n",
    "fc = 1\n",
    "l = 2 * math.pi * fc\n",
    "a = math.exp(-l*Ts)\n",
    "\n",
    "Af = np.array([[a]])\n",
    "Bf = np.array([[1-a,(1-a)/l]])\n",
    "Cf = np.array([[1]])\n",
    "Df = np.array([[0,0]])\n",
    "\n",
    "fltr = DTSS(Af,Bf,Cf,Df)\n",
    "\n",
    "mip.add_signal('theta_fltr')\n",
    "mip.add_filter('fltr', \n",
    "               MIMO(fltr),\n",
    "               ['theta','theta_dot'], \n",
    "               ['theta_fltr'])"
   ]
  },
  {
   "cell_type": "markdown",
   "metadata": {},
   "source": [
    "## Calculate encoder velocity"
   ]
  },
  {
   "cell_type": "code",
   "execution_count": null,
   "metadata": {
    "collapsed": false
   },
   "outputs": [],
   "source": [
    "# phi is the average of the encoders\n",
    "mip.add_signal('phi')\n",
    "mip.add_filter('phi', \n",
    "               Sum(gain=0.5),\n",
    "               ['encoder1','encoder2'], \n",
    "               ['phi'])\n",
    "\n",
    "# Differentiate phi\n",
    "mip.add_signal('phi_dot')\n",
    "mip.add_filter('phi_dot', \n",
    "               Differentiator(),\n",
    "               ['clock','phi'], \n",
    "               ['phi_dot'])"
   ]
  },
  {
   "cell_type": "markdown",
   "metadata": {},
   "source": [
    "## Calculate output errors"
   ]
  },
  {
   "cell_type": "code",
   "execution_count": null,
   "metadata": {
    "collapsed": false
   },
   "outputs": [],
   "source": [
    "mip.add_signal('theta_dot_reference')\n",
    "mip.add_signal('phi_dot_reference')\n",
    "mip.add_signal('voltage')\n",
    "\n",
    "mip.set_signal('theta_dot_reference', 0)\n",
    "mip.set_signal('phi_dot_reference',0)\n",
    "\n",
    "mip.add_signal('theta_dot_error')\n",
    "mip.add_signal('phi_dot_error')\n",
    "\n",
    "mip.add_filter('sub_theta', \n",
    "               Subtract(),\n",
    "               ['theta_dot','theta_dot_reference'], \n",
    "               ['theta_dot_error'])\n",
    "\n",
    "mip.add_filter('sub_phi', \n",
    "               Subtract(),\n",
    "               ['phi_dot','phi_dot_reference'], \n",
    "               ['phi_dot_error'])"
   ]
  },
  {
   "cell_type": "markdown",
   "metadata": {},
   "source": [
    "## Setup controller"
   ]
  },
  {
   "cell_type": "code",
   "execution_count": null,
   "metadata": {
    "collapsed": false
   },
   "outputs": [],
   "source": [
    "#0.01\n",
    "Ac = np.array([[0.913134, 0.0363383],[-0.0692862, 0.994003]])\n",
    "Bc = 2*np.pi*np.array([[0.00284353, -0.000539063], [0.00162443, -0.00128745]])\n",
    "Cc = np.array([[-383.009, 303.07]])\n",
    "Dc = 2*np.pi*np.array([[-1.22015, 0]])\n",
    "\n",
    "Bc = (100/7.4)*Bc\n",
    "Dc = (100/7.4)*Dc\n",
    "\n",
    "K = 1\n",
    "\n",
    "ctrl = DTSS(Ac,K*Bc,Cc,K*Dc)"
   ]
  },
  {
   "cell_type": "code",
   "execution_count": null,
   "metadata": {
    "collapsed": false
   },
   "outputs": [],
   "source": [
    "mip.add_filter('controller', \n",
    "               MIMO(ctrl),\n",
    "               ['theta_dot_error','phi_dot_error'], \n",
    "               ['voltage'])"
   ]
  },
  {
   "cell_type": "code",
   "execution_count": null,
   "metadata": {
    "collapsed": true
   },
   "outputs": [],
   "source": [
    "mip.add_filter('cl1',\n",
    "                ShortCircuit(),\n",
    "               ['voltage'],\n",
    "               ['motor1'])\n",
    "mip.add_filter('cl2',\n",
    "                ShortCircuit(),\n",
    "               ['voltage'],\n",
    "               ['motor2'])\n",
    "\n",
    "#mip.remove_filter('cl1')\n",
    "#mip.remove_filter('cl2')"
   ]
  },
  {
   "cell_type": "code",
   "execution_count": null,
   "metadata": {
    "collapsed": false
   },
   "outputs": [],
   "source": [
    "mip.add_sink('logger', \n",
    "             Logger(), \n",
    "             ['clock','duty',\n",
    "              'theta','theta_fltr',\n",
    "              'theta_dot','encoder1','encoder2',\n",
    "              'phi','phi_dot',\n",
    "              'theta_dot_error','phi_dot_error',\n",
    "              'voltage',\n",
    "              'motor1','motor2'])"
   ]
  },
  {
   "cell_type": "code",
   "execution_count": null,
   "metadata": {
    "collapsed": false,
    "scrolled": true
   },
   "outputs": [],
   "source": [
    "print(mip.info('all'))"
   ]
  },
  {
   "cell_type": "code",
   "execution_count": null,
   "metadata": {
    "collapsed": false
   },
   "outputs": [],
   "source": [
    "from IPython.display import display\n",
    "import ipywidgets as widgets\n",
    "\n",
    "def set_reference(value):\n",
    "    print('setting phi_dot_reference to {}'.format(value))\n",
    "    mip.set_signal('phi_dot_reference',value/360)\n",
    "    \n",
    "w = widgets.interactive(set_reference, value=(-100,100))\n",
    "display(w)"
   ]
  },
  {
   "cell_type": "code",
   "execution_count": null,
   "metadata": {
    "collapsed": false
   },
   "outputs": [],
   "source": [
    "mip.set_sink('logger',reset=True)\n",
    "mip.set_source('clock',reset=True)\n",
    "mip.set_source('encoder1',reset=True)\n",
    "mip.set_source('encoder2',reset=True)\n",
    "mip.set_filter('controller',reset=True)\n",
    "mip.set_source('imu',reset=True)\n",
    "with mip:\n",
    "    time.sleep(120)\n",
    "log = mip.read_sink('logger')"
   ]
  },
  {
   "cell_type": "code",
   "execution_count": null,
   "metadata": {
    "collapsed": false
   },
   "outputs": [],
   "source": [
    "clock = log[:,0]           # 'clock',\n",
    "duty = log[:,1]            # 'duty'\n",
    "theta = log[:,2]           # 'theta'\n",
    "theta_fltr = log[:,3]      # 'theta_fltr'\n",
    "theta_dot = log[:,4]       # 'theta_dot'\n",
    "encoder1 = log[:,5]        # 'encoder1'\n",
    "encoder2 = log[:,6]        # 'encoder2',\n",
    "phi = log[:,7]             # 'phi'\n",
    "phi_dot = log[:,8]         # 'phi_dot'\n",
    "theta_dot_error = log[:,9] # 'theta_dot_error'\n",
    "phi_dot_error = log[:,10]   # phi_dot_error',\n",
    "voltage = log[:,11]        # voltage\n",
    "motor1 = log[:,12]         # motor1\n",
    "motor2 = log[:,13]         # motor2\n",
    "\n",
    "data = {\n",
    "    'clock': clock,\n",
    "    'theta': theta,\n",
    "    'theta_dot': theta_dot,\n",
    "    'phi_dot': phi_dot,\n",
    "    'encoder1': encoder1,\n",
    "    'encoder2': encoder2,\n",
    "    'voltage': voltage\n",
    "}"
   ]
  },
  {
   "cell_type": "code",
   "execution_count": null,
   "metadata": {
    "collapsed": false,
    "scrolled": false
   },
   "outputs": [],
   "source": [
    "fig = plt.figure()\n",
    "\n",
    "#plt.plot(clock, imu, clock, encoder1, clock, encoder2, clock, voltage)\n",
    "plt.plot(clock[1:],clock[1:]-clock[:-1], '.',clock,duty,'.')\n",
    "plt.xlabel('t (s)')\n",
    "plt.ylabel('position (cycles)')\n",
    "plt.grid()\n",
    "#plt.xlim(0,1)"
   ]
  },
  {
   "cell_type": "code",
   "execution_count": null,
   "metadata": {
    "collapsed": false
   },
   "outputs": [],
   "source": [
    "fig = plt.figure()\n",
    "\n",
    "#plt.plot(clock, imu, clock, encoder1, clock, encoder2, clock, voltage)\n",
    "plt.plot(clock,theta_dot*360,'b.')\n",
    "plt.xlabel('t (s)')\n",
    "plt.ylabel('position (cycles)')\n",
    "plt.grid()\n",
    "#plt.xlim(0,2.45)\n",
    "#plt.xlim(0,3)"
   ]
  },
  {
   "cell_type": "code",
   "execution_count": null,
   "metadata": {
    "collapsed": false
   },
   "outputs": [],
   "source": [
    "fig = plt.figure()\n",
    "\n",
    "#plt.plot(clock, imu, clock, encoder1, clock, encoder2, clock, voltage)\n",
    "plt.plot(clock,encoder1*360,'r.',clock,encoder2*360,'b.',clock,phi*360,'g.')\n",
    "plt.xlabel('t (s)')\n",
    "plt.ylabel('velocity (deg/s)')\n",
    "plt.grid()\n",
    "#plt.xlim(1.8,2.45)\n",
    "#plt.ylim(-60,65)"
   ]
  },
  {
   "cell_type": "code",
   "execution_count": null,
   "metadata": {
    "collapsed": false
   },
   "outputs": [],
   "source": [
    "fig = plt.figure()\n",
    "\n",
    "#plt.plot(clock, imu, clock, encoder1, clock, encoder2, clock, voltage)\n",
    "plt.plot(clock,phi_dot*360,'r.-')\n",
    "plt.xlabel('t (s)')\n",
    "plt.ylabel('velocity (deg/s)')\n",
    "plt.grid()\n",
    "#plt.xlim(1.8,2.45)\n",
    "#plt.ylim(-60,65)"
   ]
  },
  {
   "cell_type": "code",
   "execution_count": null,
   "metadata": {
    "collapsed": false,
    "scrolled": true
   },
   "outputs": [],
   "source": [
    "fig = plt.figure()\n",
    "\n",
    "#plt.plot(clock, imu, clock, encoder1, clock, encoder2, clock, voltage)\n",
    "plt.plot(clock,(7.4/100)*voltage,'b.')\n",
    "plt.xlabel('t (s)')\n",
    "plt.ylabel('voltage (V)')\n",
    "plt.grid()\n",
    "plt.ylim(-7.4,7.4)"
   ]
  },
  {
   "cell_type": "code",
   "execution_count": null,
   "metadata": {
    "collapsed": false
   },
   "outputs": [],
   "source": [
    "fig = plt.figure()\n",
    "\n",
    "#plt.plot(clock, imu, clock, encoder1, clock, encoder2, clock, voltage)\n",
    "plt.plot(clock,theta_fltr*360,'b.-')\n",
    "plt.xlabel('t (s)')\n",
    "plt.ylabel('theta (deg)')\n",
    "plt.grid()\n",
    "#plt.xlim(1.8,2.45)\n",
    "#plt.ylim(-60,65)"
   ]
  },
  {
   "cell_type": "code",
   "execution_count": null,
   "metadata": {
    "collapsed": false
   },
   "outputs": [],
   "source": [
    "import scipy.io as spio\n",
    "spio.savemat(file_name='~/Dropbox/ZhuZhuo/python', mdict = data)"
   ]
  },
  {
   "cell_type": "code",
   "execution_count": null,
   "metadata": {
    "collapsed": true
   },
   "outputs": [],
   "source": []
  },
  {
   "cell_type": "code",
   "execution_count": null,
   "metadata": {
    "collapsed": true
   },
   "outputs": [],
   "source": []
  }
 ],
 "metadata": {
  "kernelspec": {
   "display_name": "Python 3",
   "language": "python",
   "name": "python3"
  },
  "language_info": {
   "codemirror_mode": {
    "name": "ipython",
    "version": 3
   },
   "file_extension": ".py",
   "mimetype": "text/x-python",
   "name": "python",
   "nbconvert_exporter": "python",
   "pygments_lexer": "ipython3",
   "version": "3.4.5"
  }
 },
 "nbformat": 4,
 "nbformat_minor": 0
}
