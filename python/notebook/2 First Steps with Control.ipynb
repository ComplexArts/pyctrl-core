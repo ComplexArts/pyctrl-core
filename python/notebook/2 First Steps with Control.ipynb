{
 "cells": [
  {
   "cell_type": "markdown",
   "metadata": {},
   "source": [
    "# First Steps with Feedback Control\n",
    "\n",
    "**WARNING:** Some cells in this notebook are not meant to be run sequentially!"
   ]
  },
  {
   "cell_type": "code",
   "execution_count": 21,
   "metadata": {
    "collapsed": false
   },
   "outputs": [],
   "source": [
    "import sys\n",
    "sys.path.append('..')"
   ]
  },
  {
   "cell_type": "code",
   "execution_count": 22,
   "metadata": {
    "collapsed": false
   },
   "outputs": [],
   "source": [
    "%matplotlib inline  \n",
    "import numpy as np\n",
    "import matplotlib.pyplot as plt\n",
    "import math\n",
    "import time"
   ]
  },
  {
   "cell_type": "code",
   "execution_count": 23,
   "metadata": {
    "collapsed": false
   },
   "outputs": [],
   "source": [
    "from ctrl.linear import Gain, PID, Feedback\n",
    "from ctrl.logger import Logger"
   ]
  },
  {
   "cell_type": "markdown",
   "metadata": {},
   "source": [
    "Substitute `HOST` and `PORT` with the IP address and port of your controller:"
   ]
  },
  {
   "cell_type": "code",
   "execution_count": 24,
   "metadata": {
    "collapsed": false
   },
   "outputs": [],
   "source": [
    "from ctrl.client import Controller\n",
    "HOST, PORT = \"192.168.10.107\", 9999\n",
    "controller = Controller(host = HOST, port = PORT)"
   ]
  },
  {
   "cell_type": "markdown",
   "metadata": {},
   "source": [
    "##Static Response of the DC motor\n",
    "\n",
    "It is helpful to think of the motor as an entity that takes an **input signal**, in this case the **reference** which is translated into a **voltage**, and produces as **output signal** the pulley **velocity**. We represent such **input-output** relationship using a **block-diagram**:\n",
    "\n",
    "<img src=\"figure1.png\" width=\"300\">\n",
    "\n",
    "We will now perform some experiments to characterize the behavior of the DC motor. Instead of performing the experiment by hand, we will write python programs to vary the reference input, i.e. voltage, on the motor and then collect and analyze the resulting data.\n",
    "\n",
    "**TASKS:**\n",
    "1. Write python code that resets the controller logger, sets the reference at 100% for 2 seconds then at 95% for 2 second and so on until you reach 5%\n",
    "<br/>\n",
    "*Hint:* use a `for` loop and `range`; make sure you're using an `OpenLoop` controller\n",
    "2. Import the data, use `numpy` to calculate the motor velocity and plot the time *vs* the velocity using matplotlib\n",
    "3. Plot also the reference (3rd column of the data) *vs* the velocity\n",
    "4. Compare and discuss your results with the other groups\n",
    "\n",
    "**QUESTIONS:**\n",
    "1. Is the response of the motor linear?\n",
    "2. How could we calculate the *gain* of the motor?"
   ]
  },
  {
   "cell_type": "code",
   "execution_count": null,
   "metadata": {
    "collapsed": true
   },
   "outputs": [],
   "source": [
    "# SOLUTIONS 1,2,3"
   ]
  },
  {
   "cell_type": "markdown",
   "metadata": {},
   "source": [
    "## Static Linear Model\n",
    "\n",
    "**TASKS:**\n",
    "1. Use the following code to fit your data to a line of the form y = a x + b\n",
    "2. Modify the code to fit a line of the form y = a x\n",
    "\n",
    "**QUESTIONS:**\n",
    "1. What does the code do?\n",
    "2. Why is the value of b not zero?"
   ]
  },
  {
   "cell_type": "code",
   "execution_count": 8,
   "metadata": {
    "collapsed": false
   },
   "outputs": [
    {
     "name": "stdout",
     "output_type": "stream",
     "text": [
      "a = 0.121, b = -2.195\n"
     ]
    }
   ],
   "source": [
    "def func(x, a, b):\n",
    "    return a * x + b\n",
    "\n",
    "import scipy.optimize as optimize\n",
    "\n",
    "ind = np.where(velocity > 0)\n",
    "pars, residues = optimize.curve_fit(func, reference[ind], velocity[ind])\n",
    "a, b = pars.tolist()\n",
    "print('a = {:4.3f}, b = {:4.3f}'.format(a,b))"
   ]
  },
  {
   "cell_type": "markdown",
   "metadata": {},
   "source": [
    "**TASKS:**\n",
    "1. Use the values of a and b you calculated and the following code to plot the curve\n",
    "   $$y = a \\, x + b$\n",
    "   where $y$ is the velocity and $x$ the reference input along with the data you imported earlier\n",
    "   \n",
    "**QUESTIONS:**\n",
    "1. How well do they match?\n",
    "2. What is the meaning of the line when reference > 0 but velocity < 0\n",
    "3. Repeat for a line of the form y = a x "
   ]
  },
  {
   "cell_type": "code",
   "execution_count": 9,
   "metadata": {
    "collapsed": false
   },
   "outputs": [
    {
     "data": {
      "image/png": "[encoded data removed]",
      "text/plain": [
       "<matplotlib.figure.Figure at 0x106761240>"
      ]
     },
     "metadata": {},
     "output_type": "display_data"
    }
   ],
   "source": [
    "plt.plot(reference, velocity, '.', np.array([0,100]), a * np.array([0,100]) + b,'-')\n",
    "plt.xlabel('reference (%)')\n",
    "plt.ylabel('velocity (Hz)')\n",
    "plt.grid()"
   ]
  },
  {
   "cell_type": "markdown",
   "metadata": {},
   "source": [
    "## Open-loop Control\n",
    "\n",
    "In open-loop control the **reference signal**, in the case of the DC motor the input **voltage**, is produced by an algorithm, the **controller**, as shown in the following block-diagram:\n",
    "\n",
    "<img src=\"figure2.png\" width=\"500\">\n",
    "\n",
    "**TASKS:**\n",
    "1. Use the line $$y = a x + b$$ where $y$ is the velocity and $x$ is the reference input to calculate the value of $x$ required to make the motor rotate at a constant 8Hz speed\n",
    "2. Write python code that resets the controller logger, and sets the reference at the value you calculated for 5s\n",
    "3. Import the data and plot time vs velocity and time vs reference\n",
    "4. Discard the first second of data and use `np.mean` and `np.std` to calculate the average and standard deviation of the velocity\n",
    "\n",
    "**QUESTIONS:**\n",
    "1. How well did your calculation performed?\n",
    "2. Generalize the calculation to work for any desired velocity: that's an **open-loop controller**"
   ]
  },
  {
   "cell_type": "code",
   "execution_count": null,
   "metadata": {
    "collapsed": true
   },
   "outputs": [],
   "source": [
    "# SOLUTIONS 4,5,6,7"
   ]
  },
  {
   "cell_type": "markdown",
   "metadata": {},
   "source": [
    "**TASKS:**\n",
    "1. Run your code and have your group mate touch the top of the big pulley with his or her finger and apply a **gentle** force trying to stop the motor. Make sure the force **does not completely stop the motor**, as this may damage the motor\n",
    "2. Repeat the above steps to calculate the mean and standard deviation of the velocity in this case\n",
    "\n",
    "**QUESTIONS:**\n",
    "1. Is the average close to 8HZ?\n",
    "2. Compare the standard deviation of the velocity and the reference for a run in which you were adjusting the potentiometer and a run in which you were not adjusting the potentiometer\n",
    "3. What happened to the velocity when your group mate touched the pulley?\n",
    "4. What is causing the change in velocity?"
   ]
  },
  {
   "cell_type": "code",
   "execution_count": null,
   "metadata": {
    "collapsed": true
   },
   "outputs": [],
   "source": [
    "# YOUR SOLUTION HERE"
   ]
  },
  {
   "cell_type": "markdown",
   "metadata": {},
   "source": [
    "## You are the Controller\n",
    "\n",
    "**TASKS:**\n",
    "1. Adjust the potentiometer in the control box so that it is pointing up\n",
    "2. Run the following code to setup a display in your notebook"
   ]
  },
  {
   "cell_type": "code",
   "execution_count": 14,
   "metadata": {
    "collapsed": false
   },
   "outputs": [
    {
     "name": "stderr",
     "output_type": "stream",
     "text": [
      ":0: FutureWarning: IPython widgets are experimental and may change in the future.\n"
     ]
    }
   ],
   "source": [
    "# Setup display widgets\n",
    "\n",
    "from IPython.display import display\n",
    "from IPython.html import widgets\n",
    "\n",
    "vmax = 12\n",
    "vmin = -12\n",
    "N = 200\n",
    "vbar = widgets.FloatProgress(min=vmin, max=vmax, step = (vmax - vmin)/N)\n",
    "ptext = widgets.Text('0',width='12ex',border_style='none')\n",
    "vtext = widgets.Text('0',width='12ex',border_style='none')\n",
    "row3 = widgets.HBox([widgets.HTML('{:5.3f}&nbsp;'.format(vmin)),\n",
    "                     vbar,\n",
    "                     widgets.HTML('&nbsp;{:5.3f}'.format(vmax))])\n",
    "row2 = widgets.HBox([widgets.HTML('<b>velocity = &nbsp;</b>'),\n",
    "                     widgets.VBox([vtext, row3])])\n",
    "row1 = widgets.HBox([widgets.HTML('<b>position = &nbsp;</b>'),\n",
    "                     ptext])\n",
    "display(row1,row2)"
   ]
  },
  {
   "cell_type": "markdown",
   "metadata": {},
   "source": [
    "**TASKS:**\n",
    "1. Run the following code and look at the velocity reading\n",
    "2. Adjust the potentiometer so that the velocity reads about 8 Hz\n",
    "3. Import the data and plot time vs velocity and time vs reference\n",
    "4. Discard the first 2 seconds of data and use `np.mean` and `np.std` to calculate the average and standard deviation of the velocity\n",
    "\n",
    "**QUESTIONS:**\n",
    "1. How well where you able to regulate the velocity? Compare with the open-loop controller\n",
    "2. Explain in words what you did in order to regulate the voltage at 8Hz\n",
    "3. Could you regulate velocity without reading the speed, that is without a **sensor**?\n",
    "4. Explain what you did with the reading of the speed: this is **feedback**"
   ]
  },
  {
   "cell_type": "code",
   "execution_count": 15,
   "metadata": {
    "collapsed": false
   },
   "outputs": [],
   "source": [
    "controller.set_controller1(OpenLoop())\n",
    "controller.reset_logger()\n",
    "controller.set_encoder1(0)\n",
    "Ts = 0.3\n",
    "K = int(30/Ts)\n",
    "with controller:\n",
    "    controller.set_reference1_mode(1)\n",
    "    old_time, old_position = controller.get_encoder1()\n",
    "    k = 0\n",
    "    while k < K:\n",
    "        current_time, current_position = controller.get_encoder1()\n",
    "        velocity = (current_position - old_position) / (current_time - old_time)\n",
    "        vbar.value = velocity\n",
    "        ptext.value = '{:5.3f}'.format(current_position)\n",
    "        vtext.value = '{:5.3f}'.format(velocity)\n",
    "        k = k + 1\n",
    "        old_time, old_position = current_time, current_position\n",
    "        time.sleep(Ts)\n",
    "    controller.set_reference1_mode(0)"
   ]
  },
  {
   "cell_type": "code",
   "execution_count": null,
   "metadata": {
    "collapsed": true
   },
   "outputs": [],
   "source": [
    "# YOUR SOLUTION HERE"
   ]
  },
  {
   "cell_type": "markdown",
   "metadata": {},
   "source": [
    "**TASKS:**\n",
    "1. Repeat the above tasks while a group mate disturbs the wheel\n",
    "\n",
    "**QUESTIONS:**\n",
    "1. Is the average close to 8HZ?\n",
    "2. What happened to the velocity when your group mate touched the pulley? What did you do then to keep the velocity constant?\n",
    "3. What happened to the velocity when your group mate let go of the pulley? What did you do then to keep the velocity constant?\n",
    "4. Formulate your strategy as an **algorithm**: that's a **closed-loop controller**"
   ]
  },
  {
   "cell_type": "code",
   "execution_count": null,
   "metadata": {
    "collapsed": true
   },
   "outputs": [],
   "source": [
    "# YOUR SOLUTION HERE"
   ]
  },
  {
   "cell_type": "markdown",
   "metadata": {},
   "source": [
    "**TASKS:**\n",
    "1. Repeat the above steps but this time adjust the potentiometer to try to keep the velocity constant at 8Hz as your group mate disturbs the pulley\n",
    "\n",
    "**QUESTIONS:**\n",
    "1. Is the average close to 8HZ?\n",
    "2. Compare the standard deviation of the velocity and the reference for a run in which you were adjusting the potentiometer and a run in which you were not adjusting the potentiometer\n",
    "3. Explain in words what you did in order to regulate the voltage at 8Hz\n",
    "4. Formulate your strategy as an algorithm"
   ]
  },
  {
   "cell_type": "code",
   "execution_count": null,
   "metadata": {
    "collapsed": true
   },
   "outputs": [],
   "source": [
    "# YOUR SOLUTION HERE"
   ]
  },
  {
   "cell_type": "markdown",
   "metadata": {},
   "source": [
    "## Closed-loop Control\n",
    "\n",
    "In closed-loop control a **sensor** is used to measure an output quantity of interest, the velocity in the case of the DC motor, which is compared with a **reference** to produce an **errror signal**. The error is what is used by the **feedback controller** to calculate the input for the system being controlled, in this case the motor input **voltage**. The overal process can be represented by the block-diagram:\n",
    "\n",
    "<img src=\"figure3.png\" width=\"500\">\n",
    "\n",
    "The name **feedback** refers to the fact that the system *output* is **fed back** into the system *input* by the *controller*.\n",
    "\n",
    "One of the simplest feedback controlers is the **proportional controller**:\n",
    "\n",
    "$$\n",
    "\\begin{aligned}\n",
    "  \\text{control} &= K \\, \\text{error}, & \\text{error} &= \\text{reference} - \\text{velocity}\n",
    "\\end{aligned}\n",
    "$$\n",
    "\n",
    "which produces input which is *proportional* to the error. The constant of proportionallity, $K$, is the controller *gain*.\n",
    "\n",
    "Because our reference is always a value from 0-100 we need to modify the above diagram:\n",
    "\n",
    "<img src=\"figure4.png\" width=\"650\">\n",
    "\n",
    "to allow for different maximum speeds.\n",
    "\n",
    "**TASKS:**\n",
    "1. Run the following code to implement a proportional velocity controller\n",
    "2. Import the data and plot time vs velocity and time vs reference and control\n",
    "3. Discard the first second of data and use `np.mean` and `np.std` to calculate the average and standard deviation of the velocity\n",
    "4. Calculate the ratio between the average velocity and the reference velocity\n",
    "\n",
    "**QUESTIONS:**\n",
    "1. Did the closed-loop controller achieve the reference velocity? Explain"
   ]
  },
  {
   "cell_type": "code",
   "execution_count": 30,
   "metadata": {
    "collapsed": false
   },
   "outputs": [
    {
     "name": "stdout",
     "output_type": "stream",
     "text": [
      "> Controller with 4 signal(s), 3 source(s), 2 sink(s), and 0 filter(s)\n",
      "> period = 0.01s\n",
      "> signals\n",
      "  1. encoder1\n",
      "  2. pot1\n",
      "  3. motor1\n",
      "  4. clock\n",
      "> sources\n",
      "  1. clock[enabled] >> clock\n",
      "  2. encoder1[enabled] >> encoder1\n",
      "  3. pot1[enabled] >> pot1\n",
      "> filters\n",
      "> sinks\n",
      "  1. motor1 >> motor1[enabled]\n",
      "  2. clock, encoder1 >> logger[enabled]\n",
      "\n"
     ]
    }
   ],
   "source": [
    "print(controller.info('all'))"
   ]
  },
  {
   "cell_type": "code",
   "execution_count": 31,
   "metadata": {
    "collapsed": true
   },
   "outputs": [],
   "source": [
    "with controller:\n",
    "    controller.set_signal('motor1', 50)\n",
    "    time.sleep(1)"
   ]
  },
  {
   "cell_type": "code",
   "execution_count": 29,
   "metadata": {
    "collapsed": true
   },
   "outputs": [],
   "source": [
    "controller.add_sink('logger', Logger(), ['clock', 'encoder1'])"
   ]
  },
  {
   "cell_type": "code",
   "execution_count": 32,
   "metadata": {
    "collapsed": false
   },
   "outputs": [
    {
     "data": {
      "image/png": "[encoded data removed]",
      "text/plain": [
       "<matplotlib.figure.Figure at 0x106977f28>"
      ]
     },
     "metadata": {},
     "output_type": "display_data"
    }
   ],
   "source": [
    "log = controller.read_sink('logger')\n",
    "\n",
    "t = log[:,0]\n",
    "position = log[:,1]\n",
    "\n",
    "plt.plot(t, position)\n",
    "# the next lines will make the plot look nicer\n",
    "plt.xlabel('t (s)')\n",
    "plt.ylabel('position (cycles)')\n",
    "plt.grid()"
   ]
  },
  {
   "cell_type": "code",
   "execution_count": 33,
   "metadata": {
    "collapsed": false
   },
   "outputs": [
    {
     "name": "stdout",
     "output_type": "stream",
     "text": [
      "> Controller with 5 signal(s), 3 source(s), 2 sink(s), and 1 filter(s)\n",
      "> period = 0.01s\n",
      "> signals\n",
      "  1. encoder1\n",
      "  2. reference1\n",
      "  3. pot1\n",
      "  4. motor1\n",
      "  5. clock\n",
      "> sources\n",
      "  1. clock[enabled] >> clock\n",
      "  2. encoder1[enabled] >> encoder1\n",
      "  3. pot1[enabled] >> pot1\n",
      "> filters\n",
      "  1. encoder1, reference1 >> controller1[enabled] >> motor1\n",
      "> sinks\n",
      "  1. motor1 >> motor1[enabled]\n",
      "  2. clock, encoder1, reference1 >> logger[enabled]\n",
      "\n"
     ]
    }
   ],
   "source": [
    "k = 0.12\n",
    "\n",
    "pmax = 2\n",
    "Kp = 10/k\n",
    "\n",
    "controller.add_signal('reference1')\n",
    "controller.add_filter('controller1', \n",
    "                      Feedback(gamma = pmax,\n",
    "                               block = Gain(gain = Kp)),\n",
    "                      ['encoder1', 'reference1'], \n",
    "                      ['motor1'])\n",
    "controller.set_sink('logger', 'inputs', ['clock', 'encoder1', 'reference1'])\n",
    "print(controller.info('all'))"
   ]
  },
  {
   "cell_type": "code",
   "execution_count": 34,
   "metadata": {
    "collapsed": false
   },
   "outputs": [],
   "source": [
    "with controller:\n",
    "    controller.set_signal('reference1', 50)\n",
    "    time.sleep(3)"
   ]
  },
  {
   "cell_type": "code",
   "execution_count": 35,
   "metadata": {
    "collapsed": true
   },
   "outputs": [],
   "source": [
    "log = controller.read_sink('logger')"
   ]
  },
  {
   "cell_type": "code",
   "execution_count": 37,
   "metadata": {
    "collapsed": false
   },
   "outputs": [
    {
     "data": {
      "text/plain": [
       "(0, 0.5)"
      ]
     },
     "execution_count": 37,
     "metadata": {},
     "output_type": "execute_result"
    },
    {
     "data": {
      "image/png": "[encoded data removed]",
      "text/plain": [
       "<matplotlib.figure.Figure at 0x106c6d5f8>"
      ]
     },
     "metadata": {},
     "output_type": "display_data"
    }
   ],
   "source": [
    "t = log[:,0]\n",
    "position = log[:,1]\n",
    "\n",
    "plt.plot(t, position)\n",
    "# the next lines will make the plot look nicer\n",
    "plt.xlabel('t (s)')\n",
    "plt.ylabel('position (cycles)')\n",
    "plt.grid()\n",
    "plt.ylim(0,0.5)"
   ]
  },
  {
   "cell_type": "markdown",
   "metadata": {},
   "source": [
    "**TASKS:**\n",
    "1. Repeat the above steps with a proportional gain `Kp` equal to 2 then 4\n",
    "\n",
    "**QUESTIONS:**\n",
    "1. How does the ratio between the average velocity and the reference velocity vary with `Kp`?"
   ]
  },
  {
   "cell_type": "code",
   "execution_count": null,
   "metadata": {
    "collapsed": true
   },
   "outputs": [],
   "source": [
    "# YOUR SOLUTION HERE"
   ]
  },
  {
   "cell_type": "markdown",
   "metadata": {},
   "source": [
    "## Open- and Closed-loop Gains\n",
    "\n",
    "In order to understand why the achieved velocity is not equal to the reference velocity it is convinient to think of each block of the control-loop as a simple *static gain*. That is, the motor is simply\n",
    "\n",
    "$$\n",
    "    \\text{velocity} = G \\, \\text{control}\n",
    "$$\n",
    "\n",
    "where $G$ is the **open-loop gain**, and the controller:\n",
    "\n",
    "$$\n",
    "    \\text{control} = K \\, \\text{error}\n",
    "$$\n",
    "\n",
    "Recalling that \n",
    "\n",
    "$$\n",
    "\\text{error} = \\text{reference} - \\text{velocity} = \\frac{\\text{reference}}{100} \\, \\text{vmax} - \\text{velocity}\n",
    "$$\n",
    "\n",
    "you will show that:\n",
    "\n",
    "$$\n",
    "\\begin{aligned}\n",
    "\\frac{\\text{velocity}}{\\text{vmax}} &= H \\, \\frac{\\text{reference}}{100}, & H &= \\frac{K G}{1 + K G}\n",
    "\\end{aligned}\n",
    "$$\n",
    "\n",
    "The quantity $H$ is the **closed-loop gain**.\n",
    "\n",
    "**TASKS:**\n",
    "1. Use the above formula to compare the ratio between the average velocity and the reference velocity with what you obtained experimentally\n",
    "\n",
    "**QUESTIONS:**\n",
    "1. How can you compute the open-loop gain, $G$?\n",
    "2. Why did we set `K = Kp / a`?\n",
    "3. What value of `Kp` would make the closed loop gain, $H$, become closed to 1?\n",
    "4. What is the effect of errors in open-loop gain, $G$, in the value of the closed-loop gain, $H$?\n",
    "5. Prove the closed-loop gain formula. *Hint: substitute for control and error and solve for velocity in the above equations*"
   ]
  },
  {
   "cell_type": "code",
   "execution_count": null,
   "metadata": {
    "collapsed": true
   },
   "outputs": [],
   "source": [
    "# YOUR SOLUTION HERE"
   ]
  },
  {
   "cell_type": "markdown",
   "metadata": {},
   "source": [
    "## Regulation and Instability\n",
    "\n",
    "**TASKS:**\n",
    "1. Run the following code to implement a closed-loop proportional velocity controller this time with a reference velocity equal to 0: this is a **regulator**\n",
    "2. Try to turn the pulley when the controller is on\n",
    "3. Repeat with `Kp` equal to 2, 4, and 16\n",
    "4. Repeat with `Kp` equal to -1, -2, and -4\n",
    "\n",
    "**QUESTION:**\n",
    "1. What difference does the gain make?\n",
    "2. Name an application for this velocity regulator\n",
    "3. What does the regulator do when the gain `Kp` is negative?\n",
    "4. What happens when the gain `Kp` is positive and large?\n",
    "5. What happens when the gain `Kp` is negative and large?"
   ]
  },
  {
   "cell_type": "code",
   "execution_count": null,
   "metadata": {
    "collapsed": false
   },
   "outputs": [],
   "source": [
    "Kp = 1\n",
    "K = Kp / a\n",
    "controller.set_controller1(VelocityController(Proportional(K)))\n",
    "controller.reset_logger()\n",
    "controller.set_encoder1(0)\n",
    "with controller:\n",
    "    controller.set_reference1(0)\n",
    "    time.sleep(5)\n",
    "log = controller.get_log()"
   ]
  },
  {
   "cell_type": "markdown",
   "metadata": {},
   "source": [
    "## Position Control\n",
    "\n",
    "The principles of feedback control are abstract and apply to a variety of systems. For example, we could use a similar scheme:\n",
    "\n",
    "<img src=\"figure5.png\" width=\"650\">\n",
    "\n",
    "if we wish to control the **position** of rotor of the DC motor, instead of its velocity,\n",
    "\n",
    "In this case **proportional control** is:\n",
    "\n",
    "$$\n",
    "\\begin{aligned}\n",
    "  \\text{control} &= K \\, \\text{error}, & \\text{error} &= \\text{reference} - \\text{position}\n",
    "\\end{aligned}\n",
    "$$\n",
    "\n",
    "which produces input which is *proportional* to the error, this time computed with respect to position. From a practical standpoint all that is needed is a new sensor to measure position, which we already have.\n",
    "\n",
    "**TASKS:**\n",
    "1. Run the following code to implement a proportional position controller\n",
    "2. Import the data and plot time *vs* position, time *vs* reference and control and time *vs* velocity\n",
    "3. Repeat the above steps with a proportional gain `Kp` equal to 2 then 4\n",
    "\n",
    "**QUESTIONS:**\n",
    "1. Compare the responses in the case of position control with that of velocity control\n",
    "2. Contrast the control signal in both cases\n",
    "3. Is position related to the control signal by a gain?\n",
    "4. How could you calculate the closed-loop gain in the case of position control?"
   ]
  },
  {
   "cell_type": "code",
   "execution_count": null,
   "metadata": {
    "collapsed": false
   },
   "outputs": [],
   "source": [
    "Kp = 1\n",
    "K = Kp / a\n",
    "pmax = 12\n",
    "controller.set_controller1(Proportional(K, pmax))\n",
    "print('K = {:5.3f}, pmax = {:5.3f}'.format(K,pmax))"
   ]
  },
  {
   "cell_type": "code",
   "execution_count": null,
   "metadata": {
    "collapsed": false
   },
   "outputs": [],
   "source": [
    "preference = 10\n",
    "controller.reset_logger()\n",
    "controller.set_encoder1(0)\n",
    "with controller:\n",
    "    controller.set_reference1(100*preference/pmax)\n",
    "    time.sleep(3)\n",
    "log = controller.get_log()"
   ]
  },
  {
   "cell_type": "code",
   "execution_count": null,
   "metadata": {
    "collapsed": true
   },
   "outputs": [],
   "source": [
    "# Solution 10"
   ]
  },
  {
   "cell_type": "markdown",
   "metadata": {},
   "source": [
    "## Integral Velocity Control\n",
    "\n",
    "One problem when using a proportional controller to control the velocity of the DC motor is that the velocity does not actually **track** the reference: there is always a need for some error to exist so that the motor can continue to run. **Integral Control** is one way to overcome this problem.\n",
    "\n",
    "You might have noticed when controlling the position of the motor that the final position was always close to the reference position, even when relatively small gains where used. This is because the motor produces a constant velocity in response to a constant control voltage. No control voltage must exist for the position error to be zero! The reason for this is that the position is the **integral** of the velocity. You might want to think of the integral of the velocity as the area below the velocity in the velocity *vs* time curve.\n",
    "\n",
    "We can bring this idea to the velocity controller. In addition to a proportional control term we have an **integrator** that *accumulates* the error signal, as represented by the block-diagram:\n",
    "\n",
    "<img src=\"figure6.png\" width=\"650\">\n",
    "\n",
    "In the presence of a positive error signal the output of the integrator continues to grow. When the error is zeroed, the integrator stops acumulating but holds a constant control output that will offset the system in the desired way. The resulting controller is called a **proportional-integral-controller**, or simply **PI-controller**. \n",
    "\n",
    "With integral control it is possible to **track constant references** while keeping the gains small. Integral control is the most widely use form of control algorithm and can be found, for instance in your vehicle's cruise control.\n",
    "\n",
    "**TASKS:**\n",
    "1. Run the following code to implement a proportional-integral velocity controller\n",
    "2. Import the data and plot time vs velocity and time vs reference and control\n",
    "3. Discard the first second of data and use `np.mean` and `np.std` to calculate the average and standard deviation of the velocity\n",
    "4. Calculate the ratio between the average velocity and the reference velocity\n",
    "5. Have a group mate touch the top of the big pulley with his or her finger and apply a gentle force trying to stop the motor. Make sure the force does not completely stop the motor, as this may damage the motor\n",
    "6. Repeat the above steps with a integral gain `Ki` equal to 0.1 then 10\n",
    "\n",
    "**QUESTIONS:**\n",
    "1. Did the closed-loop controller achieve the reference velocity?\n",
    "2. What happened when your group mate disturbed the pulley?\n",
    "3. What happened to the control as your group mate disturbed the pulley?\n",
    "4. Can you name processes in your body that are regulated  like that?\n",
    "5. What is the effect of a small integral gain?\n",
    "6. What is the effect of a large integral gain?"
   ]
  },
  {
   "cell_type": "code",
   "execution_count": null,
   "metadata": {
    "collapsed": true
   },
   "outputs": [],
   "source": [
    "Kp = 1\n",
    "Ki = 1\n",
    "K1 = Kp / a\n",
    "K2 = Ki / a\n",
    "vmax = 12\n",
    "controller.set_controller1(VelocityController(PID(K1, K2, 0, vmax)))\n",
    "print('Kp = {:5.3f}, Ki = {:5.3f}, vmax = {:5.3f}'.format(Kp,Ki,vmax))"
   ]
  },
  {
   "cell_type": "code",
   "execution_count": null,
   "metadata": {
    "collapsed": true
   },
   "outputs": [],
   "source": [
    "vreference = 10\n",
    "controller.reset_logger()\n",
    "controller.set_encoder1(0)\n",
    "with controller:\n",
    "    controller.set_reference1(100*vreference/vmax)\n",
    "    time.sleep(3)\n",
    "log = controller.get_log()"
   ]
  },
  {
   "cell_type": "code",
   "execution_count": null,
   "metadata": {
    "collapsed": true
   },
   "outputs": [],
   "source": [
    "# Solution 11"
   ]
  },
  {
   "cell_type": "markdown",
   "metadata": {},
   "source": [
    "#Solutions:\n",
    "\n",
    "## Solutions 1, 2, 3"
   ]
  },
  {
   "cell_type": "code",
   "execution_count": 5,
   "metadata": {
    "collapsed": false
   },
   "outputs": [
    {
     "name": "stdout",
     "output_type": "stream",
     "text": [
      "duty cycle = 5%"
     ]
    }
   ],
   "source": [
    "# SOLUTION 1\n",
    "controller.set_controller1(OpenLoop())\n",
    "controller.reset_logger()\n",
    "dT = 2\n",
    "controller.set_encoder1(0)\n",
    "with controller:\n",
    "    time.sleep(1)\n",
    "    for duty_cycle in range(0,100,5):\n",
    "        print('\\rduty cycle = {}%'.format(100-duty_cycle), end='')\n",
    "        controller.set_reference1(100-duty_cycle)\n",
    "        time.sleep(dT)\n",
    "log = controller.get_log()"
   ]
  },
  {
   "cell_type": "code",
   "execution_count": 6,
   "metadata": {
    "collapsed": false
   },
   "outputs": [
    {
     "data": {
      "image/png": "[encoded data removed]",
      "text/plain": [
       "<matplotlib.figure.Figure at 0x106693518>"
      ]
     },
     "metadata": {},
     "output_type": "display_data"
    }
   ],
   "source": [
    "# SOLUTION 2\n",
    "t = log[:,0]\n",
    "position = log[:,1]\n",
    "reference = log[:,2]\n",
    "velocity = np.zeros(t.shape, float)\n",
    "velocity[1:] = (position[1:]-position[:-1])/(t[1:]-t[:-1])\n",
    "plt.plot(t, velocity, '.')\n",
    "plt.xlabel('t (s)')\n",
    "plt.ylabel('velocity (Hz)')\n",
    "plt.grid()"
   ]
  },
  {
   "cell_type": "code",
   "execution_count": 7,
   "metadata": {
    "collapsed": false
   },
   "outputs": [
    {
     "data": {
      "image/png": "[encoded data removed]",
      "text/plain": [
       "<matplotlib.figure.Figure at 0x106688898>"
      ]
     },
     "metadata": {},
     "output_type": "display_data"
    }
   ],
   "source": [
    "# SOLUTION 3\n",
    "plt.plot(reference, velocity, '.')\n",
    "plt.xlabel('reference (%)')\n",
    "plt.ylabel('velocity (Hz)')\n",
    "plt.grid()"
   ]
  },
  {
   "cell_type": "markdown",
   "metadata": {},
   "source": [
    "## Solutions 4, 5, 6, 7"
   ]
  },
  {
   "cell_type": "code",
   "execution_count": null,
   "metadata": {
    "collapsed": false
   },
   "outputs": [],
   "source": [
    "# SOLUTION 4\n",
    "y = 8\n",
    "x = (y - b)/a\n",
    "print('x = {}'.format(x))"
   ]
  },
  {
   "cell_type": "code",
   "execution_count": null,
   "metadata": {
    "collapsed": false
   },
   "outputs": [],
   "source": [
    "# SOLUTION 5\n",
    "controller.set_controller1(OpenLoop())\n",
    "controller.reset_logger()\n",
    "with controller:\n",
    "    controller.set_reference1(x)\n",
    "    time.sleep(5)\n",
    "log = controller.get_log()"
   ]
  },
  {
   "cell_type": "code",
   "execution_count": null,
   "metadata": {
    "collapsed": false
   },
   "outputs": [],
   "source": [
    "# SOLUTION 6\n",
    "t = log[:,0]\n",
    "position = log[:,1]\n",
    "reference = log[:,2]\n",
    "velocity = np.zeros(t.shape, float)\n",
    "velocity[1:] = (position[1:]-position[:-1])/(t[1:]-t[:-1])\n",
    "\n",
    "plt.subplot(2,1,1)\n",
    "plt.plot(t, velocity, '.')\n",
    "plt.xlabel('t (s)')\n",
    "plt.ylabel('velocity (Hz)')\n",
    "plt.grid()\n",
    "\n",
    "plt.subplot(2,1,2)\n",
    "plt.plot(t, reference, '.')\n",
    "plt.xlabel('t (s)')\n",
    "plt.ylabel('reference (%)')\n",
    "plt.grid()"
   ]
  },
  {
   "cell_type": "code",
   "execution_count": null,
   "metadata": {
    "collapsed": false
   },
   "outputs": [],
   "source": [
    "# SOLUTION 7\n",
    "ind, = np.where(t > 1)\n",
    "vmean = np.mean(velocity[ind[0]:])\n",
    "vstd = np.std(velocity[ind[0]:])\n",
    "print('mean = {:5.3f}, standard deviation = {:5.3f}'.format(vmean,vstd))"
   ]
  },
  {
   "cell_type": "markdown",
   "metadata": {
    "collapsed": true
   },
   "source": [
    "## Solutions 8, 9"
   ]
  },
  {
   "cell_type": "code",
   "execution_count": 12,
   "metadata": {
    "collapsed": false
   },
   "outputs": [
    {
     "data": {
      "image/png": "[encoded data removed]",
      "text/plain": [
       "<matplotlib.figure.Figure at 0x107900550>"
      ]
     },
     "metadata": {},
     "output_type": "display_data"
    }
   ],
   "source": [
    "# SOLUTION 8\n",
    "t = log[:,0]\n",
    "position = log[:,1]\n",
    "reference = log[:,2]\n",
    "control = log[:,3]\n",
    "velocity = np.zeros(t.shape, float)\n",
    "velocity[1:] = (position[1:]-position[:-1])/(t[1:]-t[:-1])\n",
    "\n",
    "plt.subplot(2,1,1)\n",
    "plt.plot(t, velocity, '.', t, reference * vmax/100, '-')\n",
    "plt.xlabel('t (s)')\n",
    "plt.ylabel('velocity (Hz)')\n",
    "plt.grid()\n",
    "\n",
    "plt.subplot(2,1,2)\n",
    "plt.plot(t, control, '.', t, reference, '-')\n",
    "plt.xlabel('t (s)')\n",
    "plt.ylabel('control (%)')\n",
    "plt.grid()"
   ]
  },
  {
   "cell_type": "code",
   "execution_count": 13,
   "metadata": {
    "collapsed": false
   },
   "outputs": [
    {
     "name": "stdout",
     "output_type": "stream",
     "text": [
      "mean = 2.415, standard deviation = 0.077\n",
      "vmean/vreference = 0.302\n",
      "H = 0.500\n"
     ]
    }
   ],
   "source": [
    "# SOLUTION 9\n",
    "ind, = np.where(t > 1)\n",
    "vmean = np.mean(velocity[ind[0]:])\n",
    "vstd = np.std(velocity[ind[0]:])\n",
    "print('mean = {:5.3f}, standard deviation = {:5.3f}'.format(vmean,vstd))\n",
    "print('vmean/vreference = {:5.3f}'.format(vmean/vreference))\n",
    "print('H = {:5.3f}'.format(Kp/(1+Kp)))"
   ]
  },
  {
   "cell_type": "markdown",
   "metadata": {
    "collapsed": true
   },
   "source": [
    "## Solution 10"
   ]
  },
  {
   "cell_type": "code",
   "execution_count": null,
   "metadata": {
    "collapsed": false
   },
   "outputs": [],
   "source": [
    "# SOLUTION 10\n",
    "t = log[:,0]\n",
    "position = log[:,1]\n",
    "reference = log[:,2]\n",
    "control = log[:,3]\n",
    "velocity = np.zeros(t.shape, float)\n",
    "velocity[1:] = (position[1:]-position[:-1])/(t[1:]-t[:-1])\n",
    "\n",
    "plt.subplot(3,1,1)\n",
    "plt.plot(t, position, '.')\n",
    "plt.xlabel('t (s)')\n",
    "plt.ylabel('position (cycles)')\n",
    "plt.grid()\n",
    "\n",
    "plt.subplot(3,1,2)\n",
    "plt.plot(t, control, '.', t, reference, '-')\n",
    "plt.xlabel('t (s)')\n",
    "plt.ylabel('control (%)')\n",
    "plt.grid()\n",
    "\n",
    "plt.subplot(3,1,3)\n",
    "plt.plot(t, velocity, '.')\n",
    "plt.xlabel('t (s)')\n",
    "plt.ylabel('velocity (Hz)')\n",
    "plt.grid()"
   ]
  },
  {
   "cell_type": "markdown",
   "metadata": {},
   "source": [
    "## Solution 11"
   ]
  },
  {
   "cell_type": "code",
   "execution_count": null,
   "metadata": {
    "collapsed": true
   },
   "outputs": [],
   "source": [
    "# SOLUTION 11\n",
    "t = log[:,0]\n",
    "position = log[:,1]\n",
    "reference = log[:,2]\n",
    "control = log[:,3]\n",
    "velocity = np.zeros(t.shape, float)\n",
    "velocity[1:] = (position[1:]-position[:-1])/(t[1:]-t[:-1])\n",
    "\n",
    "plt.subplot(2,1,1)\n",
    "plt.plot(t, velocity, '.', t, reference * vmax/100, '-')\n",
    "plt.xlabel('t (s)')\n",
    "plt.ylabel('velocity (Hz)')\n",
    "plt.grid()\n",
    "\n",
    "plt.subplot(2,1,2)\n",
    "plt.plot(t, control, '.', t, reference, '-')\n",
    "plt.xlabel('t (s)')\n",
    "plt.ylabel('control (%)')\n",
    "plt.grid()"
   ]
  }
 ],
 "metadata": {
  "kernelspec": {
   "display_name": "Python 3",
   "language": "python",
   "name": "python3"
  },
  "language_info": {
   "codemirror_mode": {
    "name": "ipython",
    "version": 3
   },
   "file_extension": ".py",
   "mimetype": "text/x-python",
   "name": "python",
   "nbconvert_exporter": "python",
   "pygments_lexer": "ipython3",
   "version": "3.4.3"
  }
 },
 "nbformat": 4,
 "nbformat_minor": 0
}
