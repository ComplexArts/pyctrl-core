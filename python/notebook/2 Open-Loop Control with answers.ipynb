{
 "cells": [
  {
   "cell_type": "markdown",
   "metadata": {},
   "source": [
    "# Open-Loop Control\n",
    "\n",
    "## Preliminaries\n",
    "\n",
    "The next lines setup some things and import the various libraries required to run this notebook."
   ]
  },
  {
   "cell_type": "code",
   "execution_count": null,
   "metadata": {
    "collapsed": false
   },
   "outputs": [],
   "source": [
    "import sys\n",
    "sys.path.append('..')"
   ]
  },
  {
   "cell_type": "code",
   "execution_count": null,
   "metadata": {
    "collapsed": false
   },
   "outputs": [],
   "source": [
    "%matplotlib inline  \n",
    "import numpy as np\n",
    "import matplotlib.pyplot as plt\n",
    "import math\n",
    "import time"
   ]
  },
  {
   "cell_type": "code",
   "execution_count": null,
   "metadata": {
    "collapsed": false
   },
   "outputs": [],
   "source": [
    "from ctrl.block.linear import Gain, Feedback, ShortCircuit, Differentiator\n",
    "from ctrl.block.logger import Logger"
   ]
  },
  {
   "cell_type": "markdown",
   "metadata": {},
   "source": [
    "Modify the variables `HOST` and `PORT` to reflect the network address of your device:"
   ]
  },
  {
   "cell_type": "code",
   "execution_count": null,
   "metadata": {
    "collapsed": false
   },
   "outputs": [],
   "source": [
    "from ctrl.client import Controller\n",
    "#HOST, PORT = \"localhost\", 9999\n",
    "HOST, PORT = \"192.168.10.51\", 9999\n",
    "device = Controller(host = HOST, port = PORT)"
   ]
  },
  {
   "cell_type": "markdown",
   "metadata": {},
   "source": [
    "## Static Response of the DC motor\n",
    "\n",
    "It is helpful to think of the motor as an entity that takes an **input signal**, in this case signal `motor1` which is translated into a **voltage**, and produces an **output signal**, either an *angular position* or *angular velocity*. We represent such **input-output** relationship using a **block-diagram**:\n",
    "\n",
    "<img src=\"figure1.png\" width=\"300\">\n",
    "\n",
    "You will now perform some experiments to characterize the behavior of the DC motor. Instead of performing the experiment by hand, you will write python programs to vary the reference input, i.e. voltage, on the motor and then collect and analyze the resulting data."
   ]
  },
  {
   "cell_type": "markdown",
   "metadata": {},
   "source": [
    "The following code adds a signal `velocity1` and a logger:"
   ]
  },
  {
   "cell_type": "code",
   "execution_count": null,
   "metadata": {
    "collapsed": false
   },
   "outputs": [],
   "source": [
    "device.reset()\n",
    "device.add_signal('velocity1')\n",
    "device.add_filter('velocity1', Differentiator(), ['clock', 'encoder1'],['velocity1'])\n",
    "device.add_sink('logger', Logger(auto_reset = True), ['clock', 'encoder1', 'velocity1', 'motor1'])"
   ]
  },
  {
   "cell_type": "code",
   "execution_count": null,
   "metadata": {
    "collapsed": false
   },
   "outputs": [],
   "source": [
    "print(device.info('all'))"
   ]
  },
  {
   "cell_type": "markdown",
   "metadata": {},
   "source": [
    "**TASKS:**\n",
    "1. Write python code that runs the motor at 100% for 2 seconds then at 95% for 2 second and so on until you reach 5%\n",
    "<br/>\n",
    "*Hint:* use a `for` loop and `range`\n",
    "2. Import the data, use `matplotlib` to plot the `clock` *vs* `velocity1`\n",
    "3. Plot also `motor1` *vs* `velocity1`\n",
    "4. Compare and discuss your results with the other groups"
   ]
  },
  {
   "cell_type": "code",
   "execution_count": null,
   "metadata": {
    "collapsed": false
   },
   "outputs": [],
   "source": [
    "# SOLUTION 1\n",
    "dT = 2\n",
    "with device:\n",
    "    for duty_cycle in range(0,100,5):\n",
    "        print('\\rduty cycle = {}%'.format(100-duty_cycle), end='')\n",
    "        device.set_signal('motor1', 100-duty_cycle)\n",
    "        time.sleep(dT)\n",
    "log = device.read_sink('logger')"
   ]
  },
  {
   "cell_type": "code",
   "execution_count": null,
   "metadata": {
    "collapsed": false
   },
   "outputs": [],
   "source": [
    "# SOLUTION 2\n",
    "clock = log[:,0]\n",
    "encoder1 = log[:,1]\n",
    "velocity1 = log[:,2]\n",
    "motor1 = log[:,3]\n",
    "\n",
    "fig1 = plt.figure()\n",
    "plt.plot(clock, velocity1, '.')\n",
    "plt.xlabel('clock (s)')\n",
    "plt.ylabel('velocity1 (Hz)')\n",
    "plt.grid()"
   ]
  },
  {
   "cell_type": "code",
   "execution_count": null,
   "metadata": {
    "collapsed": false
   },
   "outputs": [],
   "source": [
    "# SOLUTION 3\n",
    "fig2 = plt.figure()\n",
    "plt.plot(motor1, velocity1, '.')\n",
    "plt.xlabel('motor1 (%)')\n",
    "plt.ylabel('velocity1 (Hz)')\n",
    "plt.grid()"
   ]
  },
  {
   "cell_type": "markdown",
   "metadata": {},
   "source": [
    "**QUESTIONS:**\n",
    "1. Is the response of the motor linear?\n",
    "2. How could we calculate the *gain* of the motor?"
   ]
  },
  {
   "cell_type": "markdown",
   "metadata": {},
   "source": [
    "### Linear Model\n",
    "\n",
    "**TASKS:**\n",
    "1. Use the following code to fit your data to a line of the form y = a x + b\n",
    "2. Modify the code to fit a line of the form y = a x\n",
    "\n",
    "**QUESTIONS:**\n",
    "1. What does the code do?\n",
    "2. Why is the value of b not zero?"
   ]
  },
  {
   "cell_type": "code",
   "execution_count": null,
   "metadata": {
    "collapsed": false
   },
   "outputs": [],
   "source": [
    "def func(x, a, b):\n",
    "    return a * x + b\n",
    "\n",
    "import scipy.optimize as optimize\n",
    "\n",
    "ind = np.where(velocity1 > 0)\n",
    "pars, residues = optimize.curve_fit(func, motor1[ind], velocity1[ind])\n",
    "a, b = pars.tolist()\n",
    "print('a = {:4.3f}, b = {:4.3f}'.format(a,b))"
   ]
  },
  {
   "cell_type": "markdown",
   "metadata": {},
   "source": [
    "**TASKS:**\n",
    "1. Use the values of a and b you calculated and the following code to plot the curve\n",
    "   $$y = a \\, x + b$$\n",
    "   where $y$ is the velocity and $x$ the reference input along with the data you imported earlier\n",
    "   \n",
    "**QUESTIONS:**\n",
    "1. How well do they match?\n",
    "2. What is the meaning of the line when `motor1` > 0 but `velocity1` < 0\n",
    "3. Repeat for a line of the form y = a x "
   ]
  },
  {
   "cell_type": "code",
   "execution_count": null,
   "metadata": {
    "collapsed": false
   },
   "outputs": [],
   "source": [
    "plt.plot(motor1, velocity1, '.', np.array([0,100]), a * np.array([0,100]) + b,'-')\n",
    "plt.xlabel('motor1 (%)')\n",
    "plt.ylabel('velocity1 (Hz)')\n",
    "plt.grid()"
   ]
  },
  {
   "cell_type": "markdown",
   "metadata": {},
   "source": [
    "## Open-loop Control\n",
    "\n",
    "In open-loop control the **reference signal**, in the case of the DC motor the input **voltage**, is produced by an algorithm, the **controller**, as shown in the following block-diagram:\n",
    "\n",
    "<img src=\"figure2.png\" width=\"500\">\n",
    "\n",
    "**TASKS:**\n",
    "1. Use the line $$y = a x + b$$ where $y$ is the velocity and $x$ is the reference input to calculate the value of $x$ required to make the motor rotate at a constant 16Hz speed\n",
    "2. Write python code that resets the controller logger, and sets the reference at the value you calculated for 5s\n",
    "3. Import the data and plot time vs velocity and time vs reference\n",
    "4. Discard the first second of data and use `np.mean` and `np.std` to calculate the average and standard deviation of the velocity\n",
    "\n",
    "**QUESTIONS:**\n",
    "1. How well did your calculation performed?\n",
    "2. Generalize the calculation to work for any desired velocity: that's an **open-loop controller**"
   ]
  },
  {
   "cell_type": "code",
   "execution_count": null,
   "metadata": {
    "collapsed": false
   },
   "outputs": [],
   "source": [
    "# SOLUTION 1\n",
    "motor1 = 16\n",
    "reference = (motor1 - b)/a\n",
    "print('reference = {}'.format(reference))"
   ]
  },
  {
   "cell_type": "code",
   "execution_count": null,
   "metadata": {
    "collapsed": false
   },
   "outputs": [],
   "source": [
    "# SOLUTION 2\n",
    "with device:\n",
    "    device.set_signal('motor1',reference)\n",
    "    time.sleep(5)\n",
    "log = device.read_sink('logger')"
   ]
  },
  {
   "cell_type": "code",
   "execution_count": null,
   "metadata": {
    "collapsed": false
   },
   "outputs": [],
   "source": [
    "# SOLUTION 3\n",
    "clock = log[:,0]\n",
    "encoder1 = log[:,1]\n",
    "velocity1 = log[:,2]\n",
    "motor1 = log[:,3]\n",
    "\n",
    "fig3 = plt.figure()\n",
    "plt.subplot(2,1,1)\n",
    "plt.plot(clock, velocity1, '.')\n",
    "plt.xlabel('clock1 (s)')\n",
    "plt.ylabel('velocity1 (Hz)')\n",
    "plt.grid()\n",
    "\n",
    "plt.subplot(2,1,2)\n",
    "plt.plot(clock, motor1, '.')\n",
    "plt.xlabel('clock1 (s)')\n",
    "plt.ylabel('motor1 (%)')\n",
    "plt.grid()"
   ]
  },
  {
   "cell_type": "code",
   "execution_count": null,
   "metadata": {
    "collapsed": false
   },
   "outputs": [],
   "source": [
    "# SOLUTION 4\n",
    "ind, = np.where(clock > clock[0] + 2)\n",
    "vmean = np.mean(velocity1[ind[0]:])\n",
    "vstd = np.std(velocity1[ind[0]:])\n",
    "print('mean = {:5.3f}, standard deviation = {:5.3f}'.format(vmean,vstd))"
   ]
  },
  {
   "cell_type": "markdown",
   "metadata": {},
   "source": [
    "**TASKS:**\n",
    "1. Run your code and have your group mate touch the top of the big pulley with his or her finger and apply a **gentle** force trying to stop the motor. Make sure the force **does not completely stop the motor**, as this may damage the motor\n",
    "2. Repeat the above steps to calculate the mean and standard deviation of the velocity in this case\n"
   ]
  },
  {
   "cell_type": "code",
   "execution_count": null,
   "metadata": {
    "collapsed": true
   },
   "outputs": [],
   "source": [
    "# SOLUTION 1\n",
    "with device:\n",
    "    device.set_signal('motor1',reference)\n",
    "    time.sleep(5)\n",
    "log = device.read_sink('logger')"
   ]
  },
  {
   "cell_type": "code",
   "execution_count": null,
   "metadata": {
    "collapsed": false
   },
   "outputs": [],
   "source": [
    "# SOLUTION 2\n",
    "ind, = np.where(clock > clock[0] + 1)\n",
    "vmean = np.mean(velocity1[ind[0]:])\n",
    "vstd = np.std(velocity1[ind[0]:])\n",
    "print('mean = {:5.3f}, standard deviation = {:5.3f}'.format(vmean,vstd))"
   ]
  },
  {
   "cell_type": "markdown",
   "metadata": {},
   "source": [
    "**QUESTIONS:**\n",
    "1. Is the average close to 16HZ?\n",
    "2. What happened to the velocity when your group mate touched the pulley?\n",
    "3. What is causing the change in velocity?"
   ]
  }
 ],
 "metadata": {
  "kernelspec": {
   "display_name": "Python 3",
   "language": "python",
   "name": "python3"
  },
  "language_info": {
   "codemirror_mode": {
    "name": "ipython",
    "version": 3
   },
   "file_extension": ".py",
   "mimetype": "text/x-python",
   "name": "python",
   "nbconvert_exporter": "python",
   "pygments_lexer": "ipython3",
   "version": "3.4.3"
  },
  "widgets": {
   "state": {},
   "version": "1.0.0"
  }
 },
 "nbformat": 4,
 "nbformat_minor": 0
}
