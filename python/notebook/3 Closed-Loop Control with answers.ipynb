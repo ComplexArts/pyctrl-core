{
 "cells": [
  {
   "cell_type": "markdown",
   "metadata": {},
   "source": [
    "# Closed-Loop Control\n",
    "\n",
    "## Preliminaries\n",
    "\n",
    "The next lines setup some things and import the various libraries required to run this notebook."
   ]
  },
  {
   "cell_type": "code",
   "execution_count": null,
   "metadata": {
    "collapsed": false
   },
   "outputs": [],
   "source": [
    "import sys\n",
    "sys.path.append('..')"
   ]
  },
  {
   "cell_type": "code",
   "execution_count": null,
   "metadata": {
    "collapsed": false
   },
   "outputs": [],
   "source": [
    "%matplotlib inline  \n",
    "import numpy as np\n",
    "import matplotlib.pyplot as plt\n",
    "import math\n",
    "import time"
   ]
  },
  {
   "cell_type": "code",
   "execution_count": null,
   "metadata": {
    "collapsed": false
   },
   "outputs": [],
   "source": [
    "from ctrl.system.tf import PID\n",
    "from ctrl.block.linear import Gain, Feedback, ShortCircuit, Differentiator, SISO\n",
    "from ctrl.block.logger import Logger"
   ]
  },
  {
   "cell_type": "markdown",
   "metadata": {},
   "source": [
    "Modify the variables `HOST` and `PORT` to reflect the network address of your device:"
   ]
  },
  {
   "cell_type": "code",
   "execution_count": null,
   "metadata": {
    "collapsed": false
   },
   "outputs": [],
   "source": [
    "from ctrl.client import Controller\n",
    "#HOST, PORT = \"localhost\", 9999\n",
    "HOST, PORT = \"192.168.10.51\", 9999\n",
    "device = Controller(host = HOST, port = PORT)"
   ]
  },
  {
   "cell_type": "markdown",
   "metadata": {},
   "source": [
    "## You are the Controller\n",
    "\n",
    "Adjust the potentiometer in the control box so that it is pointing all the way to the left\n",
    "then run the following code to setup a display in your notebook:"
   ]
  },
  {
   "cell_type": "code",
   "execution_count": null,
   "metadata": {
    "collapsed": false
   },
   "outputs": [],
   "source": [
    "# Setup display widgets\n",
    "\n",
    "from IPython.display import display\n",
    "import ipywidgets as widgets\n",
    "\n",
    "vmax = 30\n",
    "vmin = 0\n",
    "N = 200\n",
    "vbar = widgets.FloatProgress(min=vmin, max=vmax, step = (vmax - vmin)/N)\n",
    "ptext = widgets.Text('0',width='12ex',border_style='none')\n",
    "vtext = widgets.Text('0',width='12ex',border_style='none')\n",
    "row3 = widgets.HBox([widgets.HTML('{:5.3f}&nbsp;'.format(vmin)),\n",
    "                     vbar,\n",
    "                     widgets.HTML('&nbsp;{:5.3f}'.format(vmax))])\n",
    "row2 = widgets.HBox([widgets.HTML('<b>velocity = &nbsp;</b>'),\n",
    "                     widgets.VBox([vtext, row3])])\n",
    "row1 = widgets.HBox([widgets.HTML('<b>position = &nbsp;</b>'),\n",
    "                     ptext])\n",
    "display(row1,row2)"
   ]
  },
  {
   "cell_type": "markdown",
   "metadata": {},
   "source": [
    "Run the following code and adjust the potentiometer to keep the velocity at 16Hz:"
   ]
  },
  {
   "cell_type": "code",
   "execution_count": null,
   "metadata": {
    "collapsed": false
   },
   "outputs": [],
   "source": [
    "device.add_filter('analog1', ShortCircuit(), ['analog1'], ['motor1'])\n",
    "\n",
    "Ts = 0.3\n",
    "K = int(30/Ts)\n",
    "with device:\n",
    "    old_time, old_position = device.get_signals('clock','encoder1')\n",
    "    k = 0\n",
    "    while k < K:\n",
    "        current_time, current_position = device.get_signals('clock','encoder1')\n",
    "        velocity = (current_position - old_position) / (current_time - old_time)\n",
    "        vbar.value = velocity\n",
    "        ptext.value = '{:5.3f}'.format(current_position)\n",
    "        vtext.value = '{:5.3f}'.format(velocity)\n",
    "        k = k + 1\n",
    "        old_time, old_position = current_time, current_position\n",
    "        time.sleep(Ts)\n",
    "        \n",
    "device.remove_filter('analog1')\n",
    "log = device.read_sink('logger')"
   ]
  },
  {
   "cell_type": "markdown",
   "metadata": {},
   "source": [
    "**TASKS:**\n",
    "1. Import the data and plot `clock` *vs* `velocity1` and `clock` *vs* `motor1`\n",
    "2. Discard the first 2 seconds of data and use `np.mean` and `np.std` to calculate the average and standard deviation of the velocity"
   ]
  },
  {
   "cell_type": "code",
   "execution_count": null,
   "metadata": {
    "collapsed": false
   },
   "outputs": [],
   "source": [
    "# SOLUTION 1\n",
    "clock = log[:,0]\n",
    "encoder1 = log[:,1]\n",
    "velocity1 = log[:,2]\n",
    "motor1 = log[:,3]\n",
    "\n",
    "fig1 = plt.figure()\n",
    "plt.subplot(2,1,1)\n",
    "plt.plot(clock, velocity1, '.')\n",
    "plt.xlabel('clock (s)')\n",
    "plt.ylabel('velocity1 (Hz)')\n",
    "plt.grid()\n",
    "\n",
    "plt.subplot(2,1,2)\n",
    "plt.plot(clock, motor1, '.')\n",
    "plt.xlabel('clock (s)')\n",
    "plt.ylabel('motor1 (%)')\n",
    "plt.grid()"
   ]
  },
  {
   "cell_type": "code",
   "execution_count": null,
   "metadata": {
    "collapsed": false
   },
   "outputs": [],
   "source": [
    "# SOLUTION 2\n",
    "ind, = np.where(clock > clock[0] + 2)\n",
    "vmean = np.mean(velocity1[ind[0]:])\n",
    "vstd = np.std(velocity1[ind[0]:])\n",
    "print('mean = {:5.3f}, standard deviation = {:5.3f}'.format(vmean,vstd))"
   ]
  },
  {
   "cell_type": "markdown",
   "metadata": {},
   "source": [
    "**QUESTIONS:**\n",
    "1. How well where you able to regulate the velocity? Compare with the open-loop controller\n",
    "2. Explain in words what you did in order to regulate the velocity at 16Hz\n",
    "3. Could you regulate velocity without reading the speed, that is without a **sensor**?\n",
    "4. Explain what you did with the reading of the speed: this is **feedback**"
   ]
  },
  {
   "cell_type": "markdown",
   "metadata": {},
   "source": [
    "**TASKS:**\n",
    "1. Adjust the potentiometer to try to keep the velocity constant at 16Hz as your group mate disturbs the pulley\n",
    "\n",
    "**QUESTIONS:**\n",
    "1. Is the average close to 16HZ?\n",
    "2. What happened to the velocity when your group mate touched the pulley? What did you do then to keep the velocity constant?\n",
    "3. Formulate your strategy as an **algorithm**: that's a **closed-loop controller**"
   ]
  },
  {
   "cell_type": "markdown",
   "metadata": {},
   "source": [
    "## Closed-loop Control\n",
    "\n",
    "In closed-loop control a **sensor** is used to measure an output quantity of interest, the velocity in the case of the DC motor, which is compared with a **reference** to produce an **errror signal**. The error is what is used by the **feedback controller** to calculate the input for the system being controlled, in this case the motor input **voltage**. The overal process can be represented by the block-diagram:\n",
    "\n",
    "<img src=\"figure3.png\" width=\"500\">\n",
    "\n",
    "The name **feedback** refers to the fact that the system *output* is **fed back** into the system *input* by the *controller*.\n",
    "\n",
    "One of the simplest feedback controlers is the **proportional controller**:\n",
    "\n",
    "$$\n",
    "\\begin{aligned}\n",
    "  \\text{control} &= K \\, \\text{error}, & \\text{error} &= \\text{reference} - \\text{velocity}\n",
    "\\end{aligned}\n",
    "$$\n",
    "\n",
    "which produces input which is *proportional* to the error. The constant of proportionallity, $K$, is the controller *gain*.\n",
    "\n",
    "**TASKS:**\n",
    "1. Run the following code to implement a proportional velocity controller\n",
    "2. Import the data and plot `clock` *vs* `velocity1` and `reference1`\n",
    "3. Plot `clock` *vs* `motor1`\n",
    "4. Discard the first second of data and use `np.mean` and `np.std` to calculate the average and standard deviation of the velocity\n",
    "5. Calculate the ratio between the average velocity and the reference velocity\n",
    "\n",
    "**QUESTIONS:**\n",
    "1. Did the closed-loop controller achieve the reference velocity? Explain"
   ]
  },
  {
   "cell_type": "code",
   "execution_count": null,
   "metadata": {
    "collapsed": false
   },
   "outputs": [],
   "source": [
    "a = 0.25\n",
    "G = a\n",
    "Kp = 1\n",
    "\n",
    "K = Kp/G\n",
    "\n",
    "device.add_signal('reference1')\n",
    "device.add_filter('controller1', \n",
    "                  Feedback(block = Gain(gain = K)),\n",
    "                  ['velocity1', 'reference1'], \n",
    "                  ['motor1'])\n",
    "device.set_sink('logger', inputs = ['clock', 'encoder1', 'velocity1', 'motor1', 'reference1'])\n",
    "print(device.info('all'))"
   ]
  },
  {
   "cell_type": "code",
   "execution_count": null,
   "metadata": {
    "collapsed": false
   },
   "outputs": [],
   "source": [
    "with device:\n",
    "    device.set_signal('reference1', 16)\n",
    "    time.sleep(10)\n",
    "log = device.read_sink('logger')"
   ]
  },
  {
   "cell_type": "code",
   "execution_count": null,
   "metadata": {
    "collapsed": false
   },
   "outputs": [],
   "source": [
    "clock = log[:,0]\n",
    "encoder1 = log[:,1]\n",
    "velocity1 = log[:,2]\n",
    "motor1 = log[:,3]\n",
    "reference1 = log[:,4]\n",
    "\n",
    "plt.plot(clock, velocity1, '.b', clock, reference1, '.r')\n",
    "# the next lines will make the plot look nicer\n",
    "plt.xlabel('clock (s)')\n",
    "plt.ylabel('velocity1 (Hz)')\n",
    "plt.grid()"
   ]
  },
  {
   "cell_type": "code",
   "execution_count": null,
   "metadata": {
    "collapsed": false
   },
   "outputs": [],
   "source": [
    "ind, = np.where(clock > clock[0] + 2)\n",
    "vmean = np.mean(velocity1[ind[0]:])\n",
    "vstd = np.std(velocity1[ind[0]:])\n",
    "print('mean = {:5.3f}, standard deviation = {:5.3f}'.format(vmean,vstd))"
   ]
  },
  {
   "cell_type": "markdown",
   "metadata": {},
   "source": [
    "**TASKS:**\n",
    "1. Repeat the above steps with a proportional gain `Kp` equal to 2 then 4\n",
    "\n",
    "**QUESTIONS:**\n",
    "1. How does the ratio between the average velocity and the reference velocity vary with `Kp`?"
   ]
  },
  {
   "cell_type": "code",
   "execution_count": null,
   "metadata": {
    "collapsed": true
   },
   "outputs": [],
   "source": [
    "# YOUR SOLUTION HERE"
   ]
  },
  {
   "cell_type": "markdown",
   "metadata": {},
   "source": [
    "## Open- and Closed-loop Gains\n",
    "\n",
    "In order to understand why the achieved velocity is not equal to the reference velocity it is convinient to think of each block of the control-loop as a simple *static gain*. That is, the motor is simply\n",
    "\n",
    "$$\n",
    "    \\text{velocity} = G \\, \\text{control}\n",
    "$$\n",
    "\n",
    "where $G$ is the **open-loop gain**, and the controller:\n",
    "\n",
    "$$\n",
    "    \\text{control} = K \\, \\text{error}\n",
    "$$\n",
    "\n",
    "Recalling that \n",
    "\n",
    "$$\n",
    "\\text{error} = \\text{reference} - \\text{velocity} = \\text{reference} - \\text{velocity}\n",
    "$$\n",
    "\n",
    "you will show that:\n",
    "\n",
    "$$\n",
    "\\begin{aligned}\n",
    "\\text{velocity} &= H \\, \\text{reference}, & H &= \\frac{K G}{1 + K G}\n",
    "\\end{aligned}\n",
    "$$\n",
    "\n",
    "The quantity $H$ is the **closed-loop gain**.\n",
    "\n",
    "**TASKS:**\n",
    "1. Use the above formula to compare the ratio between the average velocity and the reference velocity with what you obtained experimentally\n",
    "\n",
    "**QUESTIONS:**\n",
    "1. How can you compute the open-loop gain, $G$?\n",
    "2. Why did we set `K = Kp / G`?\n",
    "3. What value of `Kp` would make the closed loop gain, $H$, become close to 1?\n",
    "4. What is the effect of errors in open-loop gain, $G$, in the value of the closed-loop gain, $H$?\n",
    "5. Prove the closed-loop gain formula. *Hint: substitute for control and error and solve for velocity in the above equations*"
   ]
  },
  {
   "cell_type": "code",
   "execution_count": null,
   "metadata": {
    "collapsed": true
   },
   "outputs": [],
   "source": [
    "# YOUR SOLUTION HERE"
   ]
  },
  {
   "cell_type": "markdown",
   "metadata": {},
   "source": [
    "## Regulation and Instability\n",
    "\n",
    "**TASKS:**\n",
    "1. Run the following code to implement a closed-loop proportional velocity controller this time with a reference velocity equal to 0: this is a **regulator**\n",
    "2. Try to turn the pulley when the controller is on\n",
    "3. Repeat with `Kp` equal to 2, 4, and 16\n",
    "4. Repeat with `Kp` equal to -1, -2, and -4\n",
    "\n",
    "**QUESTION:**\n",
    "1. What difference does the gain make?\n",
    "2. Name an application for this velocity regulator\n",
    "3. What does the regulator do when the gain `Kp` is negative?\n",
    "4. What happens when the gain `Kp` is positive and large?\n",
    "5. What happens when the gain `Kp` is negative and large?"
   ]
  },
  {
   "cell_type": "markdown",
   "metadata": {},
   "source": [
    "## Position Control\n",
    "\n",
    "The principles of feedback control are abstract and apply to a variety of systems. For example, we could use a similar scheme:\n",
    "\n",
    "<img src=\"figure5.png\" width=\"650\">\n",
    "\n",
    "if we wish to control the **position** of rotor of the DC motor, instead of its velocity,\n",
    "\n",
    "In this case **proportional control** is:\n",
    "\n",
    "$$\n",
    "\\begin{aligned}\n",
    "  \\text{control} &= K \\, \\text{error}, & \\text{error} &= \\text{reference} - \\text{position}\n",
    "\\end{aligned}\n",
    "$$\n",
    "\n",
    "which produces input which is *proportional* to the error, this time computed with respect to position. From a practical standpoint all that is needed is a new sensor to measure position, which we already have.\n",
    "\n",
    "**TASKS:**\n",
    "1. Run the following code to implement a proportional position controller\n",
    "2. Import the data and plot time *vs* position, time *vs* reference and control and time *vs* velocity\n",
    "3. Repeat the above steps with a proportional gain `Kp` equal to 2 then 4\n",
    "\n",
    "**QUESTIONS:**\n",
    "1. Compare the responses in the case of position control with that of velocity control\n",
    "2. Contrast the control signal in both cases\n",
    "3. Is position related to the control signal by a gain?\n",
    "4. How could you calculate the closed-loop gain in the case of position control?"
   ]
  },
  {
   "cell_type": "code",
   "execution_count": null,
   "metadata": {
    "collapsed": false
   },
   "outputs": [],
   "source": [
    "a = 0.25\n",
    "G = a\n",
    "Kp = 1\n",
    "\n",
    "K = Kp/G\n",
    "\n",
    "device.add_signal('reference1')\n",
    "device.add_filter('controller1', \n",
    "                  Feedback(block = Gain(gain = K)),\n",
    "                  ['encoder1', 'reference1'], \n",
    "                  ['motor1'])\n",
    "device.set_sink('logger', inputs = ['clock', 'encoder1', 'velocity1', 'motor1', 'reference1'])\n",
    "print(device.info('all'))"
   ]
  },
  {
   "cell_type": "code",
   "execution_count": null,
   "metadata": {
    "collapsed": false
   },
   "outputs": [],
   "source": [
    "device.set_source('encoder1', reset=True)\n",
    "with device:\n",
    "    device.set_signal('reference1', 20)\n",
    "    time.sleep(5)\n",
    "log = device.read_sink('logger')"
   ]
  },
  {
   "cell_type": "code",
   "execution_count": null,
   "metadata": {
    "collapsed": false
   },
   "outputs": [],
   "source": [
    "clock = log[:,0]\n",
    "encoder1 = log[:,1]\n",
    "velocity1 = log[:,2]\n",
    "motor1 = log[:,3]\n",
    "reference1 = log[:,4]\n",
    "\n",
    "plt.plot(clock, encoder1, '.b', clock, reference1, '.r')\n",
    "# the next lines will make the plot look nicer\n",
    "plt.xlabel('clock (s)')\n",
    "plt.ylabel('encoder1 (Hz)')\n",
    "plt.grid()"
   ]
  },
  {
   "cell_type": "markdown",
   "metadata": {},
   "source": [
    "## Integral Velocity Control\n",
    "\n",
    "One problem when using a proportional controller to control the velocity of the DC motor is that the velocity does not actually **track** the reference: there is always a need for some error to exist so that the motor can continue to run. **Integral Control** is one way to overcome this problem.\n",
    "\n",
    "You might have noticed when controlling the position of the motor that the final position was always close to the reference position, even when relatively small gains where used. This is because the motor produces a constant velocity in response to a constant control voltage. No control voltage must exist for the position error to be zero! The reason for this is that the position is the **integral** of the velocity. You might want to think of the integral of the velocity as the area below the velocity in the velocity *vs* time curve.\n",
    "\n",
    "We can bring this idea to the velocity controller. In addition to a proportional control term we have an **integrator** that *accumulates* the error signal, as represented by the block-diagram:\n",
    "\n",
    "<img src=\"figure6.png\" width=\"650\">\n",
    "\n",
    "In the presence of a positive error signal the output of the integrator continues to grow. When the error is zeroed, the integrator stops acumulating but holds a constant control output that will offset the system in the desired way. The resulting controller is called a **proportional-integral-controller**, or simply **PI-controller**. \n",
    "\n",
    "With integral control it is possible to **track constant references** while keeping the gains small. Integral control is the most widely use form of control algorithm and can be found, for instance in your vehicle's cruise control.\n",
    "\n",
    "**TASKS:**\n",
    "1. Run the following code to implement a proportional-integral velocity controller\n",
    "2. Import the data and plot time vs velocity and time vs reference and control\n",
    "3. Discard the first second of data and use `np.mean` and `np.std` to calculate the average and standard deviation of the velocity\n",
    "4. Calculate the ratio between the average velocity and the reference velocity\n",
    "5. Have a group mate touch the top of the big pulley with his or her finger and apply a gentle force trying to stop the motor. Make sure the force does not completely stop the motor, as this may damage the motor\n",
    "6. Repeat the above steps with a integral gain `Ki` equal to 0.1, 1, and 10\n",
    "\n",
    "**QUESTIONS:**\n",
    "1. Did the closed-loop controller achieve the reference velocity?\n",
    "2. What happened when your group mate disturbed the pulley?\n",
    "3. What happened to the control as your group mate disturbed the pulley?\n",
    "4. Can you name processes in your body that are regulated  like that?\n",
    "5. What is the effect of a small integral gain?\n",
    "6. What is the effect of a large integral gain?"
   ]
  },
  {
   "cell_type": "code",
   "execution_count": null,
   "metadata": {
    "collapsed": false
   },
   "outputs": [],
   "source": [
    "a = 0.25\n",
    "G = a\n",
    "Kp = 1\n",
    "Ki = 10\n",
    "Ts = 0.01\n",
    "\n",
    "K = Kp/G\n",
    "\n",
    "device.add_signal('reference1')\n",
    "device.add_filter('controller1', \n",
    "                  Feedback(block = SISO(model = PID(Kp = K, Ki = Ki/G, period = Ts))),\n",
    "                  ['velocity1', 'reference1'], \n",
    "                  ['motor1'])\n",
    "device.set_sink('logger', inputs = ['clock', 'encoder1', 'velocity1', 'motor1', 'reference1'])\n",
    "print(device.info('all'))"
   ]
  },
  {
   "cell_type": "code",
   "execution_count": null,
   "metadata": {
    "collapsed": false
   },
   "outputs": [],
   "source": [
    "with device:\n",
    "    device.set_signal('reference1', 16)\n",
    "    time.sleep(15)\n",
    "log = device.read_sink('logger')"
   ]
  },
  {
   "cell_type": "code",
   "execution_count": null,
   "metadata": {
    "collapsed": false
   },
   "outputs": [],
   "source": [
    "clock = log[:,0]\n",
    "encoder1 = log[:,1]\n",
    "velocity1 = log[:,2]\n",
    "motor1 = log[:,3]\n",
    "reference1 = log[:,4]\n",
    "\n",
    "plt.plot(clock, velocity1, '.b', clock, reference1, '.r')\n",
    "# the next lines will make the plot look nicer\n",
    "plt.xlabel('clock (s)')\n",
    "plt.ylabel('velocity1 (Hz)')\n",
    "plt.grid()"
   ]
  },
  {
   "cell_type": "code",
   "execution_count": null,
   "metadata": {
    "collapsed": false
   },
   "outputs": [],
   "source": [
    "ind, = np.where(clock > clock[0] + 2)\n",
    "vmean = np.mean(velocity1[ind[0]:])\n",
    "vstd = np.std(velocity1[ind[0]:])\n",
    "print('mean = {:5.3f}, standard deviation = {:5.3f}'.format(vmean,vstd))"
   ]
  },
  {
   "cell_type": "code",
   "execution_count": null,
   "metadata": {
    "collapsed": true
   },
   "outputs": [],
   "source": []
  }
 ],
 "metadata": {
  "kernelspec": {
   "display_name": "Python 3",
   "language": "python",
   "name": "python3"
  },
  "language_info": {
   "codemirror_mode": {
    "name": "ipython",
    "version": 3
   },
   "file_extension": ".py",
   "mimetype": "text/x-python",
   "name": "python",
   "nbconvert_exporter": "python",
   "pygments_lexer": "ipython3",
   "version": "3.4.5"
  },
  "widgets": {
   "state": {
    "00d42501459842dba825c0dd20ba905f": {
     "views": []
    },
    "00d652778a8241d5aa2e802e40bcaac3": {
     "views": [
      {
       "cell_index": 22
      }
     ]
    },
    "0124c744078045db9de9b7e302bf8793": {
     "views": []
    },
    "03826f9a62f94515b1b07afb45d4f075": {
     "views": []
    },
    "05a66b31148d4184a5e36e52159e39e1": {
     "views": []
    },
    "06413cfeb1c94fb492702f9849fc0e39": {
     "views": []
    },
    "097f2284b9934fe0952669ef254cfc13": {
     "views": []
    },
    "0ddb759d91a94d27be03788cb380381b": {
     "views": []
    },
    "0e513a4ecd8e4ea6be40938425f94d07": {
     "views": []
    },
    "0f7bbef1cf8646f5936fcf178c22c634": {
     "views": []
    },
    "1037f372f5f5476b95f0041487b7edc1": {
     "views": []
    },
    "1284fba15af344b79a4aa2aeb1232781": {
     "views": []
    },
    "12a310e64405427197d6d6225a269f74": {
     "views": []
    },
    "13a0d45f982c49f09b05116e5a196ee0": {
     "views": []
    },
    "15d6183c5dc14ae692832fe1130f81f9": {
     "views": []
    },
    "17168c2fabae40d98aaa7deeb53e21fa": {
     "views": []
    },
    "18b0dc573bad494fa73a52648bd1ceb1": {
     "views": []
    },
    "1921a37102974c80bde2c762e3db23c4": {
     "views": []
    },
    "1a60493f5ea84c69b09777033b3fb604": {
     "views": []
    },
    "1a708393cbbd409f9d0d95c005eeb2a5": {
     "views": []
    },
    "1cd9cbd8131340c1ae579507e7e704f3": {
     "views": []
    },
    "1ee11e4d3e404264bc2f5b5f83a3c8cf": {
     "views": []
    },
    "20399aeea1d04c74abf1eb82fdeb5ec9": {
     "views": []
    },
    "2389a7ca7ba64fbcb5cf066cb59aaca4": {
     "views": []
    },
    "244f83346b2949528614cdf08a173807": {
     "views": []
    },
    "2ad243cdcfb64341a0ac6b357bd08af1": {
     "views": []
    },
    "2b00ebf8ea8e4bc681b10c7a88b92a15": {
     "views": []
    },
    "2b24bae1679d4c48bc199397c444ab43": {
     "views": [
      {
       "cell_index": 22
      }
     ]
    },
    "2b61f7cb0369425ea4c0d427272dabef": {
     "views": []
    },
    "2c7540991a084904b69ff027e883230a": {
     "views": [
      {
       "cell_index": 21
      }
     ]
    },
    "2d0dc82f3e8e4a629ef5b1ef909652ef": {
     "views": []
    },
    "2ebc0ceed971465cbe0beab4c6d17094": {
     "views": []
    },
    "32bb134e17b8418dbb7d314c01c6cd89": {
     "views": []
    },
    "33c0760395b7490e847dae9273cdf670": {
     "views": []
    },
    "347f6f5a9df54310aaebfb2dbcb0dfc3": {
     "views": []
    },
    "35498b91213c4e4ab52623178193d57f": {
     "views": []
    },
    "368944bfa1a046e8b7731607bdac4a5a": {
     "views": []
    },
    "3822ec9c008c4b0c808030785b992ac2": {
     "views": []
    },
    "3ebf2d58b7854677b4a605bb2be334fd": {
     "views": []
    },
    "422c5c9284e14919a6d7277f82c0ca15": {
     "views": []
    },
    "4674da3a7f6f442f8062f00f251e9397": {
     "views": []
    },
    "4758b965336a4455a9eedd93f33454e9": {
     "views": [
      {
       "cell_index": 24
      }
     ]
    },
    "484a1af8268e49a29c6e06ceebac8957": {
     "views": []
    },
    "49890bf5815540f982730a0a80fb6780": {
     "views": []
    },
    "4b30c44538834b85bfe4c99540e19ddd": {
     "views": []
    },
    "4b66a9fd581a4520bdba0d7e101ea341": {
     "views": []
    },
    "4bfb775e6132416abb11723e4cfdf4f9": {
     "views": []
    },
    "4c7e6f1f528a48febae5919b565bf4b3": {
     "views": []
    },
    "4cbdec65019942278952afdf1eb6dc54": {
     "views": []
    },
    "564751fc214a4e56b2dc1582c6eb4b39": {
     "views": []
    },
    "583319f78330410e8f382e732cf33ff0": {
     "views": []
    },
    "5868bae3d4544812af48c6e0ed3fa67f": {
     "views": [
      {
       "cell_index": 22
      }
     ]
    },
    "5a3816a7deff4ddc8a60fcb9bfb67e31": {
     "views": []
    },
    "5bbf16c6ed7c466e8d4745afe063967e": {
     "views": []
    },
    "5cadd908eb3f4631b4375187375700ce": {
     "views": []
    },
    "5df9fe26015a4f6e8c0c0604e614bbd6": {
     "views": []
    },
    "5e58f61d619d442e86ea4b5bda8e5ce6": {
     "views": []
    },
    "6114a588af9d4114ac10d748add57ed2": {
     "views": []
    },
    "63d1ffdb14414cc1b0536465a41df7c5": {
     "views": []
    },
    "667af0fdad9e4d4d990624fa929b7fd9": {
     "views": []
    },
    "6c3c8e78b5d1400ab1c79f1b58987256": {
     "views": []
    },
    "6edc897406654da68379f372ce1850af": {
     "views": []
    },
    "71676802312d4ef1908d0d70b58949b9": {
     "views": []
    },
    "7199a4e1216544f7b10bd96b4b031ae4": {
     "views": []
    },
    "71c9925f362f4867ba082b8645121f15": {
     "views": []
    },
    "747419dec63c48f8a204b86f6defb922": {
     "views": []
    },
    "751d30da7bd24137b29db4a1a3738cfd": {
     "views": []
    },
    "7dd74ed147474ee89910a45732afc80e": {
     "views": []
    },
    "7eef22e2acd94f1f8f4519d77a80fe33": {
     "views": []
    },
    "7f44eae022054fb688c0d19893a91c15": {
     "views": []
    },
    "7f7d8259526c48dc8a21bddc1fe07dd7": {
     "views": []
    },
    "82dc4fa928e44591b57bd484cc26cf44": {
     "views": []
    },
    "853eb14a143e4c6cb4bfe84b69609e0a": {
     "views": []
    },
    "8992d5a5018f494aa32754f5b5245e67": {
     "views": []
    },
    "8b380aeb2b184c84bcbf37a1871906c8": {
     "views": []
    },
    "98d8a8213b704c0eaecfb5b7a5583ace": {
     "views": []
    },
    "9d02715dfa6b4e2da40fee55cc7d1d39": {
     "views": []
    },
    "9ddbc6ceb44547049efea1aa543d2e42": {
     "views": []
    },
    "9f0becdf888d453eb12be33cb542617e": {
     "views": []
    },
    "a31e30a51a85405b8bf54948d7759e72": {
     "views": []
    },
    "a57e10b1bab74847841fc1d8a49494eb": {
     "views": [
      {
       "cell_index": 21
      }
     ]
    },
    "a5cc834a73c14ba8a1fdc377c8f00836": {
     "views": []
    },
    "a805667903414816af5b9f15b05761a2": {
     "views": []
    },
    "a9e36176b8014bdbad928a5338041edd": {
     "views": []
    },
    "aa54041e55514eb186c4716986bec7ed": {
     "views": []
    },
    "aed79ff4107849a895d275d89ef05a79": {
     "views": []
    },
    "b02b45ce1fad483681ebbab09647d3d4": {
     "views": []
    },
    "b4be12db026e45c6a3a9c7f2c7d931a5": {
     "views": []
    },
    "b593a0cabcef47a895dc2615eda7b764": {
     "views": []
    },
    "b7f65a2263a3471886945ee53440e70b": {
     "views": []
    },
    "bb63c6beeb60417882a3bfd3733472f5": {
     "views": []
    },
    "bbc8b7f4da7f4ffba37d2ae34bbb9ce1": {
     "views": []
    },
    "bbd7fb0b3d0740559009f833ee604473": {
     "views": []
    },
    "be97dabe6a0949529698fe0704f2134b": {
     "views": []
    },
    "c1e51fb810ec4398bae30598618df61d": {
     "views": []
    },
    "c779412c195f48d2872dd8c2db7a6433": {
     "views": []
    },
    "c8e9775c8bb946848eab0d1c2acee291": {
     "views": []
    },
    "c9cd153779274a79aa447992427286cf": {
     "views": []
    },
    "c9cd5c42dd3742be840f44b71acc5cfd": {
     "views": []
    },
    "cc2b540bb11b4b63b4ae943e992293c4": {
     "views": []
    },
    "cfe1d9e67dd448d0a6fb74cebe6f7021": {
     "views": []
    },
    "d17ca56eb84c4c9daf58311f2d9c61b4": {
     "views": []
    },
    "d360e214442744b0a32e4e193110f025": {
     "views": []
    },
    "d4b492cfe6074d8b9b75d52d85c49e59": {
     "views": []
    },
    "d6e30a90a5d34750a204c7005f1b2599": {
     "views": []
    },
    "d74c4e2275084f7bb238d8148e75a020": {
     "views": []
    },
    "d82bab65a54540b6b6d9dad6e6e371a7": {
     "views": []
    },
    "d8886ddf69f842038760a015364c7b9c": {
     "views": []
    },
    "d8cd04d0d7454811ae93878bb7f123a4": {
     "views": []
    },
    "da269b95bac7467e91f12d678b24af30": {
     "views": []
    },
    "daa3d04d5d3b43e081ce6e835664e30e": {
     "views": []
    },
    "dcdedae96e654e7aaf84987212f6f5e6": {
     "views": []
    },
    "df0a9c4d0c7a4b1eb8e015cf2db5c536": {
     "views": []
    },
    "e2d9eec4826047c79e6a5a7fe3326ffe": {
     "views": [
      {
       "cell_index": 24
      }
     ]
    },
    "e5eafa0372c84c6284317800ca823205": {
     "views": []
    },
    "e877e2319d48470a94ff0b4065373c2e": {
     "views": []
    },
    "ebc6e93cd9fa4fd59b4faa4c1de555ed": {
     "views": []
    },
    "ec3a0e46f21b4bfc952765e20ce8102d": {
     "views": []
    },
    "ec9664d83bd049ef8c7671d0f9cbff93": {
     "views": []
    },
    "edc227a794e04ca8b237c31f055f49b2": {
     "views": []
    },
    "edfb785d16114ba1aab125763c4d93bb": {
     "views": []
    },
    "ee30f5cbc2574969852fdb282b89378c": {
     "views": []
    },
    "ee82750f3a81402a93a06213d29db0c7": {
     "views": []
    },
    "eef929692134492d97df25046146d85a": {
     "views": []
    },
    "f09939bf89f04a05901bc38efd59c6d5": {
     "views": []
    },
    "f19bf3213aaa4c4e926dc418fbf01dd9": {
     "views": []
    },
    "f42955b70cba4e15874906a78180316a": {
     "views": []
    },
    "f56e210a73414880a99eda9d432a3176": {
     "views": []
    },
    "f65d6b41445d49faafe7d54230e838a3": {
     "views": []
    },
    "f6ddcb8fbd0d4f3ea439696544c572d8": {
     "views": []
    },
    "f923a571a1bb48978d21c4429f6df84d": {
     "views": []
    },
    "fb8960d62cc5496790a87deb4de3f0ed": {
     "views": []
    }
   },
   "version": "1.0.0"
  }
 },
 "nbformat": 4,
 "nbformat_minor": 0
}
