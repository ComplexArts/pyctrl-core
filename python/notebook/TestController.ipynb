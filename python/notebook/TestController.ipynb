{
 "cells": [
  {
   "cell_type": "markdown",
   "metadata": {},
   "source": [
    "# Controller"
   ]
  },
  {
   "cell_type": "code",
   "execution_count": 61,
   "metadata": {
    "collapsed": false
   },
   "outputs": [],
   "source": [
    "import sys\n",
    "sys.path.append('..')\n",
    "\n",
    "%matplotlib inline\n",
    "import matplotlib\n",
    "import numpy as np\n",
    "import matplotlib.pyplot as plt\n",
    "import math\n",
    "import time"
   ]
  },
  {
   "cell_type": "code",
   "execution_count": 62,
   "metadata": {
    "collapsed": false
   },
   "outputs": [],
   "source": [
    "from ctrl.block.linear import Gain, Feedback, Differentiator, TransferFunction\n",
    "from ctrl.system.tf import PID\n",
    "from ctrl.block.logger import Logger"
   ]
  },
  {
   "cell_type": "code",
   "execution_count": 63,
   "metadata": {
    "collapsed": false
   },
   "outputs": [],
   "source": [
    "#from ctrl.sim import Controller"
   ]
  },
  {
   "cell_type": "code",
   "execution_count": 64,
   "metadata": {
    "collapsed": false
   },
   "outputs": [],
   "source": [
    "from ctrl.client import Controller\n",
    "HOST, PORT = \"localhost\", 9999\n",
    "controller = Controller(host = HOST, port = PORT)"
   ]
  },
  {
   "cell_type": "markdown",
   "metadata": {},
   "source": [
    "## Open Loop"
   ]
  },
  {
   "cell_type": "code",
   "execution_count": 65,
   "metadata": {
    "collapsed": false
   },
   "outputs": [],
   "source": [
    "a = 17   # 1/s\n",
    "k = 0.11 # counts/s duty\n",
    "Ts = 0.01\n",
    "controller = Controller(period = Ts)"
   ]
  },
  {
   "cell_type": "code",
   "execution_count": 66,
   "metadata": {
    "collapsed": false
   },
   "outputs": [],
   "source": [
    "controller.add_sink('logger', Logger(), \n",
    "                    ['clock','encoder1'])"
   ]
  },
  {
   "cell_type": "code",
   "execution_count": 67,
   "metadata": {
    "collapsed": false
   },
   "outputs": [
    {
     "name": "stdout",
     "output_type": "stream",
     "text": [
      "> Controller with 4 signal(s), 1 source(s), 1 sink(s), and 1 filter(s)\n",
      "> period = 0.01s\n",
      "> signals\n",
      "  1. encoder1\n",
      "  2. clock\n",
      "  3. motor1\n",
      "  4. pot1\n",
      "> sources\n",
      "  1. clock[enabled] >> clock\n",
      "> filters\n",
      "  1. motor1 >> model1[enabled] >> encoder1\n",
      "> sinks\n",
      "  1. clock, encoder1 >> logger[enabled]\n",
      "\n"
     ]
    }
   ],
   "source": [
    "print(controller.info('all'))"
   ]
  },
  {
   "cell_type": "code",
   "execution_count": 68,
   "metadata": {
    "collapsed": false
   },
   "outputs": [],
   "source": [
    "with controller:\n",
    "    controller.set_source('clock',reset = True)\n",
    "    controller.set_sink('logger',reset = True)\n",
    "    time.sleep(1)\n",
    "    controller.set_signal('motor1', 100)\n",
    "    time.sleep(1)\n",
    "    controller.set_signal('motor1', -100)\n",
    "    time.sleep(1)\n",
    "    controller.set_signal('motor1', 0)\n",
    "    time.sleep(1)"
   ]
  },
  {
   "cell_type": "code",
   "execution_count": 69,
   "metadata": {
    "collapsed": true
   },
   "outputs": [],
   "source": [
    "log = controller.read_sink('logger')"
   ]
  },
  {
   "cell_type": "code",
   "execution_count": 70,
   "metadata": {
    "collapsed": false
   },
   "outputs": [
    {
     "data": {
      "image/png": "[encoded data removed]",
      "text/plain": [
       "<matplotlib.figure.Figure at 0x106a11278>"
      ]
     },
     "metadata": {},
     "output_type": "display_data"
    }
   ],
   "source": [
    "t = log[:,0]\n",
    "position = log[:,1]\n",
    "plt.plot(t, position)\n",
    "plt.xlabel('t (s)')\n",
    "plt.ylabel('position (cycles)')\n",
    "plt.grid()"
   ]
  },
  {
   "cell_type": "markdown",
   "metadata": {},
   "source": [
    "## Closed-loop on Position\n",
    "### Proportional Control"
   ]
  },
  {
   "cell_type": "code",
   "execution_count": 71,
   "metadata": {
    "collapsed": false
   },
   "outputs": [],
   "source": [
    "controller.add_signal('reference1')"
   ]
  },
  {
   "cell_type": "code",
   "execution_count": 72,
   "metadata": {
    "collapsed": false
   },
   "outputs": [],
   "source": [
    "pmax = 2\n",
    "Kp = 10/k\n",
    "\n",
    "controller.add_filter('controller1', \n",
    "                      Feedback(gamma = pmax, block = Gain(gain = Kp)),\n",
    "                      ['encoder1', 'reference1'], \n",
    "                      ['motor1'])"
   ]
  },
  {
   "cell_type": "code",
   "execution_count": 73,
   "metadata": {
    "collapsed": false
   },
   "outputs": [
    {
     "name": "stdout",
     "output_type": "stream",
     "text": [
      "> Controller with 5 signal(s), 1 source(s), 1 sink(s), and 2 filter(s)\n",
      "> period = 0.01s\n",
      "> signals\n",
      "  1. encoder1\n",
      "  2. reference1\n",
      "  3. clock\n",
      "  4. motor1\n",
      "  5. pot1\n",
      "> sources\n",
      "  1. clock[disabled] >> clock\n",
      "> filters\n",
      "  1. motor1 >> model1[enabled] >> encoder1\n",
      "  2. encoder1, reference1 >> controller1[enabled] >> motor1\n",
      "> sinks\n",
      "  1. clock, encoder1, reference1, motor1 >> logger[enabled]\n",
      "\n"
     ]
    }
   ],
   "source": [
    "controller.set_sink('logger', inputs =\n",
    "                    ['clock', 'encoder1', 'reference1', 'motor1'])\n",
    "print(controller.info('all'))"
   ]
  },
  {
   "cell_type": "code",
   "execution_count": 74,
   "metadata": {
    "collapsed": true
   },
   "outputs": [],
   "source": [
    "with controller:\n",
    "    controller.set_source('clock', reset = True)\n",
    "    controller.set_sink('logger', reset = True)\n",
    "    time.sleep(1)\n",
    "    controller.set_signal('reference1', 100)\n",
    "    time.sleep(3)\n",
    "    controller.set_signal('reference1', 50)\n",
    "    time.sleep(3)\n",
    "    controller.set_signal('reference1', -50)\n",
    "    time.sleep(3)\n",
    "log = controller.read_sink('logger')"
   ]
  },
  {
   "cell_type": "code",
   "execution_count": 75,
   "metadata": {
    "collapsed": false
   },
   "outputs": [
    {
     "data": {
      "image/png": "[encoded data removed]",
      "text/plain": [
       "<matplotlib.figure.Figure at 0x106a687b8>"
      ]
     },
     "metadata": {},
     "output_type": "display_data"
    }
   ],
   "source": [
    "t = log[:,0]\n",
    "position = log[:,1]\n",
    "reference = log[:,2]\n",
    "\n",
    "plt.plot(t, position, '.b', t, pmax*reference/100, 'r.')\n",
    "plt.xlabel('t (s)')\n",
    "plt.ylabel('position (cycles)')\n",
    "plt.grid()"
   ]
  },
  {
   "cell_type": "markdown",
   "metadata": {},
   "source": [
    "### Calculate velocity"
   ]
  },
  {
   "cell_type": "code",
   "execution_count": 76,
   "metadata": {
    "collapsed": true
   },
   "outputs": [],
   "source": [
    "controller.add_signal('velocity1')\n",
    "controller.add_filter('differentiator1', Differentiator(),\n",
    "                      ['clock', 'encoder1'], \n",
    "                      ['velocity1'])"
   ]
  },
  {
   "cell_type": "code",
   "execution_count": 77,
   "metadata": {
    "collapsed": false
   },
   "outputs": [
    {
     "name": "stdout",
     "output_type": "stream",
     "text": [
      "> Controller with 6 signal(s), 1 source(s), 1 sink(s), and 3 filter(s)\n",
      "> period = 0.01s\n",
      "> signals\n",
      "  1. encoder1\n",
      "  2. velocity1\n",
      "  3. reference1\n",
      "  4. clock\n",
      "  5. pot1\n",
      "  6. motor1\n",
      "> sources\n",
      "  1. clock[disabled] >> clock\n",
      "> filters\n",
      "  1. motor1 >> model1[enabled] >> encoder1\n",
      "  2. encoder1, reference1 >> controller1[enabled] >> motor1\n",
      "  3. clock, encoder1 >> differentiator1[enabled] >> velocity1\n",
      "> sinks\n",
      "  1. clock, encoder1, reference1, motor1, velocity1 >> logger[enabled]\n",
      "\n"
     ]
    }
   ],
   "source": [
    "controller.set_sink('logger', inputs =\n",
    "                    ['clock', 'encoder1', 'reference1', 'motor1', 'velocity1'])\n",
    "print(controller.info('all'))"
   ]
  },
  {
   "cell_type": "code",
   "execution_count": 78,
   "metadata": {
    "collapsed": true
   },
   "outputs": [],
   "source": [
    "with controller:\n",
    "    controller.set_source('clock', reset = True)\n",
    "    controller.set_sink('logger', reset = True)\n",
    "    time.sleep(1)\n",
    "    controller.set_signal('reference1', 100)\n",
    "    time.sleep(3)\n",
    "    controller.set_signal('reference1', 50)\n",
    "    time.sleep(3)\n",
    "    controller.set_signal('reference1', -50)\n",
    "    time.sleep(3)\n",
    "log = controller.read_sink('logger')"
   ]
  },
  {
   "cell_type": "code",
   "execution_count": 79,
   "metadata": {
    "collapsed": false
   },
   "outputs": [
    {
     "data": {
      "image/png": "[encoded data removed]",
      "text/plain": [
       "<matplotlib.figure.Figure at 0x1066af940>"
      ]
     },
     "metadata": {},
     "output_type": "display_data"
    }
   ],
   "source": [
    "t = log[:,0]\n",
    "position = log[:,1]\n",
    "reference = log[:,2]\n",
    "velocity = log[:,4]\n",
    "\n",
    "plt.subplot(2,1,1)\n",
    "plt.plot(t, position, '-b', t, pmax*reference/100, 'r-')\n",
    "plt.xlabel('t (s)')\n",
    "plt.ylabel('position (cycles)')\n",
    "plt.grid()\n",
    "\n",
    "plt.subplot(2,1,2)\n",
    "plt.plot(t, velocity, 'b-')\n",
    "plt.xlabel('t (s)')\n",
    "plt.ylabel('velocity (Hz)')\n",
    "plt.grid()"
   ]
  },
  {
   "cell_type": "markdown",
   "metadata": {},
   "source": [
    "## Closed-loop on Velocity\n",
    "### Proportional Control"
   ]
  },
  {
   "cell_type": "code",
   "execution_count": 80,
   "metadata": {
    "collapsed": true
   },
   "outputs": [],
   "source": [
    "vmax = 11\n",
    "Kp = 1/k\n",
    "controller.remove_filter('controller1') \n",
    "controller.add_filter('controller1', \n",
    "                      Feedback(gamma = vmax, block = Gain(gain = Kp)),\n",
    "                      ['velocity1', 'reference1'], \n",
    "                      ['motor1'])"
   ]
  },
  {
   "cell_type": "code",
   "execution_count": 81,
   "metadata": {
    "collapsed": false
   },
   "outputs": [
    {
     "name": "stdout",
     "output_type": "stream",
     "text": [
      "> Controller with 6 signal(s), 1 source(s), 1 sink(s), and 3 filter(s)\n",
      "> period = 0.01s\n",
      "> signals\n",
      "  1. encoder1\n",
      "  2. velocity1\n",
      "  3. reference1\n",
      "  4. clock\n",
      "  5. pot1\n",
      "  6. motor1\n",
      "> sources\n",
      "  1. clock[disabled] >> clock\n",
      "> filters\n",
      "  1. motor1 >> model1[enabled] >> encoder1\n",
      "  2. clock, encoder1 >> differentiator1[enabled] >> velocity1\n",
      "  3. velocity1, reference1 >> controller1[enabled] >> motor1\n",
      "> sinks\n",
      "  1. clock, encoder1, reference1, motor1, velocity1 >> logger[enabled]\n",
      "\n"
     ]
    }
   ],
   "source": [
    "print(controller.info('all'))"
   ]
  },
  {
   "cell_type": "code",
   "execution_count": 82,
   "metadata": {
    "collapsed": false
   },
   "outputs": [],
   "source": [
    "with controller:\n",
    "    controller.set_source('clock', reset = True)\n",
    "    controller.set_sink('logger',reset=True)\n",
    "    controller.set_signal('reference1', 0)\n",
    "    time.sleep(1)\n",
    "    controller.set_signal('reference1', 100)\n",
    "    time.sleep(3)\n",
    "    controller.set_signal('reference1', 50)\n",
    "    time.sleep(3)\n",
    "    controller.set_signal('reference1', -50)\n",
    "    time.sleep(3)\n",
    "log = controller.read_sink('logger')"
   ]
  },
  {
   "cell_type": "code",
   "execution_count": 83,
   "metadata": {
    "collapsed": false
   },
   "outputs": [
    {
     "data": {
      "image/png": "[encoded data removed]",
      "text/plain": [
       "<matplotlib.figure.Figure at 0x106731e80>"
      ]
     },
     "metadata": {},
     "output_type": "display_data"
    }
   ],
   "source": [
    "t = log[:,0]\n",
    "position = log[:,1]\n",
    "reference = log[:,2]\n",
    "velocity = log[:,4]\n",
    "\n",
    "plt.subplot(2,1,1)\n",
    "plt.plot(t, position, '-b')\n",
    "plt.xlabel('t (s)')\n",
    "plt.ylabel('position (cycles)')\n",
    "plt.grid()\n",
    "\n",
    "plt.subplot(2,1,2)\n",
    "plt.plot(t, velocity, 'b-', t, vmax*reference/100, 'r-')\n",
    "plt.xlabel('t (s)')\n",
    "plt.ylabel('velocity (Hz)')\n",
    "plt.grid()"
   ]
  },
  {
   "cell_type": "markdown",
   "metadata": {},
   "source": [
    "## Closed-loop on Velocity\n",
    "### Proportional-Integral Control"
   ]
  },
  {
   "cell_type": "code",
   "execution_count": 84,
   "metadata": {
    "collapsed": false
   },
   "outputs": [
    {
     "name": "stdout",
     "output_type": "stream",
     "text": [
      "> Controller with 6 signal(s), 1 source(s), 1 sink(s), and 3 filter(s)\n",
      "> period = 0.01s\n",
      "> signals\n",
      "  1. encoder1\n",
      "  2. velocity1\n",
      "  3. reference1\n",
      "  4. clock\n",
      "  5. pot1\n",
      "  6. motor1\n",
      "> sources\n",
      "  1. clock[disabled] >> clock\n",
      "> filters\n",
      "  1. motor1 >> model1[enabled] >> encoder1\n",
      "  2. clock, encoder1 >> differentiator1[enabled] >> velocity1\n",
      "  3. velocity1, reference1 >> controller1[enabled] >> motor1\n",
      "> sinks\n",
      "  1. clock, encoder1, reference1, motor1, velocity1 >> logger[enabled]\n",
      "\n"
     ]
    }
   ],
   "source": [
    "Kp = 1/k\n",
    "Ki = a/k\n",
    "controller.remove_filter('controller1') \n",
    "pi = TransferFunction(model = PID(Kp = Kp, Ki = Ki, period = controller.period))\n",
    "controller.add_filter('controller1', \n",
    "                      Feedback(gamma = vmax, block = pi),\n",
    "                      ['velocity1', 'reference1'], \n",
    "                      ['motor1'])\n",
    "print(controller.info('all'))"
   ]
  },
  {
   "cell_type": "code",
   "execution_count": 85,
   "metadata": {
    "collapsed": true
   },
   "outputs": [],
   "source": [
    "with controller:\n",
    "    controller.set_source('clock', reset = True)\n",
    "    controller.set_sink('logger',reset=True)\n",
    "    controller.set_signal('reference1', 0)\n",
    "    time.sleep(1)\n",
    "    controller.set_signal('reference1', 100)\n",
    "    time.sleep(3)\n",
    "    controller.set_signal('reference1', 50)\n",
    "    time.sleep(3)\n",
    "    controller.set_signal('reference1', -50)\n",
    "    time.sleep(3)\n",
    "log = controller.read_sink('logger')"
   ]
  },
  {
   "cell_type": "code",
   "execution_count": 86,
   "metadata": {
    "collapsed": false
   },
   "outputs": [
    {
     "data": {
      "image/png": "[encoded data removed]",
      "text/plain": [
       "<matplotlib.figure.Figure at 0x106a84e80>"
      ]
     },
     "metadata": {},
     "output_type": "display_data"
    }
   ],
   "source": [
    "t = log[:,0]\n",
    "position = log[:,1]\n",
    "reference = log[:,2]\n",
    "velocity = log[:,4]\n",
    "\n",
    "plt.subplot(2,1,1)\n",
    "plt.plot(t, position, '-b')\n",
    "plt.xlabel('t (s)')\n",
    "plt.ylabel('position (cycles)')\n",
    "plt.grid()\n",
    "\n",
    "plt.subplot(2,1,2)\n",
    "plt.plot(t, velocity, 'b-', t, vmax*reference/100, 'r-')\n",
    "plt.xlabel('t (s)')\n",
    "plt.ylabel('velocity (Hz)')\n",
    "plt.grid()"
   ]
  },
  {
   "cell_type": "markdown",
   "metadata": {},
   "source": [
    "### Closed-loop on Velocity (PI Control) Asynchronous"
   ]
  },
  {
   "cell_type": "code",
   "execution_count": 87,
   "metadata": {
    "collapsed": true
   },
   "outputs": [],
   "source": [
    "controller.set_sink('logger',reset=True)"
   ]
  },
  {
   "cell_type": "code",
   "execution_count": 88,
   "metadata": {
    "collapsed": false
   },
   "outputs": [],
   "source": [
    "controller.start()\n",
    "controller.set_signal('reference1', 100)"
   ]
  },
  {
   "cell_type": "code",
   "execution_count": 89,
   "metadata": {
    "collapsed": false
   },
   "outputs": [
    {
     "data": {
      "image/png": "[encoded data removed]",
      "text/plain": [
       "<matplotlib.figure.Figure at 0x107444e80>"
      ]
     },
     "metadata": {},
     "output_type": "display_data"
    }
   ],
   "source": [
    "time.sleep(1)\n",
    "log = controller.read_sink('logger')\n",
    "\n",
    "t = log[:,0]\n",
    "reference = log[:,2]\n",
    "velocity = log[:,4]\n",
    "\n",
    "plt.plot(t, velocity)\n",
    "plt.xlabel('t (s)')\n",
    "plt.ylabel('velocity (counts/s)')\n",
    "plt.grid()"
   ]
  },
  {
   "cell_type": "code",
   "execution_count": 90,
   "metadata": {
    "collapsed": false
   },
   "outputs": [],
   "source": [
    "controller.stop()"
   ]
  },
  {
   "cell_type": "code",
   "execution_count": null,
   "metadata": {
    "collapsed": true
   },
   "outputs": [],
   "source": []
  }
 ],
 "metadata": {
  "kernelspec": {
   "display_name": "Python 3",
   "language": "python",
   "name": "python3"
  },
  "language_info": {
   "codemirror_mode": {
    "name": "ipython",
    "version": 3
   },
   "file_extension": ".py",
   "mimetype": "text/x-python",
   "name": "python",
   "nbconvert_exporter": "python",
   "pygments_lexer": "ipython3",
   "version": "3.4.3"
  }
 },
 "nbformat": 4,
 "nbformat_minor": 0
}
