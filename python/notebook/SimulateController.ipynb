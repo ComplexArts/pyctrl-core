{
 "metadata": {
  "name": "",
  "signature": "sha256:087d818151d02dcd3edd962ba93c5bf7110b6589926ab49d9634a1a64c91e24b"
 },
 "nbformat": 3,
 "nbformat_minor": 0,
 "worksheets": [
  {
   "cells": [
    {
     "cell_type": "heading",
     "level": 1,
     "metadata": {},
     "source": [
      "Simulated Controller"
     ]
    },
    {
     "cell_type": "code",
     "collapsed": false,
     "input": [
      "import sys\n",
      "sys.path.append('..')"
     ],
     "language": "python",
     "metadata": {},
     "outputs": [],
     "prompt_number": 1
    },
    {
     "cell_type": "code",
     "collapsed": false,
     "input": [
      "%matplotlib inline  \n",
      "import matplotlib\n",
      "import numpy as np\n",
      "import matplotlib.pyplot as plt\n",
      "import math\n",
      "import time"
     ],
     "language": "python",
     "metadata": {},
     "outputs": [],
     "prompt_number": 2
    },
    {
     "cell_type": "code",
     "collapsed": false,
     "input": [
      "from ctrl.sim import Controller\n",
      "from ctrl.algo import Proportional, PID, VelocityController"
     ],
     "language": "python",
     "metadata": {},
     "outputs": [],
     "prompt_number": 3
    },
    {
     "cell_type": "markdown",
     "metadata": {},
     "source": [
      "Continuous-time model is\n",
      "$$\n",
      "    \\begin{align*}\n",
      "    \\dot{\\omega} &= b u - a \\omega, \\\\ \\dot{x} &= \\omega\n",
      "    \\end{align*}\n",
      "$$\n",
      "\n",
      "Units are:\n",
      "* $x$ (cycles)\n",
      "* $\\omega$ (cycles/s), i.e. Hz\n",
      "\n",
      "Motor characteristics:\n",
      "\n",
      "* $48$ counts/turn\n",
      "* $9.68:1$ gear ratio\n",
      "* Encoder is at the high speed end\n",
      "* Time constant $\\tau = 1/17$s\n",
      "* $11$ Hz @ $100\\%$ duty\n",
      "\n",
      "Model parameters:\n",
      "\n",
      "* $a = 1/\\tau = 17$ (1/s)\n",
      "* $k = b/a = 11$ Hz / $100\\%$ duty = $0.11$ Hertz/$\\%$duty"
     ]
    },
    {
     "cell_type": "code",
     "collapsed": false,
     "input": [
      "a = 17   # 1/s\n",
      "k = 0.11 # counts/s duty"
     ],
     "language": "python",
     "metadata": {},
     "outputs": [],
     "prompt_number": 4
    },
    {
     "cell_type": "markdown",
     "metadata": {},
     "source": [
      "Continuous time-model:\n",
      "$$\n",
      "\\begin{align*}\n",
      "    G(s) &= k \\frac{1}{s} \\frac{a}{s + a}, &\n",
      "    k &= \\frac{b}{a}\n",
      "\\end{align*}\n",
      "$$\n",
      "\n",
      "Zero-order hold equivalent ($T_s < \\pi/a$):\n",
      "$$\n",
      "\\begin{align*}\n",
      "    G(z) &= k \\frac{T_s}{2} \\frac{z + 1}{z - 1} \\frac{1 - c}{z - c} = \n",
      "        \\frac{k T_s}{2} \\frac{(1 - c) \\, z + (1 - c)}{z^2 - (1 + c) \\, z + c}, &\n",
      "    c &= e^{-a T_s}\n",
      "\\end{align*}\n",
      "$$"
     ]
    },
    {
     "cell_type": "code",
     "collapsed": false,
     "input": [
      "Ts = 0.01\n",
      "c = math.exp(-a * Ts)\n",
      "\n",
      "controller = Controller(Ts)\n",
      "controller.set_model1( np.array((0, (k*Ts)*(1-c)/2, (k*Ts)*(1-c)/2)), \n",
      "                           np.array((1, -(1 + c), c)),\n",
      "                           np.array((0,0)) )\n",
      "print('num = {}'.format(controller.model1.num))\n",
      "print('den = {}'.format(controller.model1.den))"
     ],
     "language": "python",
     "metadata": {},
     "outputs": [
      {
       "output_type": "stream",
       "stream": "stdout",
       "text": [
        "num = [  0.00000000e+00   8.59843509e-05   8.59843509e-05]\n",
        "den = [ 1.         -1.84366482  0.84366482]\n"
       ]
      }
     ],
     "prompt_number": 5
    },
    {
     "cell_type": "heading",
     "level": 2,
     "metadata": {},
     "source": [
      "Open Loop"
     ]
    },
    {
     "cell_type": "code",
     "collapsed": false,
     "input": [
      "controller.calibrate()\n",
      "controller.set_delta_mode(0)"
     ],
     "language": "python",
     "metadata": {},
     "outputs": [
      {
       "output_type": "stream",
       "stream": "stdout",
       "text": [
        "> Calibrating period...\n",
        "  ITER   TARGET   ACTUAL ACCURACY\n",
        "     1  0.01000  0.01134   13.43%"
       ]
      },
      {
       "output_type": "stream",
       "stream": "stdout",
       "text": [
        "\n",
        "     2  0.01000  0.00996    0.37%"
       ]
      },
      {
       "output_type": "stream",
       "stream": "stdout",
       "text": [
        "\n",
        "< ...done.\n"
       ]
      }
     ],
     "prompt_number": 6
    },
    {
     "cell_type": "raw",
     "metadata": {},
     "source": [
      "controller.set_controller1(None)"
     ]
    },
    {
     "cell_type": "code",
     "collapsed": false,
     "input": [
      "controller.reset_logger()\n",
      "controller.set_echo(0)\n",
      "with controller:\n",
      "    controller.set_reference1(0)\n",
      "    time.sleep(1)\n",
      "    controller.set_reference1(100)\n",
      "    time.sleep(1)\n",
      "    controller.set_reference1(-100)\n",
      "    time.sleep(1)\n",
      "    controller.set_reference1(0)\n",
      "    time.sleep(1)"
     ],
     "language": "python",
     "metadata": {},
     "outputs": [],
     "prompt_number": 7
    },
    {
     "cell_type": "code",
     "collapsed": false,
     "input": [
      "log = controller.get_log()\n",
      "t = log[:,0]\n",
      "position = log[:,1]\n",
      "plt.plot(t, position)\n",
      "plt.xlabel('t (s)')\n",
      "plt.ylabel('position (cycles)')\n",
      "plt.grid()"
     ],
     "language": "python",
     "metadata": {},
     "outputs": [
      {
       "metadata": {},
       "output_type": "display_data",
       "png": "[encoded data removed]",
       "text": [
        "<matplotlib.figure.Figure at 0x10677b390>"
       ]
      }
     ],
     "prompt_number": 8
    },
    {
     "cell_type": "heading",
     "level": 2,
     "metadata": {},
     "source": [
      "Closed-loop on Position (Proportional Control)"
     ]
    },
    {
     "cell_type": "code",
     "collapsed": false,
     "input": [
      "reference = 2\n",
      "controller.set_controller1(Proportional(9 / k, reference / 100))"
     ],
     "language": "python",
     "metadata": {},
     "outputs": [],
     "prompt_number": 9
    },
    {
     "cell_type": "code",
     "collapsed": false,
     "input": [
      "controller.reset_logger()\n",
      "with controller:\n",
      "    time.sleep(1)\n",
      "    controller.set_reference1(100)\n",
      "    time.sleep(3)\n",
      "    controller.set_reference1(50)\n",
      "    time.sleep(3)\n",
      "    controller.set_reference1(-50)\n",
      "    time.sleep(3)"
     ],
     "language": "python",
     "metadata": {},
     "outputs": [],
     "prompt_number": 10
    },
    {
     "cell_type": "code",
     "collapsed": false,
     "input": [
      "log = controller.get_log()\n",
      "t = log[:,0]\n",
      "position = log[:,1]\n",
      "plt.plot(t, position, \n",
      "         (t[0],t[-1]), (reference, reference), \n",
      "         (t[0],t[-1]), (.5*reference, .5*reference),\n",
      "         (t[0],t[-1]), (-.5*reference, -.5*reference))\n",
      "plt.xlabel('t (s)')\n",
      "plt.ylabel('position (cycles)')\n",
      "plt.grid()"
     ],
     "language": "python",
     "metadata": {},
     "outputs": [
      {
       "metadata": {},
       "output_type": "display_data",
       "png": "[encoded data removed]",
       "text": [
        "<matplotlib.figure.Figure at 0x108949dd0>"
       ]
      }
     ],
     "prompt_number": 11
    },
    {
     "cell_type": "heading",
     "level": 2,
     "metadata": {},
     "source": [
      "Closed-loop on Velocity (Proportional Control)"
     ]
    },
    {
     "cell_type": "code",
     "collapsed": false,
     "input": [
      "reference = 10\n",
      "print('reference = {0:4.2f}'.format(reference))\n",
      "controller.set_controller1(VelocityController(Proportional(5 / k, reference / 100)))"
     ],
     "language": "python",
     "metadata": {},
     "outputs": [
      {
       "output_type": "stream",
       "stream": "stdout",
       "text": [
        "reference = 10.00\n"
       ]
      }
     ],
     "prompt_number": 38
    },
    {
     "cell_type": "code",
     "collapsed": false,
     "input": [
      "controller.reset_logger()\n",
      "with controller:\n",
      "    controller.set_reference1(0)\n",
      "    time.sleep(1)\n",
      "    controller.set_reference1(100)\n",
      "    time.sleep(3)\n",
      "    controller.set_reference1(50)\n",
      "    time.sleep(3)\n",
      "    controller.set_reference1(-50)\n",
      "    time.sleep(3)"
     ],
     "language": "python",
     "metadata": {},
     "outputs": [],
     "prompt_number": 39
    },
    {
     "cell_type": "code",
     "collapsed": false,
     "input": [
      "log = controller.get_log()\n",
      "t = log[:,0]\n",
      "velocity = np.zeros(t.shape, float)\n",
      "velocity[1:] = (log[1:,1]-log[:-1,1])/controller.period\n",
      "t = log[:,0]\n",
      "plt.plot(t, velocity,\n",
      "         (t[0],t[-1]), (reference, reference), \n",
      "         (t[0],t[-1]), (.5*reference, .5*reference),\n",
      "         (t[0],t[-1]), (-.5*reference, -.5*reference))\n",
      "plt.xlabel('t (s)')\n",
      "plt.ylabel('velocity (Hz)')\n",
      "plt.grid()"
     ],
     "language": "python",
     "metadata": {},
     "outputs": [
      {
       "metadata": {},
       "output_type": "display_data",
       "png": "[encoded data removed]",
       "text": [
        "<matplotlib.figure.Figure at 0x108950d90>"
       ]
      }
     ],
     "prompt_number": 40
    },
    {
     "cell_type": "heading",
     "level": 3,
     "metadata": {},
     "source": [
      "Closed-loop on Velocity (PI Control)"
     ]
    },
    {
     "cell_type": "code",
     "collapsed": false,
     "input": [
      "controller.set_controller1(VelocityController(PID(1 / k, a / k, 0, reference / 100)))"
     ],
     "language": "python",
     "metadata": {},
     "outputs": [],
     "prompt_number": 44
    },
    {
     "cell_type": "code",
     "collapsed": false,
     "input": [
      "controller.reset_logger()\n",
      "with controller:\n",
      "    controller.set_reference1(0)\n",
      "    time.sleep(1)\n",
      "    controller.set_reference1(100)\n",
      "    time.sleep(3)\n",
      "    controller.set_reference1(50)\n",
      "    time.sleep(3)\n",
      "    controller.set_reference1(-50)\n",
      "    time.sleep(3)"
     ],
     "language": "python",
     "metadata": {},
     "outputs": [],
     "prompt_number": 45
    },
    {
     "cell_type": "code",
     "collapsed": false,
     "input": [
      "log = controller.get_log()\n",
      "t = log[:,0]\n",
      "velocity = np.zeros(t.shape, float)\n",
      "velocity[1:] = (log[1:,1]-log[:-1,1])/controller.period\n",
      "t = log[:,0]\n",
      "plt.plot(t, velocity,\n",
      "         (t[0],t[-1]), (reference, reference), \n",
      "         (t[0],t[-1]), (.5*reference, .5*reference),\n",
      "         (t[0],t[-1]), (-.5*reference, -.5*reference))\n",
      "plt.xlabel('t (s)')\n",
      "plt.ylabel('velocity (Hz)')\n",
      "plt.grid()"
     ],
     "language": "python",
     "metadata": {},
     "outputs": [
      {
       "metadata": {},
       "output_type": "display_data",
       "png": "[encoded data removed]",
       "text": [
        "<matplotlib.figure.Figure at 0x1088dd910>"
       ]
      }
     ],
     "prompt_number": 46
    },
    {
     "cell_type": "heading",
     "level": 3,
     "metadata": {},
     "source": [
      "Closed-loop on Velocity (PI Control)\n",
      "Asynchronous"
     ]
    },
    {
     "cell_type": "code",
     "collapsed": false,
     "input": [
      "controller.reset_logger()\n",
      "controller.start()\n",
      "controller.set_reference1(100)"
     ],
     "language": "python",
     "metadata": {},
     "outputs": [],
     "prompt_number": 19
    },
    {
     "cell_type": "code",
     "collapsed": false,
     "input": [
      "log = controller.get_log()\n",
      "t = log[:,0]\n",
      "velocity = np.zeros(t.shape, float)\n",
      "velocity[1:] = (log[1:,1]-log[:-1,1])/controller.period\n",
      "t = log[:,0]\n",
      "plt.plot(t, velocity,\n",
      "         (t[0],t[-1]), (reference, reference), \n",
      "         (t[0],t[-1]), (.5*reference, .5*reference),\n",
      "         (t[0],t[-1]), (-.5*reference, -.5*reference))\n",
      "plt.xlabel('t (s)')\n",
      "plt.ylabel('velocity (counts/s)')\n",
      "plt.grid()"
     ],
     "language": "python",
     "metadata": {},
     "outputs": [
      {
       "metadata": {},
       "output_type": "display_data",
       "png": "[encoded data removed]",
       "text": [
        "<matplotlib.figure.Figure at 0x108930210>"
       ]
      }
     ],
     "prompt_number": 26
    },
    {
     "cell_type": "code",
     "collapsed": false,
     "input": [
      "controller.stop()"
     ],
     "language": "python",
     "metadata": {},
     "outputs": [],
     "prompt_number": 24
    },
    {
     "cell_type": "code",
     "collapsed": false,
     "input": [],
     "language": "python",
     "metadata": {},
     "outputs": []
    }
   ],
   "metadata": {}
  }
 ]
}