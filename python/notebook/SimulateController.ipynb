{
 "cells": [
  {
   "cell_type": "markdown",
   "metadata": {},
   "source": [
    "# Simulated Controller"
   ]
  },
  {
   "cell_type": "code",
   "execution_count": 1,
   "metadata": {
    "collapsed": false
   },
   "outputs": [],
   "source": [
    "import sys\n",
    "sys.path.append('..')"
   ]
  },
  {
   "cell_type": "code",
   "execution_count": 2,
   "metadata": {
    "collapsed": false
   },
   "outputs": [],
   "source": [
    "%matplotlib inline  \n",
    "import matplotlib\n",
    "import numpy as np\n",
    "import matplotlib.pyplot as plt\n",
    "import math\n",
    "import time"
   ]
  },
  {
   "cell_type": "code",
   "execution_count": 3,
   "metadata": {
    "collapsed": false
   },
   "outputs": [],
   "source": [
    "from ctrl.sim import Controller\n",
    "from ctrl.algo import Proportional, PID, VelocityController"
   ]
  },
  {
   "cell_type": "markdown",
   "metadata": {},
   "source": [
    "Continuous-time model is\n",
    "$$\n",
    "    \\begin{align*}\n",
    "    \\dot{\\omega} &= b u - a \\omega, \\\\ \\dot{x} &= \\omega\n",
    "    \\end{align*}\n",
    "$$\n",
    "\n",
    "Units are:\n",
    "* $x$ (cycles)\n",
    "* $\\omega$ (cycles/s), i.e. Hz\n",
    "\n",
    "Motor characteristics:\n",
    "\n",
    "* $48$ counts/turn\n",
    "* $9.68:1$ gear ratio\n",
    "* Encoder is at the high speed end\n",
    "* Time constant $\\tau = 1/17$s\n",
    "* $11$ Hz @ $100\\%$ duty\n",
    "\n",
    "Model parameters:\n",
    "\n",
    "* $a = 1/\\tau = 17$ (1/s)\n",
    "* $k = b/a = 11$ Hz / $100\\%$ duty = $0.11$ Hertz/$\\%$duty"
   ]
  },
  {
   "cell_type": "code",
   "execution_count": 4,
   "metadata": {
    "collapsed": false
   },
   "outputs": [],
   "source": [
    "a = 17   # 1/s\n",
    "k = 0.11 # counts/s duty"
   ]
  },
  {
   "cell_type": "markdown",
   "metadata": {},
   "source": [
    "Continuous time-model:\n",
    "$$\n",
    "\\begin{align*}\n",
    "    G(s) &= k \\frac{1}{s} \\frac{a}{s + a}, &\n",
    "    k &= \\frac{b}{a}\n",
    "\\end{align*}\n",
    "$$\n",
    "\n",
    "Zero-order hold equivalent ($T_s < \\pi/a$):\n",
    "$$\n",
    "\\begin{align*}\n",
    "    G(z) &= k \\frac{T_s}{2} \\frac{z + 1}{z - 1} \\frac{1 - c}{z - c} = \n",
    "        \\frac{k T_s}{2} \\frac{(1 - c) \\, z + (1 - c)}{z^2 - (1 + c) \\, z + c}, &\n",
    "    c &= e^{-a T_s}\n",
    "\\end{align*}\n",
    "$$"
   ]
  },
  {
   "cell_type": "code",
   "execution_count": 5,
   "metadata": {
    "collapsed": false
   },
   "outputs": [
    {
     "name": "stdout",
     "output_type": "stream",
     "text": [
      "num = [  0.00000000e+00   8.59843509e-05   8.59843509e-05]\n",
      "den = [ 1.         -1.84366482  0.84366482]\n"
     ]
    }
   ],
   "source": [
    "Ts = 0.01\n",
    "c = math.exp(-a * Ts)\n",
    "\n",
    "controller = Controller(Ts)\n",
    "controller.set_model1( np.array((0, (k*Ts)*(1-c)/2, (k*Ts)*(1-c)/2)), \n",
    "                           np.array((1, -(1 + c), c)),\n",
    "                           np.array((0,0)) )\n",
    "print('num = {}'.format(controller.model1.num))\n",
    "print('den = {}'.format(controller.model1.den))"
   ]
  },
  {
   "cell_type": "markdown",
   "metadata": {},
   "source": [
    "## Open Loop"
   ]
  },
  {
   "cell_type": "code",
   "execution_count": 6,
   "metadata": {
    "collapsed": false
   },
   "outputs": [
    {
     "name": "stdout",
     "output_type": "stream",
     "text": [
      "> Calibrating period...\n",
      "  ITER   TARGET   ACTUAL ACCURACY\n",
      "     1  0.01000  0.01129   12.91%\n",
      "     2  0.01000  0.01006    0.64%\n",
      "< ...done.\n"
     ]
    }
   ],
   "source": [
    "controller.calibrate()\n",
    "controller.set_delta_mode(0)"
   ]
  },
  {
   "cell_type": "raw",
   "metadata": {},
   "source": [
    "controller.set_controller1(OpenLoop())"
   ]
  },
  {
   "cell_type": "code",
   "execution_count": 8,
   "metadata": {
    "collapsed": false
   },
   "outputs": [],
   "source": [
    "controller.reset_logger()\n",
    "controller.set_echo(0)\n",
    "with controller:\n",
    "    controller.set_reference1(0)\n",
    "    time.sleep(1)\n",
    "    controller.set_reference1(100)\n",
    "    time.sleep(1)\n",
    "    controller.set_reference1(-100)\n",
    "    time.sleep(1)\n",
    "    controller.set_reference1(0)\n",
    "    time.sleep(1)"
   ]
  },
  {
   "cell_type": "code",
   "execution_count": 9,
   "metadata": {
    "collapsed": false
   },
   "outputs": [
    {
     "data": {
      "image/png": "[encoded data removed]",
      "text/plain": [
       "<matplotlib.figure.Figure at 0x10677c2b0>"
      ]
     },
     "metadata": {},
     "output_type": "display_data"
    }
   ],
   "source": [
    "log = controller.get_log()\n",
    "t = log[:,0]\n",
    "position = log[:,1]\n",
    "plt.plot(t, position)\n",
    "plt.xlabel('t (s)')\n",
    "plt.ylabel('position (cycles)')\n",
    "plt.grid()"
   ]
  },
  {
   "cell_type": "markdown",
   "metadata": {},
   "source": [
    "## Closed-loop on Position (Proportional Control)"
   ]
  },
  {
   "cell_type": "code",
   "execution_count": 10,
   "metadata": {
    "collapsed": false
   },
   "outputs": [],
   "source": [
    "reference = 2\n",
    "controller.set_controller1(Proportional(9 / k, reference / 100))"
   ]
  },
  {
   "cell_type": "code",
   "execution_count": 13,
   "metadata": {
    "collapsed": false
   },
   "outputs": [],
   "source": [
    "controller.reset_logger()\n",
    "with controller:\n",
    "    time.sleep(1)\n",
    "    controller.set_reference1(100)\n",
    "    time.sleep(3)\n",
    "    controller.set_reference1(50)\n",
    "    time.sleep(3)\n",
    "    controller.set_reference1(-50)\n",
    "    time.sleep(3)\n",
    "log = controller.get_log()"
   ]
  },
  {
   "cell_type": "code",
   "execution_count": 14,
   "metadata": {
    "collapsed": false
   },
   "outputs": [
    {
     "data": {
      "image/png": "[encoded data removed]",
      "text/plain": [
       "<matplotlib.figure.Figure at 0x10a915ac8>"
      ]
     },
     "metadata": {},
     "output_type": "display_data"
    }
   ],
   "source": [
    "t = log[:,0]\n",
    "position = log[:,1]\n",
    "plt.plot(t, position, \n",
    "         (t[0],t[-1]), (reference, reference), \n",
    "         (t[0],t[-1]), (.5*reference, .5*reference),\n",
    "         (t[0],t[-1]), (-.5*reference, -.5*reference))\n",
    "plt.xlabel('t (s)')\n",
    "plt.ylabel('position (cycles)')\n",
    "plt.grid()"
   ]
  },
  {
   "cell_type": "markdown",
   "metadata": {},
   "source": [
    "## Closed-loop on Velocity (Proportional Control)"
   ]
  },
  {
   "cell_type": "code",
   "execution_count": 15,
   "metadata": {
    "collapsed": false
   },
   "outputs": [
    {
     "name": "stdout",
     "output_type": "stream",
     "text": [
      "reference = 10.00\n"
     ]
    }
   ],
   "source": [
    "reference = 10\n",
    "print('reference = {0:4.2f}'.format(reference))\n",
    "controller.set_controller1(VelocityController(Proportional(5 / k, reference / 100)))"
   ]
  },
  {
   "cell_type": "code",
   "execution_count": 16,
   "metadata": {
    "collapsed": false
   },
   "outputs": [],
   "source": [
    "controller.reset_logger()\n",
    "with controller:\n",
    "    controller.set_reference1(0)\n",
    "    time.sleep(1)\n",
    "    controller.set_reference1(100)\n",
    "    time.sleep(3)\n",
    "    controller.set_reference1(50)\n",
    "    time.sleep(3)\n",
    "    controller.set_reference1(-50)\n",
    "    time.sleep(3)\n",
    "log = controller.get_log()"
   ]
  },
  {
   "cell_type": "code",
   "execution_count": 17,
   "metadata": {
    "collapsed": false
   },
   "outputs": [
    {
     "data": {
      "image/png": "[encoded data removed]",
      "text/plain": [
       "<matplotlib.figure.Figure at 0x10aa96630>"
      ]
     },
     "metadata": {},
     "output_type": "display_data"
    }
   ],
   "source": [
    "t = log[:,0]\n",
    "velocity = np.zeros(t.shape, float)\n",
    "velocity[1:] = (log[1:,1]-log[:-1,1])/controller.period\n",
    "t = log[:,0]\n",
    "plt.plot(t, velocity,\n",
    "         (t[0],t[-1]), (reference, reference), \n",
    "         (t[0],t[-1]), (.5*reference, .5*reference),\n",
    "         (t[0],t[-1]), (-.5*reference, -.5*reference))\n",
    "plt.xlabel('t (s)')\n",
    "plt.ylabel('velocity (Hz)')\n",
    "plt.grid()"
   ]
  },
  {
   "cell_type": "markdown",
   "metadata": {},
   "source": [
    "### Closed-loop on Velocity (PI Control)"
   ]
  },
  {
   "cell_type": "code",
   "execution_count": 18,
   "metadata": {
    "collapsed": false
   },
   "outputs": [],
   "source": [
    "controller.set_controller1(VelocityController(PID(1 / k, a / k, 0, reference / 100)))"
   ]
  },
  {
   "cell_type": "code",
   "execution_count": 19,
   "metadata": {
    "collapsed": false
   },
   "outputs": [],
   "source": [
    "controller.reset_logger()\n",
    "with controller:\n",
    "    controller.set_reference1(0)\n",
    "    time.sleep(1)\n",
    "    controller.set_reference1(100)\n",
    "    time.sleep(3)\n",
    "    controller.set_reference1(50)\n",
    "    time.sleep(3)\n",
    "    controller.set_reference1(-50)\n",
    "    time.sleep(3)\n",
    "log = controller.get_log()"
   ]
  },
  {
   "cell_type": "code",
   "execution_count": 20,
   "metadata": {
    "collapsed": false
   },
   "outputs": [
    {
     "data": {
      "image/png": "[encoded data removed]",
      "text/plain": [
       "<matplotlib.figure.Figure at 0x10aaec438>"
      ]
     },
     "metadata": {},
     "output_type": "display_data"
    }
   ],
   "source": [
    "t = log[:,0]\n",
    "velocity = np.zeros(t.shape, float)\n",
    "velocity[1:] = (log[1:,1]-log[:-1,1])/controller.period\n",
    "t = log[:,0]\n",
    "plt.plot(t, velocity,\n",
    "         (t[0],t[-1]), (reference, reference), \n",
    "         (t[0],t[-1]), (.5*reference, .5*reference),\n",
    "         (t[0],t[-1]), (-.5*reference, -.5*reference))\n",
    "plt.xlabel('t (s)')\n",
    "plt.ylabel('velocity (Hz)')\n",
    "plt.grid()"
   ]
  },
  {
   "cell_type": "markdown",
   "metadata": {},
   "source": [
    "### Closed-loop on Velocity (PI Control) Asynchronous"
   ]
  },
  {
   "cell_type": "code",
   "execution_count": 19,
   "metadata": {
    "collapsed": false
   },
   "outputs": [],
   "source": [
    "controller.reset_logger()\n",
    "controller.start()\n",
    "controller.set_reference1(100)"
   ]
  },
  {
   "cell_type": "code",
   "execution_count": 26,
   "metadata": {
    "collapsed": false
   },
   "outputs": [
    {
     "data": {
      "image/png": "[encoded data removed]",
      "text/plain": [
       "<matplotlib.figure.Figure at 0x108930210>"
      ]
     },
     "metadata": {},
     "output_type": "display_data"
    }
   ],
   "source": [
    "log = controller.get_log()\n",
    "t = log[:,0]\n",
    "velocity = np.zeros(t.shape, float)\n",
    "velocity[1:] = (log[1:,1]-log[:-1,1])/controller.period\n",
    "t = log[:,0]\n",
    "plt.plot(t, velocity,\n",
    "         (t[0],t[-1]), (reference, reference), \n",
    "         (t[0],t[-1]), (.5*reference, .5*reference),\n",
    "         (t[0],t[-1]), (-.5*reference, -.5*reference))\n",
    "plt.xlabel('t (s)')\n",
    "plt.ylabel('velocity (counts/s)')\n",
    "plt.grid()"
   ]
  },
  {
   "cell_type": "code",
   "execution_count": 24,
   "metadata": {
    "collapsed": false
   },
   "outputs": [],
   "source": [
    "controller.stop()"
   ]
  },
  {
   "cell_type": "code",
   "execution_count": null,
   "metadata": {
    "collapsed": false
   },
   "outputs": [],
   "source": []
  }
 ],
 "metadata": {
  "kernelspec": {
   "display_name": "Python 3",
   "language": "python",
   "name": "python3"
  },
  "language_info": {
   "codemirror_mode": {
    "name": "ipython",
    "version": 3
   },
   "file_extension": ".py",
   "mimetype": "text/x-python",
   "name": "python",
   "nbconvert_exporter": "python",
   "pygments_lexer": "ipython3",
   "version": "3.4.3"
  }
 },
 "nbformat": 4,
 "nbformat_minor": 0
}
