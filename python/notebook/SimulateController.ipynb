{
 "metadata": {
  "name": "",
  "signature": "sha256:cdd758a876efc1ca8e4e8599636ee447501e72655ece4a41ec35b3e9b9f87ee2"
 },
 "nbformat": 3,
 "nbformat_minor": 0,
 "worksheets": [
  {
   "cells": [
    {
     "cell_type": "heading",
     "level": 1,
     "metadata": {},
     "source": [
      "Simulated Controller"
     ]
    },
    {
     "cell_type": "code",
     "collapsed": false,
     "input": [
      "%matplotlib inline  \n",
      "import matplotlib\n",
      "import numpy as np\n",
      "import matplotlib.pyplot as plt\n",
      "import math\n",
      "import time"
     ],
     "language": "python",
     "metadata": {},
     "outputs": [],
     "prompt_number": 1
    },
    {
     "cell_type": "code",
     "collapsed": false,
     "input": [
      "import sys\n",
      "sys.path.append('../python')\n",
      "from SimulateController import SimulateController\n",
      "from ControlAlgorithm import ProportionalController, PIDController, VelocityController"
     ],
     "language": "python",
     "metadata": {},
     "outputs": [],
     "prompt_number": 2
    },
    {
     "cell_type": "markdown",
     "metadata": {},
     "source": [
      "Continuous-time model is\n",
      "$$\n",
      "    \\begin{align*}\n",
      "    \\dot{\\omega} &= b u - a \\omega, \\\\ \\dot{x} &= \\omega\n",
      "    \\end{align*}\n",
      "$$\n",
      "\n",
      "Units are:\n",
      "* $x$ (cycles)\n",
      "* $\\omega$ (cycles/s or Hz)\n",
      "\n",
      "Motor characteristics:\n",
      "\n",
      "* $48$ counts/turn\n",
      "* $9.68:1$ gear ratio\n",
      "* Encoder is at the high speed end\n",
      "* Time constant $\\tau = 1/17$s\n",
      "* $9800$ RMP @ $100\\%$ duty\n",
      "\n",
      "Conversions:\n",
      "\n",
      "* $1$ RPM = $1/60$ Hz\n",
      "\n",
      "Model parameters:\n",
      "\n",
      "* $a = 1/\\tau = 17$ (1/s)\n",
      "* $k = b/a = 9800$ RPM / $100$ duty = $98 /60$ Hertz/duty"
     ]
    },
    {
     "cell_type": "code",
     "collapsed": false,
     "input": [
      "a = 10    # 1/s\n",
      "k = 98/60 # counts/s duty"
     ],
     "language": "python",
     "metadata": {},
     "outputs": [],
     "prompt_number": 3
    },
    {
     "cell_type": "markdown",
     "metadata": {},
     "source": [
      "Continuous time-model:\n",
      "$$\n",
      "\\begin{align*}\n",
      "    G(s) &= k \\frac{1}{s} \\frac{a}{s + a}, &\n",
      "    k &= \\frac{b}{a}\n",
      "\\end{align*}\n",
      "$$\n",
      "\n",
      "Zero-order hold equivalent ($T_s < \\pi/a$):\n",
      "$$\n",
      "\\begin{align*}\n",
      "    G(z) &= k \\frac{T_s}{2} \\frac{z + 1}{z - 1} \\frac{1 - c}{z - c} = \n",
      "        \\frac{k T_s}{2} \\frac{(1 - c) \\, z + (1 - c)}{z^2 - (1 + c) \\, z + c}, &\n",
      "    c &= e^{-a T_s}\n",
      "\\end{align*}\n",
      "$$"
     ]
    },
    {
     "cell_type": "code",
     "collapsed": false,
     "input": [
      "Ts = 0.01\n",
      "c = math.exp(-a * Ts)\n",
      "\n",
      "controller = SimulateController(Ts)\n",
      "controller.set_model1( np.array((0, (k*Ts)*(1-c)/2, (k*Ts)*(1-c)/2)), \n",
      "                           np.array((1, -(1 + c), c)),\n",
      "                           np.array((0,0)) )\n",
      "print('num = {}'.format(controller.model1.num))\n",
      "print('den = {}'.format(controller.model1.den))"
     ],
     "language": "python",
     "metadata": {},
     "outputs": [
      {
       "output_type": "stream",
       "stream": "stdout",
       "text": [
        "num = [ 0.          0.00077716  0.00077716]\n",
        "den = [ 1.         -1.90483742  0.90483742]\n"
       ]
      }
     ],
     "prompt_number": 4
    },
    {
     "cell_type": "heading",
     "level": 2,
     "metadata": {},
     "source": [
      "Open Loop"
     ]
    },
    {
     "cell_type": "code",
     "collapsed": false,
     "input": [
      "controller.calibrate()\n",
      "controller.set_delta_mode(0)"
     ],
     "language": "python",
     "metadata": {},
     "outputs": [
      {
       "output_type": "stream",
       "stream": "stdout",
       "text": [
        "> Calibrating period...\n",
        "  ITER  TARGET  ACTUAL\n",
        "     1  0.0100  0.0101"
       ]
      },
      {
       "output_type": "stream",
       "stream": "stdout",
       "text": [
        "\n",
        "     2  0.0100  0.0099"
       ]
      },
      {
       "output_type": "stream",
       "stream": "stdout",
       "text": [
        "\n",
        "     3  0.0100  0.0101"
       ]
      },
      {
       "output_type": "stream",
       "stream": "stdout",
       "text": [
        "\n"
       ]
      }
     ],
     "prompt_number": 11
    },
    {
     "cell_type": "raw",
     "metadata": {},
     "source": [
      "controller.set_controller1(None)"
     ]
    },
    {
     "cell_type": "code",
     "collapsed": false,
     "input": [
      "controller.set_echo(0)\n",
      "controller.reset_logger()\n",
      "controller.start()\n",
      "controller.set_reference1(0)\n",
      "time.sleep(1)\n",
      "controller.set_reference1(100)\n",
      "time.sleep(1)\n",
      "controller.set_reference1(-100)\n",
      "time.sleep(1)\n",
      "controller.set_reference1(0)\n",
      "time.sleep(1)\n",
      "controller.stop()"
     ],
     "language": "python",
     "metadata": {},
     "outputs": [],
     "prompt_number": 17
    },
    {
     "cell_type": "code",
     "collapsed": false,
     "input": [
      "log = controller.get_log()\n",
      "t = log[:,0]\n",
      "position = log[:,1]\n",
      "plt.plot(t, position)\n",
      "plt.xlabel('t (s)')\n",
      "plt.ylabel('position (cycles)')\n",
      "plt.grid()"
     ],
     "language": "python",
     "metadata": {},
     "outputs": [
      {
       "metadata": {},
       "output_type": "display_data",
       "png": "[encoded data removed]",
       "text": [
        "<matplotlib.figure.Figure at 0x104ae52d0>"
       ]
      }
     ],
     "prompt_number": 18
    },
    {
     "cell_type": "heading",
     "level": 2,
     "metadata": {},
     "source": [
      "Closed-loop on Position (Proportional Control)"
     ]
    },
    {
     "cell_type": "code",
     "collapsed": false,
     "input": [
      "reference = 2\n",
      "controller.set_controller1(ProportionalController(9 / k, reference / 100))"
     ],
     "language": "python",
     "metadata": {},
     "outputs": [],
     "prompt_number": 19
    },
    {
     "cell_type": "code",
     "collapsed": false,
     "input": [
      "controller.reset_logger()\n",
      "controller.start()\n",
      "time.sleep(1)\n",
      "controller.set_reference1(100)\n",
      "time.sleep(3)\n",
      "controller.set_reference1(50)\n",
      "time.sleep(3)\n",
      "controller.set_reference1(-50)\n",
      "time.sleep(3)\n",
      "controller.stop()"
     ],
     "language": "python",
     "metadata": {},
     "outputs": [],
     "prompt_number": 20
    },
    {
     "cell_type": "code",
     "collapsed": false,
     "input": [
      "log = controller.get_log()\n",
      "t = log[:,0]\n",
      "position = log[:,1]\n",
      "plt.plot(t, position, \n",
      "         (t[0],t[-1]), (reference, reference), \n",
      "         (t[0],t[-1]), (.5*reference, .5*reference),\n",
      "         (t[0],t[-1]), (-.5*reference, -.5*reference))\n",
      "plt.xlabel('t (s)')\n",
      "plt.ylabel('position (cycles)')\n",
      "plt.grid()"
     ],
     "language": "python",
     "metadata": {},
     "outputs": [
      {
       "metadata": {},
       "output_type": "display_data",
       "png": "[encoded data removed]",
       "text": [
        "<matplotlib.figure.Figure at 0x104ae50d0>"
       ]
      }
     ],
     "prompt_number": 21
    },
    {
     "cell_type": "heading",
     "level": 2,
     "metadata": {},
     "source": [
      "Closed-loop on Velocity (Proportional Control)"
     ]
    },
    {
     "cell_type": "code",
     "collapsed": false,
     "input": [
      "reference = 5000 / 60\n",
      "print('reference = {0:4.2f}'.format(reference))\n",
      "controller.set_controller1(VelocityController(ProportionalController(5 / k, reference / 100)))"
     ],
     "language": "python",
     "metadata": {},
     "outputs": [
      {
       "output_type": "stream",
       "stream": "stdout",
       "text": [
        "reference = 83.33\n"
       ]
      }
     ],
     "prompt_number": 22
    },
    {
     "cell_type": "code",
     "collapsed": false,
     "input": [
      "controller.reset_logger()\n",
      "controller.start()\n",
      "controller.set_reference1(0)\n",
      "time.sleep(1)\n",
      "controller.set_reference1(100)\n",
      "time.sleep(3)\n",
      "controller.set_reference1(50)\n",
      "time.sleep(3)\n",
      "controller.set_reference1(-50)\n",
      "time.sleep(3)\n",
      "controller.stop()"
     ],
     "language": "python",
     "metadata": {},
     "outputs": [],
     "prompt_number": 23
    },
    {
     "cell_type": "code",
     "collapsed": false,
     "input": [
      "log = controller.get_log()\n",
      "t = log[:,0]\n",
      "velocity = np.zeros(t.shape, float)\n",
      "velocity[1:] = (log[1:,1]-log[:-1,1])/controller.period\n",
      "t = log[:,0]\n",
      "plt.plot(t, velocity,\n",
      "         (t[0],t[-1]), (reference, reference), \n",
      "         (t[0],t[-1]), (.5*reference, .5*reference),\n",
      "         (t[0],t[-1]), (-.5*reference, -.5*reference))\n",
      "plt.xlabel('t (s)')\n",
      "plt.ylabel('velocity (Hz)')\n",
      "plt.grid()"
     ],
     "language": "python",
     "metadata": {},
     "outputs": [
      {
       "metadata": {},
       "output_type": "display_data",
       "png": "[encoded data removed]",
       "text": [
        "<matplotlib.figure.Figure at 0x10897d250>"
       ]
      }
     ],
     "prompt_number": 24
    },
    {
     "cell_type": "heading",
     "level": 3,
     "metadata": {},
     "source": [
      "Closed-loop on Velocity (PI Control)"
     ]
    },
    {
     "cell_type": "code",
     "collapsed": false,
     "input": [
      "controller.set_controller1(VelocityController(PIDController(1 / k, a / k, 0, reference / 100)))"
     ],
     "language": "python",
     "metadata": {},
     "outputs": [],
     "prompt_number": 25
    },
    {
     "cell_type": "code",
     "collapsed": false,
     "input": [
      "controller.reset_logger()\n",
      "controller.start()\n",
      "controller.set_reference1(0)\n",
      "time.sleep(1)\n",
      "controller.set_reference1(100)\n",
      "time.sleep(3)\n",
      "controller.set_reference1(50)\n",
      "time.sleep(3)\n",
      "controller.set_reference1(-50)\n",
      "time.sleep(3)\n",
      "controller.stop()"
     ],
     "language": "python",
     "metadata": {},
     "outputs": [],
     "prompt_number": 26
    },
    {
     "cell_type": "code",
     "collapsed": false,
     "input": [
      "log = controller.get_log()\n",
      "t = log[:,0]\n",
      "velocity = np.zeros(t.shape, float)\n",
      "velocity[1:] = (log[1:,1]-log[:-1,1])/controller.period\n",
      "t = log[:,0]\n",
      "plt.plot(t, velocity,\n",
      "         (t[0],t[-1]), (reference, reference), \n",
      "         (t[0],t[-1]), (.5*reference, .5*reference),\n",
      "         (t[0],t[-1]), (-.5*reference, -.5*reference))\n",
      "plt.xlabel('t (s)')\n",
      "plt.ylabel('velocity (Hz)')\n",
      "plt.grid()"
     ],
     "language": "python",
     "metadata": {},
     "outputs": [
      {
       "metadata": {},
       "output_type": "display_data",
       "png": "[encoded data removed]",
       "text": [
        "<matplotlib.figure.Figure at 0x108949210>"
       ]
      }
     ],
     "prompt_number": 27
    },
    {
     "cell_type": "heading",
     "level": 3,
     "metadata": {},
     "source": [
      "Closed-loop on Velocity (PI Control)\n",
      "Asynchronous"
     ]
    },
    {
     "cell_type": "code",
     "collapsed": false,
     "input": [
      "controller.reset_logger()\n",
      "controller.start()\n",
      "controller.set_reference1(100)"
     ],
     "language": "python",
     "metadata": {},
     "outputs": [],
     "prompt_number": 28
    },
    {
     "cell_type": "code",
     "collapsed": false,
     "input": [
      "log = controller.get_log()\n",
      "t = log[:,0]\n",
      "velocity = np.zeros(t.shape, float)\n",
      "velocity[1:] = (log[1:,1]-log[:-1,1])/controller.period\n",
      "t = log[:,0]\n",
      "plt.plot(t, velocity,\n",
      "         (t[0],t[-1]), (reference, reference), \n",
      "         (t[0],t[-1]), (.5*reference, .5*reference),\n",
      "         (t[0],t[-1]), (-.5*reference, -.5*reference))\n",
      "plt.xlabel('t (s)')\n",
      "plt.ylabel('velocity (counts/s)')\n",
      "plt.grid()"
     ],
     "language": "python",
     "metadata": {},
     "outputs": [
      {
       "metadata": {},
       "output_type": "display_data",
       "png": "[encoded data removed]",
       "text": [
        "<matplotlib.figure.Figure at 0x1067e0e90>"
       ]
      }
     ],
     "prompt_number": 29
    },
    {
     "cell_type": "code",
     "collapsed": false,
     "input": [
      "controller.stop()"
     ],
     "language": "python",
     "metadata": {},
     "outputs": [],
     "prompt_number": 30
    },
    {
     "cell_type": "code",
     "collapsed": false,
     "input": [],
     "language": "python",
     "metadata": {},
     "outputs": []
    }
   ],
   "metadata": {}
  }
 ]
}