{
 "cells": [
  {
   "cell_type": "markdown",
   "metadata": {},
   "source": [
    "# Simulated Controller"
   ]
  },
  {
   "cell_type": "code",
   "execution_count": 1,
   "metadata": {
    "collapsed": false
   },
   "outputs": [],
   "source": [
    "import sys\n",
    "sys.path.append('..')\n",
    "\n",
    "%matplotlib inline\n",
    "import matplotlib\n",
    "import numpy as np\n",
    "import matplotlib.pyplot as plt\n",
    "import math\n",
    "import time"
   ]
  },
  {
   "cell_type": "code",
   "execution_count": 2,
   "metadata": {
    "collapsed": false
   },
   "outputs": [],
   "source": [
    "from ctrl.sim import Controller\n",
    "from ctrl.block import Gain, Feedback, Differentiator\n",
    "from ctrl.lti import SISOLTIBlock, PID\n",
    "from ctrl.logger import Logger"
   ]
  },
  {
   "cell_type": "markdown",
   "metadata": {},
   "source": [
    "## Open Loop"
   ]
  },
  {
   "cell_type": "code",
   "execution_count": 3,
   "metadata": {
    "collapsed": false
   },
   "outputs": [],
   "source": [
    "a = 17   # 1/s\n",
    "k = 0.11 # counts/s duty\n",
    "Ts = 0.01\n",
    "controller = Controller(period = Ts)"
   ]
  },
  {
   "cell_type": "code",
   "execution_count": 4,
   "metadata": {
    "collapsed": false
   },
   "outputs": [],
   "source": [
    "controller.add_sink('logger', Logger(), \n",
    "                    ['clock','encoder1'])"
   ]
  },
  {
   "cell_type": "code",
   "execution_count": 5,
   "metadata": {
    "collapsed": false
   },
   "outputs": [
    {
     "name": "stdout",
     "output_type": "stream",
     "text": [
      "> Controller with 3 signal(s), 1 source(s), 1 sink(s), and 1 filter(s)\n",
      "> period = 0.01s\n",
      "> signals\n",
      "  1. motor1\n",
      "  2. clock\n",
      "  3. encoder1\n",
      "> sources\n",
      "  1. clock[enabled] >> clock\n",
      "> filters\n",
      "  1. motor1 >> model1[enabled] >> encoder1\n",
      "> sinks\n",
      "  1. clock, encoder1 >> logger[enabled]\n",
      "\n"
     ]
    }
   ],
   "source": [
    "print(controller.info('all'))"
   ]
  },
  {
   "cell_type": "code",
   "execution_count": 6,
   "metadata": {
    "collapsed": false
   },
   "outputs": [],
   "source": [
    "controller.set_sink('logger','reset')\n",
    "with controller:\n",
    "    time.sleep(1)\n",
    "    controller.set_signal('motor1', 100)\n",
    "    time.sleep(1)\n",
    "    controller.set_signal('motor1', -100)\n",
    "    time.sleep(1)\n",
    "    controller.set_signal('motor1', 0)\n",
    "    time.sleep(1)"
   ]
  },
  {
   "cell_type": "code",
   "execution_count": 7,
   "metadata": {
    "collapsed": true
   },
   "outputs": [],
   "source": [
    "log = controller.read_sink('logger')"
   ]
  },
  {
   "cell_type": "code",
   "execution_count": 8,
   "metadata": {
    "collapsed": false
   },
   "outputs": [
    {
     "data": {
      "image/png": "[encoded data removed]",
      "text/plain": [
       "<matplotlib.figure.Figure at 0x1066959e8>"
      ]
     },
     "metadata": {},
     "output_type": "display_data"
    }
   ],
   "source": [
    "t = log[:,0]\n",
    "position = log[:,1]\n",
    "plt.plot(t, position)\n",
    "plt.xlabel('t (s)')\n",
    "plt.ylabel('position (cycles)')\n",
    "plt.grid()"
   ]
  },
  {
   "cell_type": "markdown",
   "metadata": {},
   "source": [
    "## Closed-loop on Position\n",
    "### Proportional Control"
   ]
  },
  {
   "cell_type": "code",
   "execution_count": 9,
   "metadata": {
    "collapsed": false
   },
   "outputs": [],
   "source": [
    "controller.add_signal('reference1')"
   ]
  },
  {
   "cell_type": "code",
   "execution_count": 10,
   "metadata": {
    "collapsed": false
   },
   "outputs": [],
   "source": [
    "pmax = 2\n",
    "Kp = 10/k\n",
    "\n",
    "controller.add_filter('controller1', \n",
    "                      Feedback(gamma = pmax, block = Gain(gain = Kp)),\n",
    "                      ['encoder1', 'reference1'], \n",
    "                      ['motor1'])"
   ]
  },
  {
   "cell_type": "code",
   "execution_count": 11,
   "metadata": {
    "collapsed": false
   },
   "outputs": [
    {
     "name": "stdout",
     "output_type": "stream",
     "text": [
      "> Controller with 4 signal(s), 1 source(s), 1 sink(s), and 2 filter(s)\n",
      "> period = 0.01s\n",
      "> signals\n",
      "  1. reference1\n",
      "  2. motor1\n",
      "  3. clock\n",
      "  4. encoder1\n",
      "> sources\n",
      "  1. clock[disabled] >> clock\n",
      "> filters\n",
      "  1. motor1 >> model1[enabled] >> encoder1\n",
      "  2. encoder1, reference1 >> controller1[enabled] >> motor1\n",
      "> sinks\n",
      "  1. clock, encoder1, reference1, motor1 >> logger[enabled]\n",
      "\n"
     ]
    }
   ],
   "source": [
    "controller.set_sink('logger', 'inputs',\n",
    "                    ['clock', 'encoder1', 'reference1', 'motor1'])\n",
    "print(controller.info('all'))"
   ]
  },
  {
   "cell_type": "code",
   "execution_count": 12,
   "metadata": {
    "collapsed": true
   },
   "outputs": [],
   "source": [
    "controller.set_sink('logger','reset')\n",
    "with controller:\n",
    "    time.sleep(1)\n",
    "    controller.set_signal('reference1', 100)\n",
    "    time.sleep(3)\n",
    "    controller.set_signal('reference1', 50)\n",
    "    time.sleep(3)\n",
    "    controller.set_signal('reference1', -50)\n",
    "    time.sleep(3)\n",
    "log = controller.read_sink('logger')"
   ]
  },
  {
   "cell_type": "code",
   "execution_count": 13,
   "metadata": {
    "collapsed": false
   },
   "outputs": [
    {
     "data": {
      "image/png": "[encoded data removed]",
      "text/plain": [
       "<matplotlib.figure.Figure at 0x1066b8748>"
      ]
     },
     "metadata": {},
     "output_type": "display_data"
    }
   ],
   "source": [
    "t = log[:,0]\n",
    "position = log[:,1]\n",
    "reference = log[:,2]\n",
    "\n",
    "plt.plot(t, position, '-b', t, pmax*reference/100, 'r-')\n",
    "plt.xlabel('t (s)')\n",
    "plt.ylabel('position (cycles)')\n",
    "plt.grid()"
   ]
  },
  {
   "cell_type": "markdown",
   "metadata": {},
   "source": [
    "### Calculate velocity"
   ]
  },
  {
   "cell_type": "code",
   "execution_count": 14,
   "metadata": {
    "collapsed": true
   },
   "outputs": [],
   "source": [
    "controller.add_signal('velocity1')\n",
    "controller.add_filter('differentiator1', Differentiator(),\n",
    "                      ['clock', 'encoder1'], \n",
    "                      ['velocity1'])"
   ]
  },
  {
   "cell_type": "code",
   "execution_count": 15,
   "metadata": {
    "collapsed": false
   },
   "outputs": [
    {
     "name": "stdout",
     "output_type": "stream",
     "text": [
      "> Controller with 5 signal(s), 1 source(s), 1 sink(s), and 3 filter(s)\n",
      "> period = 0.01s\n",
      "> signals\n",
      "  1. velocity1\n",
      "  2. reference1\n",
      "  3. motor1\n",
      "  4. clock\n",
      "  5. encoder1\n",
      "> sources\n",
      "  1. clock[disabled] >> clock\n",
      "> filters\n",
      "  1. motor1 >> model1[enabled] >> encoder1\n",
      "  2. encoder1, reference1 >> controller1[enabled] >> motor1\n",
      "  3. clock, encoder1 >> differentiator1[enabled] >> velocity1\n",
      "> sinks\n",
      "  1. clock, encoder1, reference1, motor1, velocity1 >> logger[enabled]\n",
      "\n"
     ]
    }
   ],
   "source": [
    "controller.set_sink('logger', 'inputs',\n",
    "                    ['clock', 'encoder1', 'reference1', 'motor1', 'velocity1'])\n",
    "print(controller.info('all'))"
   ]
  },
  {
   "cell_type": "code",
   "execution_count": 16,
   "metadata": {
    "collapsed": true
   },
   "outputs": [],
   "source": [
    "controller.set_sink('logger','reset')\n",
    "with controller:\n",
    "    time.sleep(1)\n",
    "    controller.set_signal('reference1', 100)\n",
    "    time.sleep(3)\n",
    "    controller.set_signal('reference1', 50)\n",
    "    time.sleep(3)\n",
    "    controller.set_signal('reference1', -50)\n",
    "    time.sleep(3)\n",
    "log = controller.read_sink('logger')"
   ]
  },
  {
   "cell_type": "code",
   "execution_count": 17,
   "metadata": {
    "collapsed": false
   },
   "outputs": [
    {
     "data": {
      "image/png": "[encoded data removed]",
      "text/plain": [
       "<matplotlib.figure.Figure at 0x106695048>"
      ]
     },
     "metadata": {},
     "output_type": "display_data"
    }
   ],
   "source": [
    "t = log[:,0]\n",
    "position = log[:,1]\n",
    "reference = log[:,2]\n",
    "velocity = log[:,4]\n",
    "\n",
    "plt.subplot(2,1,1)\n",
    "plt.plot(t, position, '-b', t, pmax*reference/100, 'r-')\n",
    "plt.xlabel('t (s)')\n",
    "plt.ylabel('position (cycles)')\n",
    "plt.grid()\n",
    "\n",
    "plt.subplot(2,1,2)\n",
    "plt.plot(t, velocity, 'b-')\n",
    "plt.xlabel('t (s)')\n",
    "plt.ylabel('velocity (Hz)')\n",
    "plt.grid()"
   ]
  },
  {
   "cell_type": "markdown",
   "metadata": {},
   "source": [
    "## Closed-loop on Velocity\n",
    "### Proportional Control"
   ]
  },
  {
   "cell_type": "code",
   "execution_count": 18,
   "metadata": {
    "collapsed": true
   },
   "outputs": [],
   "source": [
    "vmax = 11\n",
    "Kp = 1/k\n",
    "controller.remove_filter('controller1') \n",
    "controller.add_filter('controller1', \n",
    "                      Feedback(gamma = vmax, block = Gain(gain = Kp)),\n",
    "                      ['velocity1', 'reference1'], \n",
    "                      ['motor1'])"
   ]
  },
  {
   "cell_type": "code",
   "execution_count": 19,
   "metadata": {
    "collapsed": false
   },
   "outputs": [
    {
     "name": "stdout",
     "output_type": "stream",
     "text": [
      "> Controller with 5 signal(s), 1 source(s), 1 sink(s), and 3 filter(s)\n",
      "> period = 0.01s\n",
      "> signals\n",
      "  1. velocity1\n",
      "  2. motor1\n",
      "  3. clock\n",
      "  4. reference1\n",
      "  5. encoder1\n",
      "> sources\n",
      "  1. clock[disabled] >> clock\n",
      "> filters\n",
      "  1. motor1 >> model1[enabled] >> encoder1\n",
      "  2. clock, encoder1 >> differentiator1[enabled] >> velocity1\n",
      "  3. velocity1, reference1 >> controller1[enabled] >> motor1\n",
      "> sinks\n",
      "  1. clock, encoder1, reference1, motor1, velocity1 >> logger[enabled]\n",
      "\n"
     ]
    }
   ],
   "source": [
    "print(controller.info('all'))"
   ]
  },
  {
   "cell_type": "code",
   "execution_count": 20,
   "metadata": {
    "collapsed": false
   },
   "outputs": [],
   "source": [
    "controller.set_sink('logger','reset')\n",
    "controller.set_signal('reference1', 0)\n",
    "with controller:\n",
    "    time.sleep(1)\n",
    "    controller.set_signal('reference1', 100)\n",
    "    time.sleep(3)\n",
    "    controller.set_signal('reference1', 50)\n",
    "    time.sleep(3)\n",
    "    controller.set_signal('reference1', -50)\n",
    "    time.sleep(3)\n",
    "log = controller.read_sink('logger')"
   ]
  },
  {
   "cell_type": "code",
   "execution_count": 21,
   "metadata": {
    "collapsed": false
   },
   "outputs": [
    {
     "data": {
      "image/png": "[encoded data removed]",
      "text/plain": [
       "<matplotlib.figure.Figure at 0x106bbb358>"
      ]
     },
     "metadata": {},
     "output_type": "display_data"
    }
   ],
   "source": [
    "t = log[:,0]\n",
    "position = log[:,1]\n",
    "reference = log[:,2]\n",
    "velocity = log[:,4]\n",
    "\n",
    "plt.subplot(2,1,1)\n",
    "plt.plot(t, position, '-b')\n",
    "plt.xlabel('t (s)')\n",
    "plt.ylabel('position (cycles)')\n",
    "plt.grid()\n",
    "\n",
    "plt.subplot(2,1,2)\n",
    "plt.plot(t, velocity, 'b-', t, vmax*reference/100, 'r-')\n",
    "plt.xlabel('t (s)')\n",
    "plt.ylabel('velocity (Hz)')\n",
    "plt.grid()"
   ]
  },
  {
   "cell_type": "markdown",
   "metadata": {},
   "source": [
    "## Closed-loop on Velocity\n",
    "### Proportional-Integral Control"
   ]
  },
  {
   "cell_type": "code",
   "execution_count": 22,
   "metadata": {
    "collapsed": false
   },
   "outputs": [
    {
     "name": "stdout",
     "output_type": "stream",
     "text": [
      "> Controller with 5 signal(s), 1 source(s), 1 sink(s), and 3 filter(s)\n",
      "> period = 0.01s\n",
      "> signals\n",
      "  1. velocity1\n",
      "  2. motor1\n",
      "  3. clock\n",
      "  4. reference1\n",
      "  5. encoder1\n",
      "> sources\n",
      "  1. clock[disabled] >> clock\n",
      "> filters\n",
      "  1. motor1 >> model1[enabled] >> encoder1\n",
      "  2. clock, encoder1 >> differentiator1[enabled] >> velocity1\n",
      "  3. velocity1, reference1 >> controller1[enabled] >> motor1\n",
      "> sinks\n",
      "  1. clock, encoder1, reference1, motor1, velocity1 >> logger[enabled]\n",
      "\n"
     ]
    }
   ],
   "source": [
    "Kp = 1/k\n",
    "Ki = a/k\n",
    "controller.remove_filter('controller1') \n",
    "pi = SISOLTIBlock(model = PID(Kp = Kp, Ki = Ki, period = controller.period))\n",
    "controller.add_filter('controller1', \n",
    "                      Feedback(gamma = vmax, block = pi),\n",
    "                      ['velocity1', 'reference1'], \n",
    "                      ['motor1'])\n",
    "print(controller.info('all'))"
   ]
  },
  {
   "cell_type": "code",
   "execution_count": 23,
   "metadata": {
    "collapsed": true
   },
   "outputs": [],
   "source": [
    "controller.set_reference1(0)\n",
    "with controller:\n",
    "    time.sleep(1)\n",
    "    controller.set_reference1(100)\n",
    "    time.sleep(3)\n",
    "    controller.set_reference1(50)\n",
    "    time.sleep(3)\n",
    "    controller.set_reference1(-50)\n",
    "    time.sleep(3)\n",
    "log = controller.read_sink('logger')"
   ]
  },
  {
   "cell_type": "code",
   "execution_count": 24,
   "metadata": {
    "collapsed": false
   },
   "outputs": [
    {
     "data": {
      "image/png": "[encoded data removed]",
      "text/plain": [
       "<matplotlib.figure.Figure at 0x106da0710>"
      ]
     },
     "metadata": {},
     "output_type": "display_data"
    }
   ],
   "source": [
    "t = log[:,0]\n",
    "position = log[:,1]\n",
    "reference = log[:,2]\n",
    "velocity = log[:,4]\n",
    "\n",
    "plt.subplot(2,1,1)\n",
    "plt.plot(t, position, '-b')\n",
    "plt.xlabel('t (s)')\n",
    "plt.ylabel('position (cycles)')\n",
    "plt.grid()\n",
    "\n",
    "plt.subplot(2,1,2)\n",
    "plt.plot(t, velocity, 'b-', t, vmax*reference/100, 'r-')\n",
    "plt.xlabel('t (s)')\n",
    "plt.ylabel('velocity (Hz)')\n",
    "plt.grid()"
   ]
  },
  {
   "cell_type": "markdown",
   "metadata": {},
   "source": [
    "### Closed-loop on Velocity (PI Control) Asynchronous"
   ]
  },
  {
   "cell_type": "code",
   "execution_count": 27,
   "metadata": {
    "collapsed": false
   },
   "outputs": [],
   "source": [
    "controller.set_sink('logger','reset')\n",
    "controller.start()\n",
    "controller.set_signal('reference1', 100)"
   ]
  },
  {
   "cell_type": "code",
   "execution_count": 28,
   "metadata": {
    "collapsed": false
   },
   "outputs": [
    {
     "data": {
      "image/png": "[encoded data removed]",
      "text/plain": [
       "<matplotlib.figure.Figure at 0x106d05cf8>"
      ]
     },
     "metadata": {},
     "output_type": "display_data"
    }
   ],
   "source": [
    "time.sleep(1)\n",
    "log = controller.read_sink('logger')\n",
    "\n",
    "t = log[:,0]\n",
    "reference = log[:,2]\n",
    "velocity = log[:,4]\n",
    "\n",
    "plt.plot(t, velocity,\n",
    "         (t[0],t[-1]), (reference, reference), \n",
    "         (t[0],t[-1]), (.5*reference, .5*reference),\n",
    "         (t[0],t[-1]), (-.5*reference, -.5*reference))\n",
    "plt.xlabel('t (s)')\n",
    "plt.ylabel('velocity (counts/s)')\n",
    "plt.grid()"
   ]
  },
  {
   "cell_type": "code",
   "execution_count": 30,
   "metadata": {
    "collapsed": false
   },
   "outputs": [],
   "source": [
    "controller.stop()"
   ]
  },
  {
   "cell_type": "code",
   "execution_count": null,
   "metadata": {
    "collapsed": true
   },
   "outputs": [],
   "source": []
  }
 ],
 "metadata": {
  "kernelspec": {
   "display_name": "Python 3",
   "language": "python",
   "name": "python3"
  },
  "language_info": {
   "codemirror_mode": {
    "name": "ipython",
    "version": 3
   },
   "file_extension": ".py",
   "mimetype": "text/x-python",
   "name": "python",
   "nbconvert_exporter": "python",
   "pygments_lexer": "ipython3",
   "version": "3.4.3"
  }
 },
 "nbformat": 4,
 "nbformat_minor": 0
}
