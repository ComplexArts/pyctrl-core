{
 "cells": [
  {
   "cell_type": "markdown",
   "metadata": {},
   "source": [
    "# MIP Control"
   ]
  },
  {
   "cell_type": "code",
   "execution_count": 1,
   "metadata": {
    "collapsed": false
   },
   "outputs": [],
   "source": [
    "import sys\n",
    "sys.path.append('..')"
   ]
  },
  {
   "cell_type": "code",
   "execution_count": 2,
   "metadata": {
    "collapsed": false
   },
   "outputs": [],
   "source": [
    "%matplotlib inline  \n",
    "import numpy as np\n",
    "import matplotlib.pyplot as plt\n",
    "import math\n",
    "import time"
   ]
  },
  {
   "cell_type": "code",
   "execution_count": 46,
   "metadata": {
    "collapsed": false
   },
   "outputs": [],
   "source": [
    "from ctrl.system.tf import PID\n",
    "from ctrl.block.linear import SISO, Gain, Feedback\n",
    "from ctrl.block.logger import Logger"
   ]
  },
  {
   "cell_type": "markdown",
   "metadata": {},
   "source": [
    "Substitute `HOST` and `PORT` with the IP address and port of your controller:"
   ]
  },
  {
   "cell_type": "code",
   "execution_count": 4,
   "metadata": {
    "collapsed": false
   },
   "outputs": [],
   "source": [
    "from ctrl.client import Controller\n",
    "#HOST, PORT = \"localhost\", 9999\n",
    "HOST, PORT = \"192.168.10.101\", 9999\n",
    "mip = Controller(host = HOST, port = PORT)"
   ]
  },
  {
   "cell_type": "markdown",
   "metadata": {},
   "source": [
    "## Probe the controller"
   ]
  },
  {
   "cell_type": "code",
   "execution_count": 5,
   "metadata": {
    "collapsed": false
   },
   "outputs": [
    {
     "name": "stdout",
     "output_type": "stream",
     "text": [
      "> Controller with 6 device(s), 7 signal(s), 4 source(s), 2 sink(s), and 0 filter(s)\n",
      "> devices\n",
      "  1. encoder1[source]\n",
      "  2. encoder2[source]\n",
      "  3. clock[source]\n",
      "  4. motor2[sink]\n",
      "  5. motor1[sink]\n",
      "  6. imu[source]\n",
      "> signals\n",
      "  1. clock\n",
      "  2. encoder1\n",
      "  3. encoder2\n",
      "  4. imu\n",
      "  5. is_running\n",
      "  6. motor1\n",
      "  7. motor2\n",
      "> sources\n",
      "  1. clock[enabled] >> clock\n",
      "  2. encoder1[enabled] >> encoder1\n",
      "  3. encoder2[enabled] >> encoder2\n",
      "  4. imu[enabled] >> imu\n",
      "> filters\n",
      "> sinks\n",
      "  1. motor1 >> motor1[enabled]\n",
      "  2. motor2 >> motor2[enabled]\n",
      "\n"
     ]
    }
   ],
   "source": [
    "print(mip.info('all'))"
   ]
  },
  {
   "cell_type": "markdown",
   "metadata": {},
   "source": [
    "## Attach a logger"
   ]
  },
  {
   "cell_type": "code",
   "execution_count": 6,
   "metadata": {
    "collapsed": false
   },
   "outputs": [
    {
     "name": "stdout",
     "output_type": "stream",
     "text": [
      "> sinks\n",
      "  1. motor1 >> motor1[enabled]\n",
      "  2. motor2 >> motor2[enabled]\n",
      "  3. clock, encoder1, encoder2, imu >> logger[enabled]\n",
      "\n"
     ]
    }
   ],
   "source": [
    "mip.add_sink('logger', Logger(), ['clock', 'encoder1','encoder2','imu'])\n",
    "print(mip.info('sinks'))"
   ]
  },
  {
   "cell_type": "markdown",
   "metadata": {},
   "source": [
    "## Run the motors and read the encoders"
   ]
  },
  {
   "cell_type": "code",
   "execution_count": 7,
   "metadata": {
    "collapsed": true
   },
   "outputs": [],
   "source": [
    "mip.set_source('encoder1',reset=True)\n",
    "mip.set_source('encoder2',reset=True)\n",
    "mip.set_sink('logger',reset=True)\n",
    "with mip:\n",
    "    mip.set_signal('motor1',100)\n",
    "    mip.set_signal('motor2',100)\n",
    "    time.sleep(2)"
   ]
  },
  {
   "cell_type": "code",
   "execution_count": 8,
   "metadata": {
    "collapsed": true
   },
   "outputs": [],
   "source": [
    "log = mip.read_sink('logger')\n",
    "\n",
    "clock = log[:,0]\n",
    "encoder1 = log[:,1]\n",
    "encoder2 = log[:,2]\n",
    "imu = log[:,3]"
   ]
  },
  {
   "cell_type": "code",
   "execution_count": 9,
   "metadata": {
    "collapsed": false
   },
   "outputs": [
    {
     "data": {
      "image/png": "[encoded data removed]",
      "text/plain": [
       "<matplotlib.figure.Figure at 0x7fccc45f2908>"
      ]
     },
     "metadata": {},
     "output_type": "display_data"
    }
   ],
   "source": [
    "plt.plot(clock, encoder1, \\\n",
    "         clock,encoder2)\n",
    "# the next lines will make the plot look nicer\n",
    "plt.xlabel('t (s)')\n",
    "plt.ylabel('position (cycles)')\n",
    "plt.grid()"
   ]
  },
  {
   "cell_type": "code",
   "execution_count": 10,
   "metadata": {
    "collapsed": false
   },
   "outputs": [
    {
     "data": {
      "image/png": "[encoded data removed]",
      "text/plain": [
       "<matplotlib.figure.Figure at 0x7fcca3e1c048>"
      ]
     },
     "metadata": {},
     "output_type": "display_data"
    }
   ],
   "source": [
    "plt.plot(clock, 180*imu/math.pi)\n",
    "# the next lines will make the plot look nicer\n",
    "plt.xlabel('t (s)')\n",
    "plt.ylabel('theta (deg)')\n",
    "plt.grid()"
   ]
  },
  {
   "cell_type": "markdown",
   "metadata": {},
   "source": [
    "## Position Control"
   ]
  },
  {
   "cell_type": "code",
   "execution_count": 11,
   "metadata": {
    "collapsed": true
   },
   "outputs": [],
   "source": [
    "mip.add_signal('reference1')"
   ]
  },
  {
   "cell_type": "code",
   "execution_count": 12,
   "metadata": {
    "collapsed": false
   },
   "outputs": [
    {
     "name": "stdout",
     "output_type": "stream",
     "text": [
      "> sinks\n",
      "  1. motor1 >> motor1[disabled]\n",
      "  2. motor2 >> motor2[disabled]\n",
      "  3. clock, encoder1, reference1, motor1 >> logger[enabled]\n",
      "\n"
     ]
    }
   ],
   "source": [
    "mip.add_sink('logger', Logger(), ['clock', 'encoder1','reference1','motor1'])\n",
    "print(mip.info('sinks'))"
   ]
  },
  {
   "cell_type": "code",
   "execution_count": 13,
   "metadata": {
    "collapsed": true
   },
   "outputs": [],
   "source": [
    "Kp = 100\n",
    "mip.add_filter('controller', \n",
    "               Feedback(block = Gain(gain = Kp)),\n",
    "               ['encoder1', 'reference1'], \n",
    "               ['motor1'])"
   ]
  },
  {
   "cell_type": "code",
   "execution_count": 14,
   "metadata": {
    "collapsed": false
   },
   "outputs": [
    {
     "name": "stdout",
     "output_type": "stream",
     "text": [
      "> Controller with 6 device(s), 8 signal(s), 4 source(s), 3 sink(s), and 1 filter(s)\n",
      "> devices\n",
      "  1. encoder1[source]\n",
      "  2. encoder2[source]\n",
      "  3. clock[source]\n",
      "  4. motor2[sink]\n",
      "  5. motor1[sink]\n",
      "  6. imu[source]\n",
      "> signals\n",
      "  1. clock\n",
      "  2. encoder1\n",
      "  3. encoder2\n",
      "  4. imu\n",
      "  5. is_running\n",
      "  6. motor1\n",
      "  7. motor2\n",
      "  8. reference1\n",
      "> sources\n",
      "  1. clock[enabled] >> clock\n",
      "  2. encoder1[enabled] >> encoder1\n",
      "  3. encoder2[enabled] >> encoder2\n",
      "  4. imu[disabled] >> imu\n",
      "> filters\n",
      "  1. encoder1, reference1 >> controller[enabled] >> motor1\n",
      "> sinks\n",
      "  1. motor1 >> motor1[disabled]\n",
      "  2. motor2 >> motor2[disabled]\n",
      "  3. clock, encoder1, reference1, motor1 >> logger[enabled]\n",
      "\n"
     ]
    }
   ],
   "source": [
    "print(mip.info('all'))"
   ]
  },
  {
   "cell_type": "code",
   "execution_count": 15,
   "metadata": {
    "collapsed": true
   },
   "outputs": [],
   "source": [
    "mip.set_source('encoder1',reset=True)\n",
    "mip.set_sink('logger',reset=True)\n",
    "with mip:\n",
    "    mip.set_signal('motor2',0)\n",
    "    mip.set_signal('reference1',1)\n",
    "    time.sleep(2)"
   ]
  },
  {
   "cell_type": "code",
   "execution_count": 16,
   "metadata": {
    "collapsed": true
   },
   "outputs": [],
   "source": [
    "log = mip.read_sink('logger')\n",
    "\n",
    "clock = log[:,0]\n",
    "encoder1 = log[:,1]\n",
    "reference1 = log[:,2]\n",
    "motor1 = log[:,3]"
   ]
  },
  {
   "cell_type": "code",
   "execution_count": 17,
   "metadata": {
    "collapsed": false
   },
   "outputs": [
    {
     "data": {
      "image/png": "[encoded data removed]",
      "text/plain": [
       "<matplotlib.figure.Figure at 0x7fcca3db2400>"
      ]
     },
     "metadata": {},
     "output_type": "display_data"
    }
   ],
   "source": [
    "plt.plot(clock, encoder1, \\\n",
    "         clock, reference1)\n",
    "# the next lines will make the plot look nicer\n",
    "plt.xlabel('t (s)')\n",
    "plt.ylabel('position (cycles)')\n",
    "plt.grid()"
   ]
  },
  {
   "cell_type": "code",
   "execution_count": 18,
   "metadata": {
    "collapsed": false
   },
   "outputs": [
    {
     "data": {
      "image/png": "[encoded data removed]",
      "text/plain": [
       "<matplotlib.figure.Figure at 0x7fcca3c46b00>"
      ]
     },
     "metadata": {},
     "output_type": "display_data"
    }
   ],
   "source": [
    "plt.plot(clock, motor1)\n",
    "# the next lines will make the plot look nicer\n",
    "plt.xlabel('t (s)')\n",
    "plt.ylabel('control (%)')\n",
    "plt.grid()"
   ]
  },
  {
   "cell_type": "markdown",
   "metadata": {},
   "source": [
    "# Proportional Angle Control"
   ]
  },
  {
   "cell_type": "code",
   "execution_count": 20,
   "metadata": {
    "collapsed": false
   },
   "outputs": [
    {
     "ename": "ValueError",
     "evalue": "list.remove(x): x not in list",
     "output_type": "error",
     "traceback": [
      "\u001b[1;31m---------------------------------------------------------------------------\u001b[0m",
      "\u001b[1;31mValueError\u001b[0m                                Traceback (most recent call last)",
      "\u001b[1;32m<ipython-input-20-09b749928436>\u001b[0m in \u001b[0;36m<module>\u001b[1;34m()\u001b[0m\n\u001b[1;32m----> 1\u001b[1;33m \u001b[0mmip\u001b[0m\u001b[1;33m.\u001b[0m\u001b[0mremove_filter\u001b[0m\u001b[1;33m(\u001b[0m\u001b[1;34m'controller'\u001b[0m\u001b[1;33m)\u001b[0m\u001b[1;33m\u001b[0m\u001b[0m\n\u001b[0m",
      "\u001b[1;32m/home/mauricio/beaglebone/python/ctrl/client.py\u001b[0m in \u001b[0;36mremove_filter\u001b[1;34m(self, label)\u001b[0m\n\u001b[0;32m    213\u001b[0m \u001b[1;33m\u001b[0m\u001b[0m\n\u001b[0;32m    214\u001b[0m     \u001b[1;32mdef\u001b[0m \u001b[0mremove_filter\u001b[0m\u001b[1;33m(\u001b[0m\u001b[0mself\u001b[0m\u001b[1;33m,\u001b[0m \u001b[0mlabel\u001b[0m\u001b[1;33m)\u001b[0m\u001b[1;33m:\u001b[0m\u001b[1;33m\u001b[0m\u001b[0m\n\u001b[1;32m--> 215\u001b[1;33m         \u001b[1;32mreturn\u001b[0m \u001b[0mself\u001b[0m\u001b[1;33m.\u001b[0m\u001b[0msend\u001b[0m\u001b[1;33m(\u001b[0m\u001b[1;34m'V'\u001b[0m\u001b[1;33m,\u001b[0m \u001b[1;34m'S'\u001b[0m\u001b[1;33m,\u001b[0m \u001b[0mlabel\u001b[0m\u001b[1;33m)\u001b[0m\u001b[1;33m\u001b[0m\u001b[0m\n\u001b[0m\u001b[0;32m    216\u001b[0m \u001b[1;33m\u001b[0m\u001b[0m\n\u001b[0;32m    217\u001b[0m     \u001b[1;32mdef\u001b[0m \u001b[0mlist_filters\u001b[0m\u001b[1;33m(\u001b[0m\u001b[0mself\u001b[0m\u001b[1;33m)\u001b[0m\u001b[1;33m:\u001b[0m\u001b[1;33m\u001b[0m\u001b[0m\n",
      "\u001b[1;32m/home/mauricio/beaglebone/python/ctrl/client.py\u001b[0m in \u001b[0;36msend\u001b[1;34m(self, command, *vargs)\u001b[0m\n\u001b[0;32m    121\u001b[0m         \u001b[1;31m# If error, raise exception\u001b[0m\u001b[1;33m\u001b[0m\u001b[1;33m\u001b[0m\u001b[0m\n\u001b[0;32m    122\u001b[0m         \u001b[1;32mif\u001b[0m \u001b[0mtype\u001b[0m \u001b[1;33m==\u001b[0m \u001b[1;34m'E'\u001b[0m\u001b[1;33m:\u001b[0m\u001b[1;33m\u001b[0m\u001b[0m\n\u001b[1;32m--> 123\u001b[1;33m             \u001b[1;32mraise\u001b[0m \u001b[0mvalue\u001b[0m\u001b[1;33m\u001b[0m\u001b[0m\n\u001b[0m\u001b[0;32m    124\u001b[0m \u001b[1;33m\u001b[0m\u001b[0m\n\u001b[0;32m    125\u001b[0m         \u001b[1;32mreturn\u001b[0m \u001b[0mvalue\u001b[0m\u001b[1;33m\u001b[0m\u001b[0m\n",
      "\u001b[1;31mValueError\u001b[0m: list.remove(x): x not in list"
     ]
    }
   ],
   "source": [
    "mip.remove_filter('controller')"
   ]
  },
  {
   "cell_type": "code",
   "execution_count": 21,
   "metadata": {
    "collapsed": false
   },
   "outputs": [
    {
     "name": "stdout",
     "output_type": "stream",
     "text": [
      "> Controller with 6 device(s), 8 signal(s), 4 source(s), 3 sink(s), and 0 filter(s)\n",
      "> devices\n",
      "  1. encoder1[source]\n",
      "  2. encoder2[source]\n",
      "  3. clock[source]\n",
      "  4. motor2[sink]\n",
      "  5. motor1[sink]\n",
      "  6. imu[source]\n",
      "> signals\n",
      "  1. clock\n",
      "  2. encoder1\n",
      "  3. encoder2\n",
      "  4. imu\n",
      "  5. is_running\n",
      "  6. motor1\n",
      "  7. motor2\n",
      "  8. reference1\n",
      "> sources\n",
      "  1. clock[enabled] >> clock\n",
      "  2. encoder1[enabled] >> encoder1\n",
      "  3. encoder2[enabled] >> encoder2\n",
      "  4. imu[disabled] >> imu\n",
      "> filters\n",
      "> sinks\n",
      "  1. motor1 >> motor1[disabled]\n",
      "  2. motor2 >> motor2[disabled]\n",
      "  3. clock, encoder1, reference1, motor1 >> logger[enabled]\n",
      "\n"
     ]
    }
   ],
   "source": [
    "print(mip.info('all'))"
   ]
  },
  {
   "cell_type": "code",
   "execution_count": 22,
   "metadata": {
    "collapsed": false
   },
   "outputs": [
    {
     "name": "stdout",
     "output_type": "stream",
     "text": [
      "> sinks\n",
      "  1. motor1 >> motor1[disabled]\n",
      "  2. motor2 >> motor2[disabled]\n",
      "  3. clock, imu, reference1, motor1 >> logger[enabled]\n",
      "\n"
     ]
    }
   ],
   "source": [
    "mip.add_sink('logger', Logger(), ['clock', 'imu','reference1','motor1'])\n",
    "print(mip.info('sinks'))"
   ]
  },
  {
   "cell_type": "code",
   "execution_count": 53,
   "metadata": {
    "collapsed": false
   },
   "outputs": [],
   "source": [
    "Kp = -200\n",
    "Kd = -10\n",
    "period = 0.01\n",
    "mip.add_filter('controller', \n",
    "               Feedback(block = SISO(model = PID(Kp = Kp, Kd = Kd, period = period))),\n",
    "               ['imu', 'reference1'], \n",
    "               ['motor1'])"
   ]
  },
  {
   "cell_type": "code",
   "execution_count": 48,
   "metadata": {
    "collapsed": false
   },
   "outputs": [
    {
     "name": "stdout",
     "output_type": "stream",
     "text": [
      "> Controller with 6 device(s), 8 signal(s), 4 source(s), 3 sink(s), and 1 filter(s)\n",
      "> devices\n",
      "  1. encoder1[source]\n",
      "  2. encoder2[source]\n",
      "  3. clock[source]\n",
      "  4. motor2[sink]\n",
      "  5. motor1[sink]\n",
      "  6. imu[source]\n",
      "> signals\n",
      "  1. clock\n",
      "  2. encoder1\n",
      "  3. encoder2\n",
      "  4. imu\n",
      "  5. is_running\n",
      "  6. motor1\n",
      "  7. motor2\n",
      "  8. reference1\n",
      "> sources\n",
      "  1. clock[enabled] >> clock\n",
      "  2. encoder1[enabled] >> encoder1\n",
      "  3. encoder2[enabled] >> encoder2\n",
      "  4. imu[disabled] >> imu\n",
      "> filters\n",
      "  1. imu, reference1 >> controller[enabled] >> motor1\n",
      "> sinks\n",
      "  1. motor1 >> motor1[disabled]\n",
      "  2. motor2 >> motor2[disabled]\n",
      "  3. clock, imu, reference1, motor1 >> logger[enabled]\n",
      "\n"
     ]
    }
   ],
   "source": [
    "print(mip.info('all'))"
   ]
  },
  {
   "cell_type": "code",
   "execution_count": 55,
   "metadata": {
    "collapsed": true
   },
   "outputs": [],
   "source": [
    "mip.set_sink('logger',reset=True)\n",
    "with mip:\n",
    "    mip.set_signal('reference1',0)\n",
    "    time.sleep(20)"
   ]
  },
  {
   "cell_type": "code",
   "execution_count": 34,
   "metadata": {
    "collapsed": true
   },
   "outputs": [],
   "source": [
    "log = mip.read_sink('logger')\n",
    "\n",
    "clock = log[:,0]\n",
    "imu = log[:,1]\n",
    "reference1 = log[:,2]\n",
    "motor1 = log[:,3]"
   ]
  },
  {
   "cell_type": "code",
   "execution_count": 35,
   "metadata": {
    "collapsed": false
   },
   "outputs": [
    {
     "data": {
      "image/png": "[encoded data removed]",
      "text/plain": [
       "<matplotlib.figure.Figure at 0x7fcca3cb42b0>"
      ]
     },
     "metadata": {},
     "output_type": "display_data"
    }
   ],
   "source": [
    "plt.plot(clock, imu, \\\n",
    "         clock, reference1)\n",
    "# the next lines will make the plot look nicer\n",
    "plt.xlabel('t (s)')\n",
    "plt.ylabel('position (cycles)')\n",
    "plt.grid()"
   ]
  },
  {
   "cell_type": "code",
   "execution_count": 36,
   "metadata": {
    "collapsed": false
   },
   "outputs": [
    {
     "data": {
      "image/png": "[encoded data removed]",
      "text/plain": [
       "<matplotlib.figure.Figure at 0x7fcca3de6e80>"
      ]
     },
     "metadata": {},
     "output_type": "display_data"
    }
   ],
   "source": [
    "plt.plot(clock, motor1)\n",
    "# the next lines will make the plot look nicer\n",
    "plt.xlabel('t (s)')\n",
    "plt.ylabel('control (%)')\n",
    "plt.grid()"
   ]
  }
 ],
 "metadata": {
  "kernelspec": {
   "display_name": "Python 3",
   "language": "python",
   "name": "python3"
  },
  "language_info": {
   "codemirror_mode": {
    "name": "ipython",
    "version": 3
   },
   "file_extension": ".py",
   "mimetype": "text/x-python",
   "name": "python",
   "nbconvert_exporter": "python",
   "pygments_lexer": "ipython3",
   "version": "3.4.3"
  },
  "widgets": {
   "state": {},
   "version": "1.0.0"
  }
 },
 "nbformat": 4,
 "nbformat_minor": 0
}
