{
 "cells": [
  {
   "cell_type": "markdown",
   "metadata": {},
   "source": [
    "# First Steps with the DC Motor"
   ]
  },
  {
   "cell_type": "markdown",
   "metadata": {},
   "source": [
    "##Preliminaries"
   ]
  },
  {
   "cell_type": "code",
   "execution_count": null,
   "metadata": {
    "collapsed": false
   },
   "outputs": [],
   "source": [
    "import sys\n",
    "sys.path.append('..')"
   ]
  },
  {
   "cell_type": "code",
   "execution_count": null,
   "metadata": {
    "collapsed": false
   },
   "outputs": [],
   "source": [
    "%matplotlib inline  \n",
    "import numpy as np\n",
    "import matplotlib.pyplot as plt\n",
    "import math\n",
    "import time"
   ]
  },
  {
   "cell_type": "code",
   "execution_count": null,
   "metadata": {
    "collapsed": false
   },
   "outputs": [],
   "source": [
    "from ctrl.algo import Proportional, PID, VelocityController, OpenLoop"
   ]
  },
  {
   "cell_type": "markdown",
   "metadata": {},
   "source": [
    "Substitute `HOST` and `PORT` with the IP address and port of your controller:"
   ]
  },
  {
   "cell_type": "code",
   "execution_count": null,
   "metadata": {
    "collapsed": false
   },
   "outputs": [],
   "source": [
    "from ctrl.client import Controller\n",
    "HOST, PORT = \"192.168.10.106\", 9999\n",
    "controller = Controller(HOST, PORT)"
   ]
  },
  {
   "cell_type": "markdown",
   "metadata": {},
   "source": [
    "##How does a DC motor respond to a voltage?\n",
    "\n",
    "Set the controller to be in **open-loop** mode"
   ]
  },
  {
   "cell_type": "code",
   "execution_count": null,
   "metadata": {
    "collapsed": false
   },
   "outputs": [],
   "source": [
    "controller.set_controller1(OpenLoop())"
   ]
  },
  {
   "cell_type": "markdown",
   "metadata": {},
   "source": [
    "and set the reference at 100% for 5 seconds.\n",
    "\n",
    "**IMPORTANT**: After executing the following lines the notebook interface will *freeze* for 5 seconds. You will know when you're done when the \\* inside `In[*]` changes into a number and the circle on the top of the notebook turns empty again."
   ]
  },
  {
   "cell_type": "code",
   "execution_count": null,
   "metadata": {
    "collapsed": true
   },
   "outputs": [],
   "source": [
    "with controller:\n",
    "    controller.set_reference1(100)\n",
    "    time.sleep(5)"
   ]
  },
  {
   "cell_type": "markdown",
   "metadata": {},
   "source": [
    "**TASKS**: \n",
    "1. Modify the the code and set the reference to levels: 75%, 50%, 25% and 0%\n",
    "2. Try a negative reference\n",
    "3. Try a reference greater than 100%\n",
    "\n",
    "**QUESTIONS**:\n",
    "1. How does the motor respond to changes in the reference?\n",
    "2. How does the motor respond to small references? Can you explain it?\n",
    "3. Which physical quantity does *reference* control?\n",
    "\n",
    "##Understanding the python interface\n",
    "\n",
    "### Retrieving and plotting data\n",
    "\n",
    "The controller runs in the background.\n",
    "\n",
    "It *starts* as soon as the `with` is executed and *stops* immediatelly when iPython finishes\n",
    "executing the `with` block.\n",
    "    \n",
    "We use `time.sleep(5)` to keep the `with` block running for 5 seconds.\n",
    "\n",
    "After the block terminates we can use `get_log` to import the data from the controller as a numpy array:"
   ]
  },
  {
   "cell_type": "code",
   "execution_count": null,
   "metadata": {
    "collapsed": true
   },
   "outputs": [],
   "source": [
    "log = controller.get_log()"
   ]
  },
  {
   "cell_type": "markdown",
   "metadata": {},
   "source": [
    "The array `log` is organized in columns as folows:\n",
    "\n",
    "time (s) | position (cycles) | reference (%) | control (%)\n",
    ":----: | :---: | :---: | :---:\n",
    "0.0  | 0.0 | 100 | 0\n",
    "0.1  | 0.2 | 90 | 2\n",
    "... | ... | ... | ...\n",
    "\n",
    "We will use matplotlib to plot the data:"
   ]
  },
  {
   "cell_type": "code",
   "execution_count": null,
   "metadata": {
    "collapsed": false
   },
   "outputs": [],
   "source": [
    "t = log[:,0]\n",
    "position = log[:,1]\n",
    "plt.plot(t, position)\n",
    "# the next lines will make the plot look nicer\n",
    "plt.xlabel('t (s)')\n",
    "plt.ylabel('position (cycles)')\n",
    "plt.grid()"
   ]
  },
  {
   "cell_type": "markdown",
   "metadata": {},
   "source": [
    "### Calculating the velocity\n",
    "\n",
    "Once we have imported the data from the controller box we can easily calculate other quantities using numpy.\n",
    "\n",
    "For example we can calculate and plot the velocity using the following code:"
   ]
  },
  {
   "cell_type": "code",
   "execution_count": null,
   "metadata": {
    "collapsed": false
   },
   "outputs": [],
   "source": [
    "velocity = np.zeros(position.shape)\n",
    "velocity[1:] = (position[1:] - position[:-1])/(t[1:]-t[:-1])\n",
    "plt.plot(t, velocity)\n",
    "plt.xlabel('t (s)')\n",
    "plt.ylabel('position (cycles)')\n",
    "plt.grid()"
   ]
  },
  {
   "cell_type": "markdown",
   "metadata": {},
   "source": [
    "**TASKS**: \n",
    "1. Write python code that resets the controller logger, sets the reference at 50% for 2 seconds then at 0% for 1/2 second and -50% for 2 more seconds then import the data and plot the result using matplotlib\n",
    "\n",
    "**QUESTION**:\n",
    "1. How does the motor respond to different constant *reference*?\n",
    "\n",
    "### Interacting with iPython widgets\n",
    "\n",
    "We can use iPython widgets to interact with the controller.\n",
    "\n",
    "For example we can create a slider that will set the reference for us."
   ]
  },
  {
   "cell_type": "code",
   "execution_count": null,
   "metadata": {
    "collapsed": false
   },
   "outputs": [],
   "source": [
    "from IPython.display import display\n",
    "from IPython.html import widgets\n",
    "\n",
    "def set_reference(value):\n",
    "    controller.set_reference1(value)\n",
    "    \n",
    "w = widgets.interactive(set_reference, value=(-100,100))\n",
    "display(w)"
   ]
  },
  {
   "cell_type": "markdown",
   "metadata": {},
   "source": [
    "Try moving the slider as you `start` the controller."
   ]
  },
  {
   "cell_type": "code",
   "execution_count": null,
   "metadata": {
    "collapsed": false
   },
   "outputs": [],
   "source": [
    "controller.reset_logger()\n",
    "controller.start()\n",
    "controller.set_reference1(0)"
   ]
  },
  {
   "cell_type": "markdown",
   "metadata": {},
   "source": [
    "Don't forget to manually `stop` the controller since we are not using a `with` block:"
   ]
  },
  {
   "cell_type": "code",
   "execution_count": null,
   "metadata": {
    "collapsed": true
   },
   "outputs": [],
   "source": [
    "controller.stop()"
   ]
  },
  {
   "cell_type": "markdown",
   "metadata": {},
   "source": [
    "### Using the potentiometer\n",
    "\n",
    "We can activate the potentiometer in the controller hardware by setting `reference_mode` to 1 instead of the default 0."
   ]
  },
  {
   "cell_type": "code",
   "execution_count": null,
   "metadata": {
    "collapsed": true
   },
   "outputs": [],
   "source": [
    "controller.set_reference1_mode(1)"
   ]
  },
  {
   "cell_type": "markdown",
   "metadata": {},
   "source": [
    "Then run the controller for 10s while changing the potentiometer in the controller box:"
   ]
  },
  {
   "cell_type": "code",
   "execution_count": null,
   "metadata": {
    "collapsed": true
   },
   "outputs": [],
   "source": [
    "with controller:\n",
    "    time.sleep(10)"
   ]
  },
  {
   "cell_type": "markdown",
   "metadata": {},
   "source": [
    "You have to revert the `reference_mode` to 0 for the command `set_reference` to become active again: "
   ]
  },
  {
   "cell_type": "code",
   "execution_count": null,
   "metadata": {
    "collapsed": true
   },
   "outputs": [],
   "source": [
    "controller.set_reference1_mode(0)"
   ]
  }
 ],
 "metadata": {
  "kernelspec": {
   "display_name": "Python 3",
   "language": "python",
   "name": "python3"
  },
  "language_info": {
   "codemirror_mode": {
    "name": "ipython",
    "version": 3
   },
   "file_extension": ".py",
   "mimetype": "text/x-python",
   "name": "python",
   "nbconvert_exporter": "python",
   "pygments_lexer": "ipython3",
   "version": "3.4.3"
  }
 },
 "nbformat": 4,
 "nbformat_minor": 0
}
