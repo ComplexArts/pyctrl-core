{
 "cells": [
  {
   "cell_type": "markdown",
   "metadata": {},
   "source": [
    "# First Steps with the DC Motor"
   ]
  },
  {
   "cell_type": "markdown",
   "metadata": {},
   "source": [
    "## Preliminaries"
   ]
  },
  {
   "cell_type": "code",
   "execution_count": 17,
   "metadata": {
    "collapsed": false
   },
   "outputs": [],
   "source": [
    "import sys\n",
    "sys.path.append('..')"
   ]
  },
  {
   "cell_type": "code",
   "execution_count": 18,
   "metadata": {
    "collapsed": false
   },
   "outputs": [],
   "source": [
    "%matplotlib inline  \n",
    "import numpy as np\n",
    "import matplotlib.pyplot as plt\n",
    "import math\n",
    "import time"
   ]
  },
  {
   "cell_type": "code",
   "execution_count": 19,
   "metadata": {
    "collapsed": false
   },
   "outputs": [],
   "source": [
    "from ctrl.block.linear import ShortCircuit\n",
    "from ctrl.block.logger import Logger"
   ]
  },
  {
   "cell_type": "code",
   "execution_count": 20,
   "metadata": {
    "collapsed": true
   },
   "outputs": [],
   "source": [
    "from ctrl.client import Controller\n",
    "#HOST, PORT = \"localhost\", 9999\n",
    "HOST, PORT = \"192.168.10.104\", 9999\n",
    "controller = Controller(host = HOST, port = PORT)"
   ]
  },
  {
   "cell_type": "markdown",
   "metadata": {},
   "source": [
    "## How does a DC motor respond to a voltage?\n",
    "\n",
    "When you initialize the DC motor controller it has some signals available for use:"
   ]
  },
  {
   "cell_type": "code",
   "execution_count": 21,
   "metadata": {
    "collapsed": false
   },
   "outputs": [
    {
     "name": "stdout",
     "output_type": "stream",
     "text": [
      "> signals\n",
      "  1. clock\n",
      "  2. encoder1\n",
      "  3. motor1\n",
      "  4. pot1\n",
      "\n"
     ]
    }
   ],
   "source": [
    "controller.reset()\n",
    "print(controller.info('signals'))"
   ]
  },
  {
   "cell_type": "markdown",
   "metadata": {},
   "source": [
    "In order to make the DC motor move we set the signal *motor1* to 100% for 5 seconds.\n",
    "\n",
    "**IMPORTANT**: After executing the following lines the notebook interface will *freeze* for 5 seconds. You will know when you're done when the \\* inside `In[*]` changes into a number and the circle on the top of the notebook turns empty again."
   ]
  },
  {
   "cell_type": "code",
   "execution_count": 22,
   "metadata": {
    "collapsed": false
   },
   "outputs": [],
   "source": [
    "with controller:\n",
    "    controller.set_signal('motor1', 100)\n",
    "    time.sleep(5)"
   ]
  },
  {
   "cell_type": "markdown",
   "metadata": {},
   "source": [
    "**TASKS**: \n",
    "1. Modify the the code and set the reference to levels: 75%, 50%, 25% and 0%\n",
    "2. Try a negative reference\n",
    "3. Try a reference greater than 100%\n",
    "\n",
    "**QUESTIONS**:\n",
    "1. How does the motor respond to changes in the reference?\n",
    "2. How does the motor respond to small references? Can you explain it?\n",
    "3. Which physical quantity does *reference* control?\n",
    "\n",
    "## Understanding the python interface\n",
    "\n",
    "The controller runs in the background.\n",
    "\n",
    "It *starts* as soon as the `with` is executed and *stops* immediatelly when iPython finishes\n",
    "executing the `with` block.\n",
    "    \n",
    "We use `time.sleep(5)` to keep the `with` block running for 5 seconds.\n",
    "\n",
    "### Attaching a Logger\n",
    "\n",
    "If you want to inspect the data collected when you run the motor you will need to attach a *Logger* to controller. The *Loger* is a **sink**, that is, it is a block that has only inputs and produces no output in the control algorithm. We use the following code to attach a *Logger* to the controller:"
   ]
  },
  {
   "cell_type": "code",
   "execution_count": 23,
   "metadata": {
    "collapsed": false
   },
   "outputs": [],
   "source": [
    "controller.add_sink('logger', Logger(), ['clock', 'encoder1'])"
   ]
  },
  {
   "cell_type": "markdown",
   "metadata": {},
   "source": [
    "This command means that a *Logger* named *logger* is been attached to the controller as a sink and its inputs are the signal *clock* and *encoder1*. This *Logger* will record the time (*clock*) and the motor position (*encoder*).\n",
    "\n",
    "Let us verify that the *logger* is now part of the controller:"
   ]
  },
  {
   "cell_type": "code",
   "execution_count": 24,
   "metadata": {
    "collapsed": false
   },
   "outputs": [
    {
     "name": "stdout",
     "output_type": "stream",
     "text": [
      "> sinks\n",
      "  1. motor1 >> motor1[disabled]\n",
      "  2. clock, encoder1 >> logger[enabled]\n",
      "\n"
     ]
    }
   ],
   "source": [
    "print(controller.info('sinks'))"
   ]
  },
  {
   "cell_type": "markdown",
   "metadata": {},
   "source": [
    "After attaching the *Logger* we need to run the motor again to generate some data:"
   ]
  },
  {
   "cell_type": "code",
   "execution_count": 25,
   "metadata": {
    "collapsed": true
   },
   "outputs": [],
   "source": [
    "with controller:\n",
    "    controller.set_signal('motor1', 100)\n",
    "    time.sleep(5)"
   ]
  },
  {
   "cell_type": "markdown",
   "metadata": {},
   "source": [
    "We access the data by *reading* the *sink* named *logger*:"
   ]
  },
  {
   "cell_type": "code",
   "execution_count": 26,
   "metadata": {
    "collapsed": false
   },
   "outputs": [],
   "source": [
    "log = controller.read_sink('logger')"
   ]
  },
  {
   "cell_type": "markdown",
   "metadata": {},
   "source": [
    "The data is imported from the controller as a *numpy array* which we label `log`. \n",
    "\n",
    "The array `log` is organized in columns as folows:\n",
    "\n",
    "clock (s) | encoder1 (cycles)\n",
    ":----: | :---:\n",
    "0.0  | 0.0\n",
    "0.1  | 0.2\n",
    "... | ... \n",
    "\n",
    "We will use matplotlib to plot the data:"
   ]
  },
  {
   "cell_type": "code",
   "execution_count": 27,
   "metadata": {
    "collapsed": false
   },
   "outputs": [
    {
     "data": {
      "image/png": "[encoded data removed]",
      "text/plain": [
       "<matplotlib.figure.Figure at 0x106e46048>"
      ]
     },
     "metadata": {},
     "output_type": "display_data"
    }
   ],
   "source": [
    "t = log[:,0]\n",
    "position = log[:,1]\n",
    "\n",
    "plt.plot(t, position)\n",
    "# the next lines will make the plot look nicer\n",
    "plt.xlabel('t (s)')\n",
    "plt.ylabel('position (cycles)')\n",
    "plt.grid()"
   ]
  },
  {
   "cell_type": "markdown",
   "metadata": {},
   "source": [
    "### Calculating the velocity\n",
    "\n",
    "Once we have imported the data from the controller box we can easily calculate other quantities using numpy.\n",
    "\n",
    "For example we can calculate and plot the velocity using the following code:"
   ]
  },
  {
   "cell_type": "code",
   "execution_count": 28,
   "metadata": {
    "collapsed": false
   },
   "outputs": [
    {
     "data": {
      "image/png": "[encoded data removed]",
      "text/plain": [
       "<matplotlib.figure.Figure at 0x106e11b00>"
      ]
     },
     "metadata": {},
     "output_type": "display_data"
    }
   ],
   "source": [
    "velocity = np.zeros(position.shape)\n",
    "velocity[1:] = (position[1:] - position[:-1])/(t[1:]-t[:-1])\n",
    "\n",
    "plt.plot(t, velocity)\n",
    "plt.xlabel('t (s)')\n",
    "plt.ylabel('velocity (cycles)')\n",
    "plt.grid()"
   ]
  },
  {
   "cell_type": "markdown",
   "metadata": {},
   "source": [
    "**TASKS**: \n",
    "1. Write python code that resets the controller logger, sets the reference at 50% for 2 seconds then at 0% for 1/2 second and -50% for 2 more seconds then import the data and plot the result using matplotlib\n",
    "\n",
    "**QUESTION**:\n",
    "1. How does the motor respond to different constant *reference*?\n",
    "\n",
    "### Interacting with iPython widgets\n",
    "\n",
    "We can use iPython widgets to interact with the controller.\n",
    "\n",
    "For example we can create a slider that will set the reference for us."
   ]
  },
  {
   "cell_type": "code",
   "execution_count": 29,
   "metadata": {
    "collapsed": false
   },
   "outputs": [
    {
     "name": "stderr",
     "output_type": "stream",
     "text": [
      ":0: FutureWarning: IPython widgets are experimental and may change in the future.\n"
     ]
    }
   ],
   "source": [
    "from IPython.display import display\n",
    "from IPython.html import widgets\n",
    "\n",
    "def set_reference(value):\n",
    "    controller.set_signal('motor1',value)\n",
    "    \n",
    "w = widgets.interactive(set_reference, value=(-100,100))\n",
    "display(w)"
   ]
  },
  {
   "cell_type": "markdown",
   "metadata": {},
   "source": [
    "Try moving the slider as you `start` the controller."
   ]
  },
  {
   "cell_type": "code",
   "execution_count": 30,
   "metadata": {
    "collapsed": false
   },
   "outputs": [],
   "source": [
    "controller.set_sink('logger', reset=True)\n",
    "controller.start()\n",
    "controller.set_signal('motor1',0)"
   ]
  },
  {
   "cell_type": "markdown",
   "metadata": {},
   "source": [
    "Don't forget to manually `stop` the controller since we are not using a `with` block:"
   ]
  },
  {
   "cell_type": "code",
   "execution_count": 31,
   "metadata": {
    "collapsed": true
   },
   "outputs": [],
   "source": [
    "controller.stop()"
   ]
  },
  {
   "cell_type": "markdown",
   "metadata": {},
   "source": [
    "### Using the potentiometer\n",
    "\n",
    "We can activate the potentiometer in the controller hardware by setting `reference_mode` to 1 instead of the default 0."
   ]
  },
  {
   "cell_type": "code",
   "execution_count": 32,
   "metadata": {
    "collapsed": false
   },
   "outputs": [],
   "source": [
    "controller.add_filter('pot1', ShortCircuit(), ['pot1'], ['motor1'])"
   ]
  },
  {
   "cell_type": "code",
   "execution_count": 33,
   "metadata": {
    "collapsed": false
   },
   "outputs": [
    {
     "name": "stdout",
     "output_type": "stream",
     "text": [
      "> filters\n",
      "  1. pot1 >> pot1[enabled] >> motor1\n",
      "\n"
     ]
    }
   ],
   "source": [
    "print(controller.info('filters'))"
   ]
  },
  {
   "cell_type": "markdown",
   "metadata": {},
   "source": [
    "Then run the controller for 10s while changing the potentiometer in the controller box:"
   ]
  },
  {
   "cell_type": "code",
   "execution_count": 34,
   "metadata": {
    "collapsed": true
   },
   "outputs": [],
   "source": [
    "with controller:\n",
    "    time.sleep(15)"
   ]
  },
  {
   "cell_type": "markdown",
   "metadata": {},
   "source": [
    "Simply remove the *ShortCircuit* to go back to the previous behaviour"
   ]
  },
  {
   "cell_type": "code",
   "execution_count": 35,
   "metadata": {
    "collapsed": true
   },
   "outputs": [],
   "source": [
    "controller.remove_filter('pot1')"
   ]
  },
  {
   "cell_type": "code",
   "execution_count": null,
   "metadata": {
    "collapsed": true
   },
   "outputs": [],
   "source": []
  }
 ],
 "metadata": {
  "kernelspec": {
   "display_name": "Python 3",
   "language": "python",
   "name": "python3"
  },
  "language_info": {
   "codemirror_mode": {
    "name": "ipython",
    "version": 3
   },
   "file_extension": ".py",
   "mimetype": "text/x-python",
   "name": "python",
   "nbconvert_exporter": "python",
   "pygments_lexer": "ipython3",
   "version": "3.4.3"
  }
 },
 "nbformat": 4,
 "nbformat_minor": 0
}
